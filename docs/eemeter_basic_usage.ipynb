{
 "cells": [
  {
   "cell_type": "markdown",
   "metadata": {},
   "source": [
    "> Note:\n",
    ">\n",
    "> Most users of the EEmeter stack do not directly use the `eemeter`\n",
    "> package for loading their data. Instead, they use the `datastore`,\n",
    "> which uses the eemeter internally. To learn to use the datastore, head\n",
    "> over to the datastore basic usage tutorial.\n",
    "\n",
    "Data preparation\n",
    "----------------\n",
    "\n",
    "The basic container for project data is the `eemeter.structures.Project`\n",
    "object. This object contains all of the data necessary for running a meter.\n",
    "\n",
    "There are three items it requires:\n",
    "\n",
    "1. An `EnergyTraceSet`, which is a collection of `EnergyTrace`s\n",
    "2. An `list` of `Intervention`s\n",
    "3. An `eemeter.structures.ZIPCodeSite`\n",
    "\n",
    "Let's start by creating an `EnergyTrace`. Internally, `EnergyTrace`\n",
    "objects use [numpy](http://docs.scipy.org/doc/numpy/reference/) and\n",
    "[pandas](<http://pandas.pydata.org/pandas-docs/stable/), which are nearly\n",
    "ubiquitous python packages for efficient numerical computation and\n",
    "data analysis, respectively.\n",
    "\n",
    "Since this data is not in a format eemeter recognizes, we need to load it.\n",
    "Let's load this data using a parser we create to turn this data into a\n",
    "format that eemeter recognizes.\n",
    "\n",
    "\n",
    "We will load data from formatted records using an\n",
    "`eemeter.io.serializer.ArbitraryStartSerializer`."
   ]
  },
  {
   "cell_type": "code",
   "execution_count": 1,
   "metadata": {
    "collapsed": true
   },
   "outputs": [],
   "source": [
    "# library imports\n",
    "from eemeter.structures import (\n",
    "    EnergyTrace,\n",
    "    EnergyTraceSet,\n",
    "    Intervention,\n",
    "    ZIPCodeSite,\n",
    "    Project\n",
    ")\n",
    "from eemeter.io.serializers import ArbitraryStartSerializer\n",
    "from eemeter.ee.meter import EnergyEfficiencyMeter\n",
    "import pandas as pd\n",
    "import pytz"
   ]
  },
  {
   "cell_type": "markdown",
   "metadata": {},
   "source": [
    "First, we import the energy data from the sample CSV and transform it into records"
   ]
  },
  {
   "cell_type": "code",
   "execution_count": 2,
   "metadata": {
    "collapsed": false
   },
   "outputs": [],
   "source": [
    "energy_data = pd.read_csv('sample-energy-data_project-ABC_zipcode-50321.csv',\n",
    "                          parse_dates=['date'], dtype={'zipcode': str})\n",
    "records = [{\n",
    "    \"start\": pytz.UTC.localize(row.date.to_datetime()),\n",
    "    \"value\": row.value,\n",
    "    \"estimated\": row.estimated,\n",
    "} for _, row in energy_data.iterrows()]"
   ]
  },
  {
   "cell_type": "markdown",
   "metadata": {},
   "source": [
    "The records we just created look like this:\n",
    "\n",
    "    >>> records\n",
    "    [\n",
    "        {\n",
    "            'estimated': False,\n",
    "            'start': datetime.datetime(2011, 1, 1, 0, 0, tzinfo=<UTC>),\n",
    "            'value': 57.8\n",
    "        },\n",
    "        {\n",
    "            'estimated': False,\n",
    "            'start': datetime.datetime(2011, 1, 2, 0, 0, tzinfo=<UTC>),\n",
    "            'value': 64.8\n",
    "        },\n",
    "        {\n",
    "            'estimated': False,\n",
    "            'start': datetime.datetime(2011, 1, 3, 0, 0, tzinfo=<UTC>),\n",
    "            'value': 49.5\n",
    "        },\n",
    "        ...\n",
    "    ]"
   ]
  },
  {
   "cell_type": "markdown",
   "metadata": {},
   "source": [
    "Next, we load our records into an `EnergyTrace`. We give it units `\"kWh\"` and interpretation `\"ELECTRICITY_CONSUMPTION_SUPPLIED\"`, which means that this is electricity consumed by the building and supplied by a utility (rather than by solar panels or other on-site generation). We also pass in an instance of the record serializer `ArbitraryStartSerializer` to show it how to interpret the records."
   ]
  },
  {
   "cell_type": "code",
   "execution_count": 3,
   "metadata": {
    "collapsed": true
   },
   "outputs": [],
   "source": [
    "energy_trace = EnergyTrace(\n",
    "    records=records,\n",
    "    unit=\"KWH\",\n",
    "    interpretation=\"ELECTRICITY_CONSUMPTION_SUPPLIED\",\n",
    "    serializer=ArbitraryStartSerializer())"
   ]
  },
  {
   "cell_type": "markdown",
   "metadata": {},
   "source": [
    "The energy trace data looks like this:\n",
    "\n",
    "    >>> energy_trace.data[:3]\n",
    "                               value estimated\n",
    "    2011-01-01 00:00:00+00:00   57.8     False\n",
    "    2011-01-02 00:00:00+00:00   64.8     False\n",
    "    2011-01-03 00:00:00+00:00   49.5     False"
   ]
  },
  {
   "cell_type": "markdown",
   "metadata": {},
   "source": [
    "Though we only have one trace here, we will often have more than one trace. Because of that, projects expect an `EnergyTraceSet`, which is a labeled set of `EnergyTraces`. We give it the `trace_id` supplied in the CSV."
   ]
  },
  {
   "cell_type": "code",
   "execution_count": 4,
   "metadata": {
    "collapsed": false
   },
   "outputs": [],
   "source": [
    "energy_trace_set = EnergyTraceSet([energy_trace], labels=[\"DEF\"])"
   ]
  },
  {
   "cell_type": "markdown",
   "metadata": {},
   "source": [
    "Now we load the rest of the project data from the sample project data CSV. This CSV includes the project_id (Which we don't use in this tutorial), the ZIP code of the building, and the dates retrofit work for this project started and completed."
   ]
  },
  {
   "cell_type": "code",
   "execution_count": 5,
   "metadata": {
    "collapsed": false
   },
   "outputs": [],
   "source": [
    "project_data = pd.read_csv('sample-project-data.csv',\n",
    "                           parse_dates=['retrofit_start_date', 'retrofit_end_date']).iloc[0]"
   ]
  },
  {
   "cell_type": "markdown",
   "metadata": {},
   "source": [
    "We create an `Intervention` from the retrofit start and end dates and wrap it in a list:"
   ]
  },
  {
   "cell_type": "code",
   "execution_count": 6,
   "metadata": {
    "collapsed": false
   },
   "outputs": [],
   "source": [
    "retrofit_start_date = pytz.UTC.localize(project_data.retrofit_start_date)\n",
    "retrofit_end_date = pytz.UTC.localize(project_data.retrofit_end_date)\n",
    "\n",
    "interventions = [Intervention(retrofit_start_date, retrofit_end_date)]"
   ]
  },
  {
   "cell_type": "markdown",
   "metadata": {},
   "source": [
    "Then we create a `ZIPCodeSite` for the project by passing in the zipcode:"
   ]
  },
  {
   "cell_type": "code",
   "execution_count": 7,
   "metadata": {
    "collapsed": false
   },
   "outputs": [],
   "source": [
    "site = ZIPCodeSite(project_data.zipcode)"
   ]
  },
  {
   "cell_type": "markdown",
   "metadata": {},
   "source": [
    "Now we can create a project using the data we've loaded"
   ]
  },
  {
   "cell_type": "code",
   "execution_count": 8,
   "metadata": {
    "collapsed": false
   },
   "outputs": [],
   "source": [
    "project = Project(energy_trace_set=energy_trace_set, interventions=interventions, site=site)"
   ]
  },
  {
   "cell_type": "markdown",
   "metadata": {},
   "source": [
    "Running meters\n",
    "--------------\n",
    "\n",
    "To run the EEmeter on the project, instantiate an `EnergyEfficiencyMeter` and run the `.evaluate(project)` method, passing in the project we just created:"
   ]
  },
  {
   "cell_type": "code",
   "execution_count": 9,
   "metadata": {
    "collapsed": false
   },
   "outputs": [
    {
     "name": "stderr",
     "output_type": "stream",
     "text": [
      "/Users/philngo/.virtualenvs/eemeter/lib/python3.4/site-packages/pandas/core/indexing.py:128: SettingWithCopyWarning: \n",
      "A value is trying to be set on a copy of a slice from a DataFrame\n",
      "\n",
      "See the caveats in the documentation: http://pandas.pydata.org/pandas-docs/stable/indexing.html#indexing-view-versus-copy\n",
      "  self._setitem_with_indexer(indexer, value)\n"
     ]
    },
    {
     "data": {
      "text/plain": [
       "<matplotlib.figure.Figure at 0x10c383a20>"
      ]
     },
     "metadata": {},
     "output_type": "display_data"
    },
    {
     "name": "stderr",
     "output_type": "stream",
     "text": [
      "/Users/philngo/.virtualenvs/eemeter/lib/python3.4/site-packages/pandas/core/indexing.py:128: SettingWithCopyWarning: \n",
      "A value is trying to be set on a copy of a slice from a DataFrame\n",
      "\n",
      "See the caveats in the documentation: http://pandas.pydata.org/pandas-docs/stable/indexing.html#indexing-view-versus-copy\n",
      "  self._setitem_with_indexer(indexer, value)\n"
     ]
    },
    {
     "data": {
      "text/plain": [
       "<matplotlib.figure.Figure at 0x10d045ba8>"
      ]
     },
     "metadata": {},
     "output_type": "display_data"
    }
   ],
   "source": [
    "meter = EnergyEfficiencyMeter()\n",
    "results = meter.evaluate(project)"
   ]
  },
  {
   "cell_type": "markdown",
   "metadata": {},
   "source": [
    "That's it! Now we can inspect and use our results."
   ]
  },
  {
   "cell_type": "markdown",
   "metadata": {},
   "source": [
    "Inspecting results\n",
    "------------------\n",
    "\n",
    "Let's quickly look through the results object so that we can understand what they mean. The results are embedded in a nested python `dict`:\n",
    "\n",
    "    >>> results\n",
    "    {\n",
    "        'weather_normal_source': TMY3WeatherSource(\"725460\"),\n",
    "        'weather_source': ISDWeatherSource(\"725460\"),\n",
    "        'modeling_period_set': ModelingPeriodSet(),\n",
    "        'modeled_energy_traces': {\n",
    "            'DEF': SplitModeledEnergyTrace()\n",
    "        },\n",
    "        'modeled_energy_trace_derivatives': {\n",
    "            'DEF': {\n",
    "                ('baseline', 'reporting'): {\n",
    "                    'BASELINE': {\n",
    "                        'annualized_weather_normal': (11051.6, 142.4, 156.4, 365),\n",
    "                        'gross_predicted': (31806.3, 251.5, 276.1, 1138)\n",
    "                    },\n",
    "                    'REPORTING': {\n",
    "                        'annualized_weather_normal': (8758.2, 121.9, 137.2, 365),\n",
    "                         'gross_predicted': (25208.1, 215.2, 242.3, 1138)\n",
    "                    }\n",
    "                }\n",
    "            }\n",
    "        },\n",
    "        'project_derivatives': {\n",
    "            ('baseline', 'reporting'): {\n",
    "                'ALL_FUELS_CONSUMPTION_SUPPLIED': {\n",
    "                    'BASELINE': {\n",
    "                        'annualized_weather_normal': (11051.6, 142.4, 156.4, 365),\n",
    "                        'gross_predicted': (31806.3, 251.5, 276.1, 1138)\n",
    "                    },\n",
    "                    'REPORTING': {\n",
    "                        'annualized_weather_normal': (8758.2, 121.9, 137.2, 365),\n",
    "                         'gross_predicted': (25208.1, 215.2, 242.3, 1138)\n",
    "                    }\n",
    "                },\n",
    "                'ELECTRICITY_CONSUMPTION_SUPPLIED': {\n",
    "                    'BASELINE': {\n",
    "                        'annualized_weather_normal': (11051.6, 142.4, 156.4, 365),\n",
    "                        'gross_predicted': (31806.3, 251.5, 276.1, 1138)\n",
    "                    },\n",
    "                    'REPORTING': {\n",
    "                        'annualized_weather_normal': (8758.2, 121.9, 137.2, 365),\n",
    "                         'gross_predicted': (25208.1, 215.2, 242.3, 1138)\n",
    "                    }\n",
    "                },\n",
    "                'ELECTRICITY_ON_SITE_GENERATION_UNCONSUMED': None,\n",
    "                'NATURAL_GAS_CONSUMPTION_SUPPLIED': None\n",
    "            }\n",
    "        },\n",
    "    }\n"
   ]
  },
  {
   "cell_type": "markdown",
   "metadata": {},
   "source": [
    "Note the contents of the dictionary:\n",
    "\n",
    "- `'weather_source'`: An instance of `eemeter.weather.ISDWeatherSource`. The weather source used to gather observed weather data. The station at which this weather was recorded can be found by inspecting `weather_source.station`.(Matched by ZIP code)\n",
    "- `'weather_normal_source'`: An instance of `eemeter.weather.TMY3WeatherSource`. The weather normal source used to gather weather normal data. The station at which this weather normal data was recorded can be found by inspecting `weather_normal_source.station`.(Matched by ZIP code)\n",
    "- `'modeling_period_set'`: An instance of `eemeter.structures.ModelingPeriodSet`. The modeling periods determined by the intervention start and end dates; includes groupings. The default grouping for a single intervention is into two modeling periods called \"baseline\" and \"reporting\".\n",
    "- `'modeled_energy_traces'`: `SplitModeledEnergyTraces` instances\n",
    "  keyed by `trace_id` (as given in the `EnergyTraceSet`; includes\n",
    "  models and fit statistics for each modeling period.\n",
    "- `'modeled_energy_trace_derivatives'`: energy results specific to each\n",
    "  modeled energy trace, organized by trace_id and modeling period group.\n",
    "- `'project_derivatives'`: Project-level results which are aggregated up from the `'modeled_energy_trace_derivatives'`.\n",
    "\n",
    "The project derivatives are nested quite deeply. The nesting of key-value pairs is as follows:\n",
    "\n",
    "- 1st layer: Modeling Period Set id: a tuple of 1 baseline period id and 1 reporting period id, usually `('baseline', 'reporting')` - contains the results specific to this pair of modeling periods.\n",
    "- 2nd layer: Trace interpretation: a string describing the trace interpretation; in our case `\"ELECTRICITY_CONSUMPTION_SUPPLIED\"`\n",
    "- 3rd layer: `'BASELINE'` and `'REPORTING'` - these are fixed labels that always appear at this level; they demarcate the baseline aggregations and the reporting aggregations.\n",
    "- 4th layer: `'annualized_weather_normal'` and `'gross_predicted'` - these are also fixed labels that always appear at this level to indicate the type of the savings values\n",
    "\n",
    "At the final layers are a 4-tuple of results `(value, lower, upper, n)`: `value`, indicating the estimated expected value of the selected result; `lower`, a number which can be subtracted from `value` to obtain the lower 95% confidence interval bound; `upper`,  a number which can be added to `value` to obtain the upper 95% confidence interval bound, and `n`, the total number of records that went into calculation of this value.\n",
    "\n",
    "To obtain savings numbers, the reporting value should be subtracted from the baseline value as described in the methods overview."
   ]
  },
  {
   "cell_type": "markdown",
   "metadata": {},
   "source": [
    "Let's select the most useful results from the eemeter, the project-level derivatives. Note the modeling_period_set selector at the first level: `('baseline', 'reporting')`"
   ]
  },
  {
   "cell_type": "code",
   "execution_count": 10,
   "metadata": {
    "collapsed": false
   },
   "outputs": [],
   "source": [
    "project_derivatives = results['project_derivatives']"
   ]
  },
  {
   "cell_type": "code",
   "execution_count": 11,
   "metadata": {
    "collapsed": false
   },
   "outputs": [
    {
     "data": {
      "text/plain": [
       "dict_keys([('baseline', 'reporting')])"
      ]
     },
     "execution_count": 11,
     "metadata": {},
     "output_type": "execute_result"
    }
   ],
   "source": [
    "project_derivatives.keys()"
   ]
  },
  {
   "cell_type": "code",
   "execution_count": 12,
   "metadata": {
    "collapsed": true
   },
   "outputs": [],
   "source": [
    "modeling_period_set_results = project_derivatives[('baseline', 'reporting')]"
   ]
  },
  {
   "cell_type": "markdown",
   "metadata": {},
   "source": [
    "Now we can select the desired interpretation; four are available."
   ]
  },
  {
   "cell_type": "code",
   "execution_count": 13,
   "metadata": {
    "collapsed": false
   },
   "outputs": [
    {
     "data": {
      "text/plain": [
       "dict_keys(['ELECTRICITY_ON_SITE_GENERATION_UNCONSUMED', 'NATURAL_GAS_CONSUMPTION_SUPPLIED', 'ALL_FUELS_CONSUMPTION_SUPPLIED', 'ELECTRICITY_CONSUMPTION_SUPPLIED'])"
      ]
     },
     "execution_count": 13,
     "metadata": {},
     "output_type": "execute_result"
    }
   ],
   "source": [
    "modeling_period_set_results.keys()"
   ]
  },
  {
   "cell_type": "code",
   "execution_count": 14,
   "metadata": {
    "collapsed": true
   },
   "outputs": [],
   "source": [
    "electricity_consumption_supplied_results = modeling_period_set_results['ELECTRICITY_CONSUMPTION_SUPPLIED']"
   ]
  },
  {
   "cell_type": "markdown",
   "metadata": {},
   "source": [
    "The interpretation level results are broken into `\"BASELINE\"` and `\"REPORTING\"` in all cases in which they are available; otherwise; the value is None."
   ]
  },
  {
   "cell_type": "code",
   "execution_count": 15,
   "metadata": {
    "collapsed": false
   },
   "outputs": [
    {
     "data": {
      "text/plain": [
       "dict_keys(['BASELINE', 'REPORTING'])"
      ]
     },
     "execution_count": 15,
     "metadata": {},
     "output_type": "execute_result"
    }
   ],
   "source": [
    "electricity_consumption_supplied_results.keys()"
   ]
  },
  {
   "cell_type": "code",
   "execution_count": 16,
   "metadata": {
    "collapsed": true
   },
   "outputs": [],
   "source": [
    "baseline_results = electricity_consumption_supplied_results[\"BASELINE\"]\n",
    "reporting_results = electricity_consumption_supplied_results[\"REPORTING\"]"
   ]
  },
  {
   "cell_type": "markdown",
   "metadata": {},
   "source": [
    "These results have two components as well - the type of savings."
   ]
  },
  {
   "cell_type": "code",
   "execution_count": 17,
   "metadata": {
    "collapsed": false
   },
   "outputs": [
    {
     "data": {
      "text/plain": [
       "dict_keys(['gross_predicted', 'annualized_weather_normal'])"
      ]
     },
     "execution_count": 17,
     "metadata": {},
     "output_type": "execute_result"
    }
   ],
   "source": [
    "baseline_results.keys()"
   ]
  },
  {
   "cell_type": "code",
   "execution_count": 18,
   "metadata": {
    "collapsed": false
   },
   "outputs": [
    {
     "data": {
      "text/plain": [
       "dict_keys(['gross_predicted', 'annualized_weather_normal'])"
      ]
     },
     "execution_count": 18,
     "metadata": {},
     "output_type": "execute_result"
    }
   ],
   "source": [
    "reporting_results.keys()"
   ]
  },
  {
   "cell_type": "markdown",
   "metadata": {},
   "source": [
    "We select the results for one of them:"
   ]
  },
  {
   "cell_type": "code",
   "execution_count": 19,
   "metadata": {
    "collapsed": false
   },
   "outputs": [],
   "source": [
    "baseline_normal = baseline_results['annualized_weather_normal']\n",
    "reporting_normal = reporting_results['annualized_weather_normal']"
   ]
  },
  {
   "cell_type": "markdown",
   "metadata": {},
   "source": [
    "As described above, each energy value also includes upper and lower bounds, but can also be used directly to determine savings."
   ]
  },
  {
   "cell_type": "code",
   "execution_count": 20,
   "metadata": {
    "collapsed": false
   },
   "outputs": [],
   "source": [
    "percent_savings = (baseline_normal[0] - reporting_normal[0]) / baseline_normal[0]"
   ]
  },
  {
   "cell_type": "code",
   "execution_count": 21,
   "metadata": {
    "collapsed": false
   },
   "outputs": [
    {
     "data": {
      "text/plain": [
       "0.20751319075256849"
      ]
     },
     "execution_count": 21,
     "metadata": {},
     "output_type": "execute_result"
    }
   ],
   "source": [
    "percent_savings"
   ]
  },
  {
   "cell_type": "markdown",
   "metadata": {},
   "source": [
    "This percent savings value (~20%) is consistent with the savings created in the\n",
    "fake data."
   ]
  }
 ],
 "metadata": {
  "kernelspec": {
   "display_name": "Python 3",
   "language": "python",
   "name": "python3"
  },
  "language_info": {
   "codemirror_mode": {
    "name": "ipython",
    "version": 3
   },
   "file_extension": ".py",
   "mimetype": "text/x-python",
   "name": "python",
   "nbconvert_exporter": "python",
   "pygments_lexer": "ipython3",
   "version": "3.4.3"
  }
 },
 "nbformat": 4,
 "nbformat_minor": 0
}
