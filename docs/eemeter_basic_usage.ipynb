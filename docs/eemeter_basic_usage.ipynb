{
 "cells": [
  {
   "cell_type": "raw",
   "metadata": {
    "raw_mimetype": "text/restructuredtext"
   },
   "source": [
    "Basic Usage: eemeter package\n",
    "----------------------------\n",
    "\n",
    "This tutorial is also available as a jupyter :download:`notebook <eemeter_basic_usage.ipynb>`"
   ]
  },
  {
   "cell_type": "markdown",
   "metadata": {},
   "source": [
    "<div class=\"alert alert-info\">\n",
    "\n",
    "**Note:**\n",
    "\n",
    "Most users of the EEmeter stack do not directly use the `eemeter`\n",
    "package for loading their data. Instead, they use the datastore application,\n",
    "which uses the eemeter internally. To learn to use the datastore, head\n",
    "over to the datastore basic usage tutorial.\n",
    "\n",
    "</div>"
   ]
  },
  {
   "cell_type": "markdown",
   "metadata": {},
   "source": [
    "## Running a meter"
   ]
  },
  {
   "cell_type": "raw",
   "metadata": {
    "raw_mimetype": "text/restructuredtext"
   },
   "source": [
    ".. If you are running tutorial as a jupyter notebook, the download is\n",
    "   available where you downloaded this notebook on eemeter.readthedocs.io\n",
    "\n",
    "Please download a preformatted input :download:`file <meter_input_example.json>`."
   ]
  },
  {
   "cell_type": "markdown",
   "metadata": {},
   "source": [
    "We can load this input file into memory with the following:"
   ]
  },
  {
   "cell_type": "code",
   "execution_count": 1,
   "metadata": {
    "collapsed": true
   },
   "outputs": [],
   "source": [
    "import json\n",
    "\n",
    "with open('meter_input_example.json', 'r') as f:  # modify to point to your downloaded input file.\n",
    "    meter_input = json.load(f)"
   ]
  },
  {
   "cell_type": "markdown",
   "metadata": {},
   "source": [
    "The file has a single trace of hourly electricity consumption data and some associated project data. Its contents looks like this:"
   ]
  },
  {
   "cell_type": "code",
   "execution_count": 2,
   "metadata": {
    "collapsed": false
   },
   "outputs": [
    {
     "name": "stdout",
     "output_type": "stream",
     "text": [
      "{\r\n",
      "  \"type\": \"SINGLE_TRACE_SIMPLE_PROJECT\", \r\n",
      "  \"trace\": {\r\n",
      "    \"type\": \"ARBITRARY_START\", \r\n",
      "    \"interpretation\": \"ELECTRICITY_CONSUMPTION_SUPPLIED\", \r\n",
      "    \"unit\": \"KWH\", \r\n",
      "    \"records\": [\r\n",
      "      {\r\n",
      "        \"start\": \"2012-01-01T00:00:00+00:00\", \r\n",
      "        \"value\": 0.5148, \r\n",
      "        \"estimated\": false\r\n",
      "      }, \r\n",
      "      {\r\n",
      "        \"start\": \"2012-01-01T01:00:00+00:00\", \r\n",
      "        \"value\": 0.9943, \r\n"
     ]
    }
   ],
   "source": [
    "!head -15 meter_input_example.json"
   ]
  },
  {
   "cell_type": "code",
   "execution_count": 3,
   "metadata": {
    "collapsed": false
   },
   "outputs": [
    {
     "name": "stdout",
     "output_type": "stream",
     "text": [
      "        \"value\": 0.4756, \r\n",
      "        \"estimated\": false\r\n",
      "      }, \r\n",
      "      {\r\n",
      "        \"start\": \"2016-07-18T23:00:00+00:00\", \r\n",
      "        \"value\": 0.4472, \r\n",
      "        \"estimated\": false\r\n",
      "      }\r\n",
      "    ]\r\n",
      "  }, \r\n",
      "  \"project\": {\r\n",
      "    \"type\": \"PROJECT_WITH_SINGLE_MODELING_PERIOD_GROUP\", \r\n",
      "    \"zipcode\": \"95625\", \r\n",
      "    \"modeling_period_group\": {\r\n",
      "      \"baseline_period\": {\r\n",
      "        \"start\": null, \r\n",
      "        \"end\": \"2014-10-01T00:00:00+00:00\"\r\n",
      "      }, \r\n",
      "      \"reporting_period\": {\r\n",
      "        \"start\": \"2014-11-01T00:00:00+00:00\", \r\n",
      "        \"end\": null\r\n",
      "      }\r\n",
      "    }\r\n",
      "  }\r\n",
      "}\r\n"
     ]
    }
   ],
   "source": [
    "!tail -25 meter_input_example.json"
   ]
  },
  {
   "cell_type": "markdown",
   "metadata": {},
   "source": [
    "Next, we can create a meter, model and formatter. These work in tandem to create a model of energy usage.\n",
    "\n",
    "The `meter` coordinates loading the input data, matching it with appropriate weather data, and\n",
    "passing it to the formatter and model. It then uses these to calculate a set of outputs, including\n",
    "energy savings estimates such as annualized weather normalized usage.\n",
    "\n",
    "The `formatter` formats the trace and project data for use within the model.\n",
    "\n",
    "The `model` fits a model of energy usage to this formatted data which can be used, given covariate weather data, to predict or model energy usage over an arbitrary period of time."
   ]
  },
  {
   "cell_type": "code",
   "execution_count": 4,
   "metadata": {
    "collapsed": true
   },
   "outputs": [],
   "source": [
    "from eemeter.ee.meter import EnergyEfficiencyMeterTraceCentric\n",
    "from eemeter.modeling.models import SeasonalElasticNetCVModel\n",
    "from eemeter.modeling.formatters import ModelDataFormatter\n",
    "\n",
    "meter = EnergyEfficiencyMeterTraceCentric()\n",
    "model = (SeasonalElasticNetCVModel, {\"cooling_base_temp\": 65, \"heating_base_temp\": 65})\n",
    "formatter = (ModelDataFormatter, {\"freq_str\": \"D\"})"
   ]
  },
  {
   "cell_type": "markdown",
   "metadata": {},
   "source": [
    "The meter we created is an instance of the EEmeter class which operates on single energy traces.\n",
    "\n",
    "The model we created is a tuple of (model class, model keyword arguments), not an instantiation of the model. We do it this way to allow easy creation of multiple instances of the model class.\n",
    "\n",
    "The formatter is, like the model, a tuple of (formatter class, formatter keyword arguments), for the same reason - we want to make multiple instances of the formatter class.\n",
    "\n",
    "These can be used directly to \"evaluate\" the meter on the meter input. We'll store the output in `meter_output`."
   ]
  },
  {
   "cell_type": "code",
   "execution_count": 5,
   "metadata": {
    "collapsed": false,
    "scrolled": false
   },
   "outputs": [
    {
     "name": "stderr",
     "output_type": "stream",
     "text": [
      "/Users/philngo/.virtualenvs/eemeter/lib/python3.4/site-packages/pandas/core/indexing.py:132: SettingWithCopyWarning: \n",
      "A value is trying to be set on a copy of a slice from a DataFrame\n",
      "\n",
      "See the caveats in the documentation: http://pandas.pydata.org/pandas-docs/stable/indexing.html#indexing-view-versus-copy\n",
      "  self._setitem_with_indexer(indexer, value)\n",
      "/Users/philngo/.virtualenvs/eemeter/lib/python3.4/site-packages/pandas/core/indexing.py:132: SettingWithCopyWarning: \n",
      "A value is trying to be set on a copy of a slice from a DataFrame\n",
      "\n",
      "See the caveats in the documentation: http://pandas.pydata.org/pandas-docs/stable/indexing.html#indexing-view-versus-copy\n",
      "  self._setitem_with_indexer(indexer, value)\n"
     ]
    }
   ],
   "source": [
    "meter_output = meter.evaluate(meter_input, model=model, formatter=formatter)"
   ]
  },
  {
   "cell_type": "markdown",
   "metadata": {},
   "source": [
    "This `meter_ouput` is quite verbose, so we'll export it to a json file which is a bit more readable."
   ]
  },
  {
   "cell_type": "code",
   "execution_count": 6,
   "metadata": {
    "collapsed": false
   },
   "outputs": [],
   "source": [
    "with open('meter_output_example.json', 'w') as f:  # change this path if desired.\n",
    "    json.dump(meter_output, f, indent=2)"
   ]
  },
  {
   "cell_type": "markdown",
   "metadata": {},
   "source": [
    "The content of this file will look something like this:"
   ]
  },
  {
   "cell_type": "code",
   "execution_count": 7,
   "metadata": {
    "collapsed": false
   },
   "outputs": [
    {
     "name": "stdout",
     "output_type": "stream",
     "text": [
      "{\r\n",
      "  \"status\": \"SUCCESS\",\r\n",
      "  \"failure_message\": null,\r\n",
      "  \"logs\": [\r\n",
      "    \"Using weather_source ISDWeatherSource(\\\"724828\\\")\",\r\n",
      "    \"Using weather_normal_source TMY3WeatherSource(\\\"745160\\\")\"\r\n",
      "  ],\r\n",
      "  \"eemeter_version\": \"0.4.12\",\r\n",
      "  \"model_class\": \"SeasonalElasticNetCVModel\",\r\n",
      "  \"model_kwargs\": {\r\n",
      "    \"heating_base_temp\": 65,\r\n",
      "    \"cooling_base_temp\": 65\r\n",
      "  },\r\n",
      "  \"formatter_class\": \"ModelDataFormatter\",\r\n",
      "  \"formatter_kwargs\": {\r\n",
      "    \"freq_str\": \"D\"\r\n",
      "  },\r\n",
      "  \"weather_source_station\": \"724828\",\r\n",
      "  \"weather_normal_source_station\": \"745160\",\r\n",
      "  \"derivatives\": [\r\n",
      "    {\r\n",
      "      \"label\": null,\r\n",
      "      \"derivative_interpretation\": \"annualized_weather_normal\",\r\n",
      "      \"trace_interpretation\": \"ELECTRICITY_CONSUMPTION_SUPPLIED\",\r\n",
      "      \"unit\": \"KWH\",\r\n",
      "      \"baseline\": {\r\n",
      "        \"label\": \"baseline\",\r\n",
      "        \"value\": 5812.037520876966,\r\n",
      "        \"lower\": 109.76058020882165,\r\n",
      "        \"upper\": 109.76058020882165,\r\n",
      "        \"n\": 365,\r\n",
      "        \"demand_fixture\": {\r\n",
      "          \"2015-01-01T00:00:00+00:00\": 42.6125,\r\n",
      "          \"2015-01-02T00:00:00+00:00\": 37.925,\r\n",
      "          \"2015-01-03T00:00:00+00:00\": 41.0,\r\n",
      "          \"2015-01-04T00:00:00+00:00\": 42.575,\r\n",
      "          \"2015-01-05T00:00:00+00:00\": 44.675,\r\n",
      "          \"2015-01-06T00:00:00+00:00\": 44.975,\r\n",
      "          \"2015-01-07T00:00:00+00:00\": 41.9675,\r\n",
      "          \"2015-01-08T00:00:00+00:00\": 48.575,\r\n"
     ]
    }
   ],
   "source": [
    "!head -40 meter_output_example.json"
   ]
  },
  {
   "cell_type": "markdown",
   "metadata": {},
   "source": [
    "Note how this file is organized: it contains a summary of the operations done during meter execution, including everything necessary to recreate the meter run, like the model class and keyword arguments used to initialize it, and the weather data (degrees F, called \"demand_fixture\") that was used in model building."
   ]
  },
  {
   "cell_type": "markdown",
   "metadata": {},
   "source": [
    "Not everyone has data ready to go, so if you are in that bucket, the next section covers how you can get started with data of your own."
   ]
  },
  {
   "cell_type": "markdown",
   "metadata": {},
   "source": [
    "Data preparation\n",
    "----------------\n",
    "\n",
    "All we'll be doing in this section is creating a data structure that has the same format as `meter_input_example.json` file above. We are using the eemeter EnergyTrace helper structure.\n",
    "\n",
    "Of course, this is not the only way to get data into the necessary format; use this for inspiration, but make changes as necessary to accomodate the particulars of your dataset."
   ]
  },
  {
   "cell_type": "code",
   "execution_count": 8,
   "metadata": {
    "collapsed": true
   },
   "outputs": [],
   "source": [
    "# library imports\n",
    "from eemeter.structures import EnergyTrace\n",
    "from eemeter.io.serializers import ArbitraryStartSerializer\n",
    "from eemeter.ee.meter import EnergyEfficiencyMeter\n",
    "import pandas as pd\n",
    "import pytz"
   ]
  },
  {
   "cell_type": "markdown",
   "metadata": {},
   "source": [
    "First, we import the energy data from the sample CSV and transform it into records"
   ]
  },
  {
   "cell_type": "code",
   "execution_count": 9,
   "metadata": {
    "collapsed": false
   },
   "outputs": [],
   "source": [
    "energy_data = pd.read_csv('sample-energy-data_project-ABC_zipcode-50321.csv',\n",
    "                          parse_dates=['date'], dtype={'zipcode': str})\n",
    "records = [{\n",
    "    \"start\": pytz.UTC.localize(row.date.to_datetime()),\n",
    "    \"value\": row.value,\n",
    "    \"estimated\": row.estimated,\n",
    "} for _, row in energy_data.iterrows()]"
   ]
  },
  {
   "cell_type": "markdown",
   "metadata": {},
   "source": [
    "The records we created look like this:"
   ]
  },
  {
   "cell_type": "code",
   "execution_count": 10,
   "metadata": {
    "collapsed": false
   },
   "outputs": [
    {
     "data": {
      "text/plain": [
       "[{'estimated': False,\n",
       "  'start': datetime.datetime(2011, 1, 1, 0, 0, tzinfo=<UTC>),\n",
       "  'value': 57.8},\n",
       " {'estimated': False,\n",
       "  'start': datetime.datetime(2011, 1, 2, 0, 0, tzinfo=<UTC>),\n",
       "  'value': 64.8},\n",
       " {'estimated': False,\n",
       "  'start': datetime.datetime(2011, 1, 3, 0, 0, tzinfo=<UTC>),\n",
       "  'value': 49.5}]"
      ]
     },
     "execution_count": 10,
     "metadata": {},
     "output_type": "execute_result"
    }
   ],
   "source": [
    "records[:3]  # the first three records"
   ]
  },
  {
   "cell_type": "markdown",
   "metadata": {},
   "source": [
    "Next, we load our records into an `EnergyTrace`. We give it units `\"KWH\"` and interpretation `\"ELECTRICITY_CONSUMPTION_SUPPLIED\"`, which means that this is electricity consumed by the building and supplied by a utility (rather than by solar panels or other on-site generation). We also pass in an instance of the record serializer `ArbitraryStartSerializer` to show it how to interpret the records."
   ]
  },
  {
   "cell_type": "code",
   "execution_count": 11,
   "metadata": {
    "collapsed": true
   },
   "outputs": [],
   "source": [
    "energy_trace = EnergyTrace(\n",
    "    records=records,\n",
    "    unit=\"KWH\",\n",
    "    interpretation=\"ELECTRICITY_CONSUMPTION_SUPPLIED\",\n",
    "    serializer=ArbitraryStartSerializer())"
   ]
  },
  {
   "cell_type": "markdown",
   "metadata": {},
   "source": [
    "The energy trace data we created looks like this:"
   ]
  },
  {
   "cell_type": "code",
   "execution_count": 12,
   "metadata": {
    "collapsed": false
   },
   "outputs": [
    {
     "data": {
      "text/html": [
       "<div>\n",
       "<table border=\"1\" class=\"dataframe\">\n",
       "  <thead>\n",
       "    <tr style=\"text-align: right;\">\n",
       "      <th></th>\n",
       "      <th>value</th>\n",
       "      <th>estimated</th>\n",
       "    </tr>\n",
       "  </thead>\n",
       "  <tbody>\n",
       "    <tr>\n",
       "      <th>2011-01-01 00:00:00+00:00</th>\n",
       "      <td>57.8</td>\n",
       "      <td>False</td>\n",
       "    </tr>\n",
       "    <tr>\n",
       "      <th>2011-01-02 00:00:00+00:00</th>\n",
       "      <td>64.8</td>\n",
       "      <td>False</td>\n",
       "    </tr>\n",
       "    <tr>\n",
       "      <th>2011-01-03 00:00:00+00:00</th>\n",
       "      <td>49.5</td>\n",
       "      <td>False</td>\n",
       "    </tr>\n",
       "  </tbody>\n",
       "</table>\n",
       "</div>"
      ],
      "text/plain": [
       "                           value estimated\n",
       "2011-01-01 00:00:00+00:00   57.8     False\n",
       "2011-01-02 00:00:00+00:00   64.8     False\n",
       "2011-01-03 00:00:00+00:00   49.5     False"
      ]
     },
     "execution_count": 12,
     "metadata": {},
     "output_type": "execute_result"
    }
   ],
   "source": [
    "energy_trace.data[:3]  # first three records"
   ]
  },
  {
   "cell_type": "markdown",
   "metadata": {},
   "source": [
    "Now we load the rest of the project data from the sample project data CSV. This CSV includes the project_id (we don't use it in this tutorial, but this is how you might identify the saved meter results), the ZIP code of the building, and the dates retrofit work for this project started and completed."
   ]
  },
  {
   "cell_type": "code",
   "execution_count": 13,
   "metadata": {
    "collapsed": false
   },
   "outputs": [],
   "source": [
    "project_data = pd.read_csv('sample-project-data.csv',\n",
    "                           parse_dates=['retrofit_start_date', 'retrofit_end_date']).iloc[0]"
   ]
  },
  {
   "cell_type": "markdown",
   "metadata": {},
   "source": [
    "Here's what our project data looks like."
   ]
  },
  {
   "cell_type": "code",
   "execution_count": 14,
   "metadata": {
    "collapsed": false
   },
   "outputs": [
    {
     "data": {
      "text/plain": [
       "project_id                             ABC\n",
       "zipcode                              50321\n",
       "retrofit_start_date    2013-06-01 00:00:00\n",
       "retrofit_end_date      2013-07-01 00:00:00\n",
       "Name: 0, dtype: object"
      ]
     },
     "execution_count": 14,
     "metadata": {},
     "output_type": "execute_result"
    }
   ],
   "source": [
    "project_data"
   ]
  },
  {
   "cell_type": "code",
   "execution_count": 15,
   "metadata": {
    "collapsed": false
   },
   "outputs": [],
   "source": [
    "zipcode = \"{:05d}\".format(project_data.zipcode)\n",
    "retrofit_start_date = pytz.UTC.localize(project_data.retrofit_start_date)\n",
    "retrofit_end_date = pytz.UTC.localize(project_data.retrofit_end_date)"
   ]
  },
  {
   "cell_type": "markdown",
   "metadata": {},
   "source": [
    "Here's an example of how to get this data into the format the meter expects (exactly the format of the meter_input_example.json from above)."
   ]
  },
  {
   "cell_type": "code",
   "execution_count": 16,
   "metadata": {
    "collapsed": true
   },
   "outputs": [],
   "source": [
    "from collections import OrderedDict\n",
    "\n",
    "def serialize_meter_input(trace, zipcode, retrofit_start_date, retrofit_end_date):\n",
    "\n",
    "    data = OrderedDict([\n",
    "        (\"type\", \"SINGLE_TRACE_SIMPLE_PROJECT\"),\n",
    "        (\"trace\", trace_serializer(trace)),\n",
    "        (\"project\", project_serializer(zipcode, retrofit_start_date, retrofit_end_date)),\n",
    "    ])\n",
    "\n",
    "    return data\n",
    "\n",
    "\n",
    "def trace_serializer(trace):\n",
    "    data = OrderedDict([\n",
    "        (\"type\", \"ARBITRARY_START\"),\n",
    "        (\"interpretation\", trace.interpretation),\n",
    "        (\"unit\", trace.unit),\n",
    "        (\"records\", [\n",
    "            OrderedDict([\n",
    "                (\"start\", start.isoformat()),\n",
    "                (\"value\", record.value if pd.notnull(record.value) else None),\n",
    "                (\"estimated\", bool(record.estimated)),\n",
    "            ])\n",
    "            for start, record in trace.data.iterrows()\n",
    "        ]),\n",
    "    ])\n",
    "    return data\n",
    "\n",
    "\n",
    "def project_serializer(zipcode, retrofit_start_date, retrofit_end_date):\n",
    "    data = OrderedDict([\n",
    "        (\"type\", \"PROJECT_WITH_SINGLE_MODELING_PERIOD_GROUP\"),\n",
    "        (\"zipcode\", zipcode),\n",
    "        (\"modeling_period_group\", OrderedDict([\n",
    "            (\"baseline_period\", OrderedDict([\n",
    "                (\"start\", None),\n",
    "                (\"end\", retrofit_start_date.isoformat()),\n",
    "            ])),\n",
    "            (\"reporting_period\", OrderedDict([\n",
    "                (\"start\", retrofit_end_date.isoformat()),\n",
    "                (\"end\", None),\n",
    "            ]))\n",
    "        ]))\n",
    "    ])\n",
    "    return data"
   ]
  },
  {
   "cell_type": "code",
   "execution_count": 17,
   "metadata": {
    "collapsed": false
   },
   "outputs": [],
   "source": [
    "my_meter_input = serialize_meter_input(\n",
    "    energy_trace, zipcode, retrofit_start_date, retrofit_end_date)"
   ]
  },
  {
   "cell_type": "code",
   "execution_count": 18,
   "metadata": {
    "collapsed": false
   },
   "outputs": [],
   "source": [
    "with open('my_meter_input.json', 'w') as f:\n",
    "    json.dump(my_meter_input, f, indent=2)"
   ]
  },
  {
   "cell_type": "code",
   "execution_count": 19,
   "metadata": {
    "collapsed": false
   },
   "outputs": [
    {
     "name": "stdout",
     "output_type": "stream",
     "text": [
      "{\r\n",
      "  \"type\": \"SINGLE_TRACE_SIMPLE_PROJECT\",\r\n",
      "  \"trace\": {\r\n",
      "    \"type\": \"ARBITRARY_START\",\r\n",
      "    \"interpretation\": \"ELECTRICITY_CONSUMPTION_SUPPLIED\",\r\n",
      "    \"unit\": \"KWH\",\r\n",
      "    \"records\": [\r\n",
      "      {\r\n",
      "        \"start\": \"2011-01-01T00:00:00+00:00\",\r\n",
      "        \"value\": 57.8,\r\n",
      "        \"estimated\": false\r\n",
      "      },\r\n",
      "      {\r\n",
      "        \"start\": \"2011-01-02T00:00:00+00:00\",\r\n",
      "        \"value\": 64.8,\r\n"
     ]
    }
   ],
   "source": [
    "!head -15 my_meter_input.json"
   ]
  },
  {
   "cell_type": "code",
   "execution_count": 20,
   "metadata": {
    "collapsed": false
   },
   "outputs": [
    {
     "name": "stdout",
     "output_type": "stream",
     "text": [
      "        \"value\": 73.0,\r\n",
      "        \"estimated\": false\r\n",
      "      },\r\n",
      "      {\r\n",
      "        \"start\": \"2015-01-01T00:00:00+00:00\",\r\n",
      "        \"value\": null,\r\n",
      "        \"estimated\": false\r\n",
      "      }\r\n",
      "    ]\r\n",
      "  },\r\n",
      "  \"project\": {\r\n",
      "    \"type\": \"PROJECT_WITH_SINGLE_MODELING_PERIOD_GROUP\",\r\n",
      "    \"zipcode\": \"50321\",\r\n",
      "    \"modeling_period_group\": {\r\n",
      "      \"baseline_period\": {\r\n",
      "        \"start\": null,\r\n",
      "        \"end\": \"2013-06-01T00:00:00+00:00\"\r\n",
      "      },\r\n",
      "      \"reporting_period\": {\r\n",
      "        \"start\": \"2013-07-01T00:00:00+00:00\",\r\n",
      "        \"end\": null\r\n",
      "      }\r\n",
      "    }\r\n",
      "  }\r\n",
      "}"
     ]
    }
   ],
   "source": [
    "!tail -25 my_meter_input.json"
   ]
  },
  {
   "cell_type": "markdown",
   "metadata": {},
   "source": [
    "Now we can run this through the meter exactly the same way we did before:"
   ]
  },
  {
   "cell_type": "code",
   "execution_count": 21,
   "metadata": {
    "collapsed": false,
    "scrolled": true
   },
   "outputs": [
    {
     "name": "stderr",
     "output_type": "stream",
     "text": [
      "/Users/philngo/.virtualenvs/eemeter/lib/python3.4/site-packages/pandas/core/indexing.py:132: SettingWithCopyWarning: \n",
      "A value is trying to be set on a copy of a slice from a DataFrame\n",
      "\n",
      "See the caveats in the documentation: http://pandas.pydata.org/pandas-docs/stable/indexing.html#indexing-view-versus-copy\n",
      "  self._setitem_with_indexer(indexer, value)\n",
      "/Users/philngo/.virtualenvs/eemeter/lib/python3.4/site-packages/pandas/core/indexing.py:132: SettingWithCopyWarning: \n",
      "A value is trying to be set on a copy of a slice from a DataFrame\n",
      "\n",
      "See the caveats in the documentation: http://pandas.pydata.org/pandas-docs/stable/indexing.html#indexing-view-versus-copy\n",
      "  self._setitem_with_indexer(indexer, value)\n"
     ]
    }
   ],
   "source": [
    "my_meter_output = meter.evaluate(my_meter_input, model=model, formatter=formatter)"
   ]
  },
  {
   "cell_type": "markdown",
   "metadata": {},
   "source": [
    "## Inspecting results\n",
    "\n",
    "Now that we have some results at our fingertips, let's inspect them. We'll be using the meter output from the first example trace.\n",
    "\n",
    "The output is mostly made up of a set of \"derivatives\". These aren't derivatives in the calculus sense - they're just derived from the model output.\n",
    "\n",
    "Let's take a look at the first one."
   ]
  },
  {
   "cell_type": "code",
   "execution_count": 22,
   "metadata": {
    "collapsed": false
   },
   "outputs": [],
   "source": [
    "derivative = meter_output[\"derivatives\"][0]"
   ]
  },
  {
   "cell_type": "markdown",
   "metadata": {},
   "source": [
    "We can take a peek at the contents by looking at the keys of the dict."
   ]
  },
  {
   "cell_type": "code",
   "execution_count": 23,
   "metadata": {
    "collapsed": false
   },
   "outputs": [
    {
     "data": {
      "text/plain": [
       "['label',\n",
       " 'derivative_interpretation',\n",
       " 'trace_interpretation',\n",
       " 'unit',\n",
       " 'baseline',\n",
       " 'reporting']"
      ]
     },
     "execution_count": 23,
     "metadata": {},
     "output_type": "execute_result"
    }
   ],
   "source": [
    "[k for k in derivative.keys()]"
   ]
  },
  {
   "cell_type": "markdown",
   "metadata": {},
   "source": [
    "This derivative has the interpretation 'annualized_weather_normal', which means it contains estimates of annualized, weather normalized usage in the baseline and reporting periods."
   ]
  },
  {
   "cell_type": "code",
   "execution_count": 24,
   "metadata": {
    "collapsed": false
   },
   "outputs": [
    {
     "data": {
      "text/plain": [
       "'annualized_weather_normal'"
      ]
     },
     "execution_count": 24,
     "metadata": {},
     "output_type": "execute_result"
    }
   ],
   "source": [
    "derivative['derivative_interpretation']"
   ]
  },
  {
   "cell_type": "markdown",
   "metadata": {},
   "source": [
    "The actual usage values are stored in 'baseline' and 'reporting'"
   ]
  },
  {
   "cell_type": "code",
   "execution_count": 25,
   "metadata": {
    "collapsed": false
   },
   "outputs": [],
   "source": [
    "baseline = derivative['baseline']\n",
    "reporting = derivative['reporting']"
   ]
  },
  {
   "cell_type": "markdown",
   "metadata": {},
   "source": [
    "These contain the values and upper and lower bounds, as well as the weather data used to calculate them (as \"demand_fixture\")."
   ]
  },
  {
   "cell_type": "code",
   "execution_count": 26,
   "metadata": {
    "collapsed": false
   },
   "outputs": [],
   "source": [
    "baseline_value = baseline['value']\n",
    "baseline_upper_bound = baseline_value + baseline['upper']\n",
    "baseline_lower_bound = baseline_value - baseline['lower']"
   ]
  },
  {
   "cell_type": "code",
   "execution_count": 27,
   "metadata": {
    "collapsed": false
   },
   "outputs": [
    {
     "data": {
      "text/plain": [
       "(5702.2769406681437, 5812.0375208769656, 5921.7981010857875)"
      ]
     },
     "execution_count": 27,
     "metadata": {},
     "output_type": "execute_result"
    }
   ],
   "source": [
    "baseline_lower_bound, baseline_value, baseline_upper_bound"
   ]
  },
  {
   "cell_type": "code",
   "execution_count": 28,
   "metadata": {
    "collapsed": false
   },
   "outputs": [],
   "source": [
    "reporting_value = reporting['value']\n",
    "reporting_upper_bound = reporting_value + reporting['upper']\n",
    "reporting_lower_bound = reporting_value - reporting['lower']"
   ]
  },
  {
   "cell_type": "code",
   "execution_count": 29,
   "metadata": {
    "collapsed": false
   },
   "outputs": [
    {
     "data": {
      "text/plain": [
       "(4473.0878250572732, 4612.2408703752799, 4751.3939156932865)"
      ]
     },
     "execution_count": 29,
     "metadata": {},
     "output_type": "execute_result"
    }
   ],
   "source": [
    "reporting_lower_bound, reporting_value, reporting_upper_bound"
   ]
  },
  {
   "cell_type": "markdown",
   "metadata": {},
   "source": [
    "The savings can be calculated by subtracting the baseline value from the reporting value and propagating errors."
   ]
  },
  {
   "cell_type": "code",
   "execution_count": 30,
   "metadata": {
    "collapsed": false
   },
   "outputs": [],
   "source": [
    "savings_value = baseline['value'] - reporting['value']\n",
    "savings_upper_bound = savings_value + (baseline['upper']**2 + reporting['lower']**2)**0.5\n",
    "savings_lower_bound = savings_value - (baseline['lower']**2 + reporting['upper']**2)**0.5"
   ]
  },
  {
   "cell_type": "code",
   "execution_count": 31,
   "metadata": {
    "collapsed": false
   },
   "outputs": [
    {
     "data": {
      "text/plain": [
       "(1022.5652904407402, 1199.7966505016857, 1377.0280105626312)"
      ]
     },
     "execution_count": 31,
     "metadata": {},
     "output_type": "execute_result"
    }
   ],
   "source": [
    "savings_lower_bound, savings_value, savings_upper_bound"
   ]
  },
  {
   "cell_type": "markdown",
   "metadata": {},
   "source": [
    "These values are all in kilowatt hours, as indicated in the derivative structure."
   ]
  },
  {
   "cell_type": "code",
   "execution_count": 32,
   "metadata": {
    "collapsed": false
   },
   "outputs": [
    {
     "data": {
      "text/plain": [
       "'KWH'"
      ]
     },
     "execution_count": 32,
     "metadata": {},
     "output_type": "execute_result"
    }
   ],
   "source": [
    "derivative['unit']"
   ]
  }
 ],
 "metadata": {
  "celltoolbar": "Raw Cell Format",
  "kernelspec": {
   "display_name": "Python 3",
   "language": "python",
   "name": "python3"
  },
  "language_info": {
   "codemirror_mode": {
    "name": "ipython",
    "version": 3
   },
   "file_extension": ".py",
   "mimetype": "text/x-python",
   "name": "python",
   "nbconvert_exporter": "python",
   "pygments_lexer": "ipython3",
   "version": "3.4.3"
  }
 },
 "nbformat": 4,
 "nbformat_minor": 0
}
