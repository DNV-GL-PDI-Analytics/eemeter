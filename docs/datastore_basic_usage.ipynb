{
 "cells": [
  {
   "cell_type": "markdown",
   "metadata": {},
   "source": [
    "Datastore basic usage\n",
    "=====================\n",
    "\n",
    "The datastore is a tool for using the eemeter which automates\n",
    "and helps to scales some of the most frequent tasks accomplished by the\n",
    "eemeter. These tasks include data loading and storage, meter\n",
    "running, and result storage and inspection. It puts a REST API\n",
    "in front of the eemeter.\n",
    "\n",
    "> Note:\n",
    "> \n",
    "> For small and large datasets, the ETL toolkit exists to ease and\n",
    "> speed up this process. That toolkit relies upon the API described\n",
    "> in this tutorial and in the datastore API documentation. For the\n",
    "> purpose of this tutorial, we will not be using the ETL toolkit.\n",
    "> For more information on the ETL toolkit, see its API documentation.\n",
    "\n",
    "Loading data\n",
    "------------\n",
    "\n",
    "For this tutorial, we will use the python requests package to make\n",
    "requests to the datastore. We will use the same dataset used in the\n",
    "eemeter tutorial, available for download here:\n",
    "\n",
    "- project data CSV\n",
    "- energy data CSV\n",
    "\n",
    "This tutorial is also available as a jupyter notebook."
   ]
  },
  {
   "cell_type": "code",
   "execution_count": 1,
   "metadata": {
    "collapsed": true
   },
   "outputs": [],
   "source": [
    "# library imports\n",
    "import pandas as pd\n",
    "import requests\n",
    "import pytz"
   ]
  },
  {
   "cell_type": "markdown",
   "metadata": {},
   "source": [
    "If you followed the datastore development setup instructions, you will\n",
    "already have run the command to create a superuser and access credentials.\n",
    "\n",
    "    python manage.py dev_seed\n",
    "    \n",
    "If you haven't already done so, do so now. The `dev_seed` command\n",
    "creates a demo admin user and a sample project.\n",
    "\n",
    "- username: `demo`,\n",
    "- password: `demo-password`,\n",
    "- API access token: `tokstr`.\n",
    "- project owner: `1`\n",
    "\n",
    "Ensure that your development server is running locally on port 8000 before continuing.\n",
    "\n",
    "    python manage.py runserver\n",
    "    \n",
    "Each request will include an Authorization header\n",
    "\n",
    "    Authorization: Bearer tokstr"
   ]
  },
  {
   "cell_type": "code",
   "execution_count": 2,
   "metadata": {
    "collapsed": true
   },
   "outputs": [],
   "source": [
    "base_url = \"http://0.0.0.0:8000\"\n",
    "headers = {\"Authorization\": \"Bearer tokstr\"}"
   ]
  },
  {
   "cell_type": "markdown",
   "metadata": {},
   "source": [
    "Let's test the API by requesting a list of projects in the datastore. Since the dev_seed command creates a sample project, this will return a response showing that project."
   ]
  },
  {
   "cell_type": "code",
   "execution_count": 3,
   "metadata": {
    "collapsed": false
   },
   "outputs": [],
   "source": [
    "url = base_url + \"/api/v1/projects/\"\n",
    "projects = requests.get(url, headers=headers).json()"
   ]
  },
  {
   "cell_type": "code",
   "execution_count": 4,
   "metadata": {
    "collapsed": false,
    "scrolled": true
   },
   "outputs": [
    {
     "data": {
      "text/plain": [
       "[{'baseline_period_end': '2012-01-01T00:00:00Z',\n",
       "  'baseline_period_start': None,\n",
       "  'id': 1,\n",
       "  'project_id': 'ABC',\n",
       "  'project_owner': 1,\n",
       "  'reporting_period_end': None,\n",
       "  'reporting_period_start': '2012-02-01T00:00:00Z',\n",
       "  'zipcode': '91104'}]"
      ]
     },
     "execution_count": 4,
     "metadata": {},
     "output_type": "execute_result"
    }
   ],
   "source": [
    "projects"
   ]
  },
  {
   "cell_type": "markdown",
   "metadata": {},
   "source": [
    "Although we'll delete this one in a moment, we can first explore a\n",
    "bit to get a feel for the API. Then we'll create a project of our own.\n",
    "\n",
    "Energy trace data will be associated with this project by foreign key.\n",
    "It is organized into time series by trace_id, and the following request\n",
    "will show all traces associated with a particular project. Note the\n",
    "difference between the `'id'` field and the `'project_id'` field.\n",
    "The `'project_id'` field is the unique label that was associated with\n",
    "it by an external source; the `'id'` field is the database table primary\n",
    "key.\n",
    "\n",
    "There are two tables used to store energy data:\n",
    "\n",
    "1. Consumption metadata:\n",
    "  - `project_id`: foreign key of the project this belongs to\n",
    "  - `trace_id`: unique id of the trace\n",
    "  - `interpretation`: the fuel (electricity/natural gas) and the direction and type of flow (net/total consumption, supply, generation)\n",
    "  - `unit`: physical units of the values provided in records\n",
    "2. Consumption records:\n",
    "  - `metadata_id`: foreign key to consumption metadata\n",
    "  - `start`: the start date and time of record\n",
    "  - `value`: the energy reading as reported\n",
    "  - `estimated`: boolean indicating whether or not the reading was estimated\n",
    "\n",
    "For consumption records, the end is implicit in the `start` of the next temporal record. The last record should be null (if it's not, it will be treated as such).\n",
    "\n",
    "Let's inspect the traces associated with this project. We can do so\n",
    "using the project primary key `'id'` as a filter (we use the summary flag so that we\n",
    "don't pull every record):"
   ]
  },
  {
   "cell_type": "code",
   "execution_count": 5,
   "metadata": {
    "collapsed": false
   },
   "outputs": [],
   "source": [
    "url = base_url + \"/api/v1/consumption_metadatas/?summary=True&projects={}\".format(projects[0]['id'])\n",
    "consumption_metadatas = requests.get(url, headers=headers).json()"
   ]
  },
  {
   "cell_type": "code",
   "execution_count": 6,
   "metadata": {
    "collapsed": false,
    "scrolled": false
   },
   "outputs": [
    {
     "data": {
      "text/plain": [
       "{'id': 1,\n",
       " 'interpretation': 'NG_C_S',\n",
       " 'label': None,\n",
       " 'project': {'baseline_period_end': '2012-01-01T00:00:00Z',\n",
       "  'baseline_period_start': None,\n",
       "  'id': 1,\n",
       "  'project_id': 'ABC',\n",
       "  'project_owner': 1,\n",
       "  'reporting_period_end': None,\n",
       "  'reporting_period_start': '2012-02-01T00:00:00Z',\n",
       "  'zipcode': '91104'},\n",
       " 'unit': 'THM'}"
      ]
     },
     "execution_count": 6,
     "metadata": {},
     "output_type": "execute_result"
    }
   ],
   "source": [
    "consumption_metadatas[0]"
   ]
  },
  {
   "cell_type": "markdown",
   "metadata": {},
   "source": [
    "We can also query for consumption records by metadata primary key."
   ]
  },
  {
   "cell_type": "code",
   "execution_count": 7,
   "metadata": {
    "collapsed": false
   },
   "outputs": [],
   "source": [
    "url = base_url + \"/api/v1/consumption_records/?metadata={}\".format(consumption_metadatas[0]['id'])\n",
    "consumption_records = requests.get(url, headers=headers).json()"
   ]
  },
  {
   "cell_type": "code",
   "execution_count": 8,
   "metadata": {
    "collapsed": false
   },
   "outputs": [
    {
     "data": {
      "text/plain": [
       "[{'estimated': False,\n",
       "  'id': 1,\n",
       "  'metadata': 1,\n",
       "  'start': '2010-01-01T00:00:00Z',\n",
       "  'value': None},\n",
       " {'estimated': False,\n",
       "  'id': 2,\n",
       "  'metadata': 1,\n",
       "  'start': '2010-02-01T00:00:00Z',\n",
       "  'value': 1.0},\n",
       " {'estimated': False,\n",
       "  'id': 3,\n",
       "  'metadata': 1,\n",
       "  'start': '2010-03-01T00:00:00Z',\n",
       "  'value': 1.0}]"
      ]
     },
     "execution_count": 8,
     "metadata": {},
     "output_type": "execute_result"
    }
   ],
   "source": [
    "consumption_records[:3]"
   ]
  },
  {
   "cell_type": "markdown",
   "metadata": {},
   "source": [
    "Now we'll delete the project that was created by the dev_seed command and make one of our own."
   ]
  },
  {
   "cell_type": "code",
   "execution_count": 9,
   "metadata": {
    "collapsed": false,
    "scrolled": true
   },
   "outputs": [
    {
     "data": {
      "text/plain": [
       "<Response [204]>"
      ]
     },
     "execution_count": 9,
     "metadata": {},
     "output_type": "execute_result"
    }
   ],
   "source": [
    "url = base_url + \"/api/v1/projects/{}/\".format(projects[0]['id'])\n",
    "requests.delete(url, headers=headers)"
   ]
  },
  {
   "cell_type": "code",
   "execution_count": 10,
   "metadata": {
    "collapsed": true
   },
   "outputs": [],
   "source": [
    "project_data = pd.read_csv('sample-project-data.csv',\n",
    "                           parse_dates=['retrofit_start_date', 'retrofit_end_date']).iloc[0]"
   ]
  },
  {
   "cell_type": "code",
   "execution_count": 11,
   "metadata": {
    "collapsed": false
   },
   "outputs": [
    {
     "data": {
      "text/plain": [
       "project_id                             ABC\n",
       "zipcode                              50321\n",
       "retrofit_start_date    2013-06-01 00:00:00\n",
       "retrofit_end_date      2013-07-01 00:00:00\n",
       "Name: 0, dtype: object"
      ]
     },
     "execution_count": 11,
     "metadata": {},
     "output_type": "execute_result"
    }
   ],
   "source": [
    "project_data"
   ]
  },
  {
   "cell_type": "code",
   "execution_count": 12,
   "metadata": {
    "collapsed": false
   },
   "outputs": [
    {
     "name": "stdout",
     "output_type": "stream",
     "text": [
      "{'project_owner': 1, 'baseline_period_end': '2013-06-01T00:00:00+00:00', 'zipcode': '50321', 'reporting_period_start': '2013-07-01T00:00:00+00:00', 'project_id': 'ABC'}\n"
     ]
    }
   ],
   "source": [
    "data = {\n",
    "    \"project_id\": project_data.project_id,\n",
    "    \"zipcode\": str(project_data.zipcode),\n",
    "    \"baseline_period_end\": pytz.UTC.localize(project_data.retrofit_start_date).isoformat(),\n",
    "    \"reporting_period_start\": pytz.UTC.localize(project_data.retrofit_end_date).isoformat(),\n",
    "    \"project_owner\": 1,\n",
    "}\n",
    "print(data)"
   ]
  },
  {
   "cell_type": "code",
   "execution_count": 13,
   "metadata": {
    "collapsed": false
   },
   "outputs": [
    {
     "data": {
      "text/plain": [
       "{'baseline_period_end': '2013-06-01T00:00:00Z',\n",
       " 'baseline_period_start': None,\n",
       " 'id': 2,\n",
       " 'project_id': 'ABC',\n",
       " 'project_owner': 1,\n",
       " 'reporting_period_end': None,\n",
       " 'reporting_period_start': '2013-07-01T00:00:00Z',\n",
       " 'zipcode': '50321'}"
      ]
     },
     "execution_count": 13,
     "metadata": {},
     "output_type": "execute_result"
    }
   ],
   "source": [
    "url = base_url + \"/api/v1/projects/\"\n",
    "new_project = requests.post(url, json=data, headers=headers).json()\n",
    "new_project"
   ]
  },
  {
   "cell_type": "markdown",
   "metadata": {},
   "source": [
    "If you try to post another project with the same `project_id`, you'll get an error message."
   ]
  },
  {
   "cell_type": "code",
   "execution_count": 14,
   "metadata": {
    "collapsed": false
   },
   "outputs": [
    {
     "data": {
      "text/plain": [
       "{'project_id': ['project with this project id already exists.']}"
      ]
     },
     "execution_count": 14,
     "metadata": {},
     "output_type": "execute_result"
    }
   ],
   "source": [
    "url = base_url + \"/api/v1/projects/\"\n",
    "requests.post(url, json=data, headers=headers).json()"
   ]
  },
  {
   "cell_type": "markdown",
   "metadata": {},
   "source": [
    "However, there is another endpoint you can hit to sync the project - update it if it exists, create it if it doesn't. This endpoint works almost the same way, but expects a list of data in a slightly different format:"
   ]
  },
  {
   "cell_type": "code",
   "execution_count": 15,
   "metadata": {
    "collapsed": false
   },
   "outputs": [
    {
     "name": "stdout",
     "output_type": "stream",
     "text": [
      "[{'baseline_period_end': '2013-06-01T00:00:00+00:00', 'zipcode': '50321', 'project_owner_id': 1, 'reporting_period_start': '2013-07-01T00:00:00+00:00', 'project_id': 'ABC'}]\n"
     ]
    }
   ],
   "source": [
    "data = [\n",
    "    {\n",
    "        \"project_id\": project_data.project_id,\n",
    "        \"zipcode\": str(project_data.zipcode),\n",
    "        \"baseline_period_end\": pytz.UTC.localize(project_data.retrofit_start_date).isoformat(),\n",
    "        \"reporting_period_start\": pytz.UTC.localize(project_data.retrofit_end_date).isoformat(),\n",
    "        \"project_owner_id\": 1,\n",
    "    }\n",
    "]\n",
    "print(data)"
   ]
  },
  {
   "cell_type": "code",
   "execution_count": 16,
   "metadata": {
    "collapsed": false
   },
   "outputs": [
    {
     "data": {
      "text/plain": [
       "[{'baseline_period_end': '2013-06-01T00:00:00Z',\n",
       "  'baseline_period_start': None,\n",
       "  'id': 2,\n",
       "  'project_id': 'ABC',\n",
       "  'project_owner': 1,\n",
       "  'reporting_period_end': None,\n",
       "  'reporting_period_start': '2013-07-01T00:00:00Z',\n",
       "  'status': 'unchanged - same record',\n",
       "  'zipcode': '50321'}]"
      ]
     },
     "execution_count": 16,
     "metadata": {},
     "output_type": "execute_result"
    }
   ],
   "source": [
    "url = base_url + \"/api/v1/projects/sync/\"\n",
    "requests.post(url, json=data, headers=headers).json()"
   ]
  },
  {
   "cell_type": "markdown",
   "metadata": {},
   "source": [
    "Now we can give this project some consumption data. Ene"
   ]
  },
  {
   "cell_type": "code",
   "execution_count": 17,
   "metadata": {
    "collapsed": false
   },
   "outputs": [
    {
     "data": {
      "text/html": [
       "<div>\n",
       "<table border=\"1\" class=\"dataframe\">\n",
       "  <thead>\n",
       "    <tr style=\"text-align: right;\">\n",
       "      <th></th>\n",
       "      <th>project_id</th>\n",
       "      <th>trace_id</th>\n",
       "      <th>date</th>\n",
       "      <th>value</th>\n",
       "      <th>unit</th>\n",
       "      <th>fuel</th>\n",
       "      <th>estimated</th>\n",
       "    </tr>\n",
       "  </thead>\n",
       "  <tbody>\n",
       "    <tr>\n",
       "      <th>0</th>\n",
       "      <td>ABC</td>\n",
       "      <td>DEF</td>\n",
       "      <td>2011-01-01</td>\n",
       "      <td>57.8</td>\n",
       "      <td>kWh</td>\n",
       "      <td>electricity</td>\n",
       "      <td>False</td>\n",
       "    </tr>\n",
       "    <tr>\n",
       "      <th>1</th>\n",
       "      <td>ABC</td>\n",
       "      <td>DEF</td>\n",
       "      <td>2011-01-02</td>\n",
       "      <td>64.8</td>\n",
       "      <td>kWh</td>\n",
       "      <td>electricity</td>\n",
       "      <td>False</td>\n",
       "    </tr>\n",
       "    <tr>\n",
       "      <th>2</th>\n",
       "      <td>ABC</td>\n",
       "      <td>DEF</td>\n",
       "      <td>2011-01-03</td>\n",
       "      <td>49.5</td>\n",
       "      <td>kWh</td>\n",
       "      <td>electricity</td>\n",
       "      <td>False</td>\n",
       "    </tr>\n",
       "    <tr>\n",
       "      <th>3</th>\n",
       "      <td>ABC</td>\n",
       "      <td>DEF</td>\n",
       "      <td>2011-01-04</td>\n",
       "      <td>80.0</td>\n",
       "      <td>kWh</td>\n",
       "      <td>electricity</td>\n",
       "      <td>False</td>\n",
       "    </tr>\n",
       "    <tr>\n",
       "      <th>4</th>\n",
       "      <td>ABC</td>\n",
       "      <td>DEF</td>\n",
       "      <td>2011-01-05</td>\n",
       "      <td>51.7</td>\n",
       "      <td>kWh</td>\n",
       "      <td>electricity</td>\n",
       "      <td>False</td>\n",
       "    </tr>\n",
       "  </tbody>\n",
       "</table>\n",
       "</div>"
      ],
      "text/plain": [
       "  project_id trace_id       date  value unit         fuel estimated\n",
       "0        ABC      DEF 2011-01-01   57.8  kWh  electricity     False\n",
       "1        ABC      DEF 2011-01-02   64.8  kWh  electricity     False\n",
       "2        ABC      DEF 2011-01-03   49.5  kWh  electricity     False\n",
       "3        ABC      DEF 2011-01-04   80.0  kWh  electricity     False\n",
       "4        ABC      DEF 2011-01-05   51.7  kWh  electricity     False"
      ]
     },
     "execution_count": 17,
     "metadata": {},
     "output_type": "execute_result"
    }
   ],
   "source": [
    "energy_data = pd.read_csv('sample-energy-data_project-ABC_zipcode-50321.csv',\n",
    "                          parse_dates=['date'], dtype={'zipcode': str})\n",
    "energy_data.head()"
   ]
  },
  {
   "cell_type": "markdown",
   "metadata": {},
   "source": [
    "Then we'll the `sync` endpoint for consumption metadata, which will create a new record or update an existing record. We have one trace here:"
   ]
  },
  {
   "cell_type": "code",
   "execution_count": 18,
   "metadata": {
    "collapsed": false
   },
   "outputs": [
    {
     "data": {
      "text/plain": [
       "[{'interpretation': 'E_C_S',\n",
       "  'label': 'DEF',\n",
       "  'project_project_id': 'ABC',\n",
       "  'unit': 'KWH'}]"
      ]
     },
     "execution_count": 18,
     "metadata": {},
     "output_type": "execute_result"
    }
   ],
   "source": [
    "interpretation_mapping = {\"electricity\": \"E_C_S\"}\n",
    "data = [\n",
    "    {\n",
    "        \"project_project_id\": energy_data.iloc[0][\"project_id\"],\n",
    "        \"interpretation\": interpretation_mapping[energy_data.iloc[0][\"fuel\"]],\n",
    "        \"unit\": energy_data.iloc[0][\"unit\"].upper(),\n",
    "        \"label\": energy_data.iloc[0][\"trace_id\"].upper()\n",
    "    }\n",
    "]\n",
    "data"
   ]
  },
  {
   "cell_type": "code",
   "execution_count": 19,
   "metadata": {
    "collapsed": false
   },
   "outputs": [],
   "source": [
    "url = base_url + \"/api/v1/consumption_metadatas/sync/\"\n",
    "consumption_metadatas = requests.post(url, json=data, headers=headers).json()"
   ]
  },
  {
   "cell_type": "code",
   "execution_count": 20,
   "metadata": {
    "collapsed": false
   },
   "outputs": [
    {
     "data": {
      "text/plain": [
       "[{'id': 7,\n",
       "  'interpretation': 'E_C_S',\n",
       "  'label': 'DEF',\n",
       "  'project': {'baseline_period_end': '2013-06-01T00:00:00Z',\n",
       "   'baseline_period_start': None,\n",
       "   'id': 2,\n",
       "   'project_id': 'ABC',\n",
       "   'project_owner': 1,\n",
       "   'reporting_period_end': None,\n",
       "   'reporting_period_start': '2013-07-01T00:00:00Z',\n",
       "   'zipcode': '50321'},\n",
       "  'status': 'created',\n",
       "  'unit': 'KWH'}]"
      ]
     },
     "execution_count": 20,
     "metadata": {},
     "output_type": "execute_result"
    }
   ],
   "source": [
    "consumption_metadatas"
   ]
  },
  {
   "cell_type": "markdown",
   "metadata": {
    "collapsed": false
   },
   "source": [
    "Let's turn that CSV into records."
   ]
  },
  {
   "cell_type": "code",
   "execution_count": 21,
   "metadata": {
    "collapsed": false,
    "scrolled": true
   },
   "outputs": [
    {
     "data": {
      "text/plain": [
       "[{'estimated': False,\n",
       "  'metadata_id': 7,\n",
       "  'start': '2011-01-01T00:00:00+00:00',\n",
       "  'value': 57.8},\n",
       " {'estimated': False,\n",
       "  'metadata_id': 7,\n",
       "  'start': '2011-01-02T00:00:00+00:00',\n",
       "  'value': 64.8},\n",
       " {'estimated': False,\n",
       "  'metadata_id': 7,\n",
       "  'start': '2011-01-03T00:00:00+00:00',\n",
       "  'value': 49.5}]"
      ]
     },
     "execution_count": 21,
     "metadata": {},
     "output_type": "execute_result"
    }
   ],
   "source": [
    "data = [{\n",
    "    \"metadata_id\": consumption_metadatas[0]['id'],\n",
    "    \"start\": pytz.UTC.localize(row.date.to_datetime()).isoformat(),\n",
    "    \"value\": row.value,\n",
    "    \"estimated\": row.estimated,\n",
    "} for _, row in energy_data.iterrows()]\n",
    "data[:3]"
   ]
  },
  {
   "cell_type": "code",
   "execution_count": 22,
   "metadata": {
    "collapsed": false
   },
   "outputs": [],
   "source": [
    "url = base_url + \"/api/v1/consumption_records/sync2/\"\n",
    "consumption_records = requests.post(url, json=data, headers=headers)"
   ]
  },
  {
   "cell_type": "code",
   "execution_count": 23,
   "metadata": {
    "collapsed": false
   },
   "outputs": [
    {
     "data": {
      "text/plain": [
       "'{\"status\":\"success\"}'"
      ]
     },
     "execution_count": 23,
     "metadata": {},
     "output_type": "execute_result"
    }
   ],
   "source": [
    "consumption_records.text"
   ]
  },
  {
   "cell_type": "markdown",
   "metadata": {},
   "source": [
    "We can verify that these records were created by querying by consumption metadata id."
   ]
  },
  {
   "cell_type": "code",
   "execution_count": 24,
   "metadata": {
    "collapsed": true
   },
   "outputs": [],
   "source": [
    "url = base_url + \"/api/v1/consumption_records/?metadata={}\".format(consumption_metadatas[0]['id'])\n",
    "consumption_records = requests.get(url, json=data, headers=headers).json()"
   ]
  },
  {
   "cell_type": "code",
   "execution_count": 25,
   "metadata": {
    "collapsed": false,
    "scrolled": true
   },
   "outputs": [
    {
     "data": {
      "text/plain": [
       "[{'estimated': False,\n",
       "  'id': 290027,\n",
       "  'metadata': 7,\n",
       "  'start': '2011-01-08T00:00:00Z',\n",
       "  'value': 64.1},\n",
       " {'estimated': False,\n",
       "  'id': 290028,\n",
       "  'metadata': 7,\n",
       "  'start': '2011-01-12T00:00:00Z',\n",
       "  'value': 97.3},\n",
       " {'estimated': False,\n",
       "  'id': 290029,\n",
       "  'metadata': 7,\n",
       "  'start': '2011-01-13T00:00:00Z',\n",
       "  'value': 51.4}]"
      ]
     },
     "execution_count": 25,
     "metadata": {},
     "output_type": "execute_result"
    }
   ],
   "source": [
    "consumption_records[:3]"
   ]
  },
  {
   "cell_type": "markdown",
   "metadata": {},
   "source": [
    "We now have a simple project with a single trace of data. Now we will move to running a meter on that project:\n",
    "\n",
    "Running meters\n",
    "--------------\n",
    "\n",
    "To run a meter, make a request to create a \"project run\". This request will start a job that runs a meter and saves its results.\n",
    "\n",
    "There are a few components to this request.\n",
    "\n",
    "1. \"project\": the primary key of the project.\n",
    "2. \"meter_class\": the name of the class of the `eemeter` meter to run.\n",
    "3. \"meter_settings\": any special settings to send to the meter class."
   ]
  },
  {
   "cell_type": "code",
   "execution_count": 26,
   "metadata": {
    "collapsed": false
   },
   "outputs": [
    {
     "data": {
      "text/plain": [
       "{'meter_class': 'EnergyEfficiencyMeter', 'meter_settings': {}, 'project': 2}"
      ]
     },
     "execution_count": 26,
     "metadata": {},
     "output_type": "execute_result"
    }
   ],
   "source": [
    "data = {\n",
    "    \"project\": new_project['id'],\n",
    "    \"meter_class\": \"EnergyEfficiencyMeter\",\n",
    "    \"meter_settings\": {}\n",
    "}\n",
    "data"
   ]
  },
  {
   "cell_type": "code",
   "execution_count": 27,
   "metadata": {
    "collapsed": false
   },
   "outputs": [
    {
     "data": {
      "text/plain": [
       "{'added': '2016-08-12T22:08:19.554549Z',\n",
       " 'id': 1,\n",
       " 'meter_class': 'EnergyEfficiencyMeter',\n",
       " 'meter_settings': {},\n",
       " 'project': 2,\n",
       " 'status': 'PENDING',\n",
       " 'traceback': None,\n",
       " 'updated': '2016-08-12T22:08:19.554586Z'}"
      ]
     },
     "execution_count": 27,
     "metadata": {},
     "output_type": "execute_result"
    }
   ],
   "source": [
    "url = base_url + \"/api/v1/project_runs/\"\n",
    "project_run = requests.post(url, json=data, headers=headers).json()\n",
    "project_run"
   ]
  },
  {
   "cell_type": "markdown",
   "metadata": {},
   "source": [
    "This creates a task to run the meter on the indicated project.\n",
    "\n",
    "These results can be viewed by requesting the project run by primary key - as it completes, its status will change to `SUCCESS` or `FAILED`. If `FAILED`, it will indicate a traceback of the error that occured. While it runs, its status will be `RUNNING`; before it has started running, its status will be `PENDING`."
   ]
  },
  {
   "cell_type": "code",
   "execution_count": 28,
   "metadata": {
    "collapsed": false
   },
   "outputs": [
    {
     "data": {
      "text/plain": [
       "{'added': '2016-08-12T22:08:19.554549Z',\n",
       " 'id': 1,\n",
       " 'meter_class': 'EnergyEfficiencyMeter',\n",
       " 'meter_settings': {},\n",
       " 'project': 2,\n",
       " 'status': 'SUCCESS',\n",
       " 'traceback': None,\n",
       " 'updated': '2016-08-12T22:08:22.971937Z'}"
      ]
     },
     "execution_count": 28,
     "metadata": {},
     "output_type": "execute_result"
    }
   ],
   "source": [
    "url = base_url + \"/api/v1/project_runs/{}/\".format(project_run['id'])\n",
    "project_runs = requests.get(url, headers=headers).json()\n",
    "project_runs"
   ]
  },
  {
   "cell_type": "markdown",
   "metadata": {},
   "source": [
    "If this project run succeeded, we can inspect its results.\n",
    "    \n",
    "Inspecting results\n",
    "------------------\n",
    "\n",
    "Results all fall under the ProjectResult API"
   ]
  },
  {
   "cell_type": "code",
   "execution_count": 29,
   "metadata": {
    "collapsed": false
   },
   "outputs": [
    {
     "data": {
      "text/plain": [
       "[{'added': '2016-08-12T22:08:22.767276Z',\n",
       "  'derivative_aggregations': [{'baseline_lower': 276.314732221288,\n",
       "    'baseline_n': 1139,\n",
       "    'baseline_upper': 251.679621341039,\n",
       "    'baseline_value': 31806.3708558697,\n",
       "    'id': 4,\n",
       "    'interpretation': 'gross_predicted',\n",
       "    'modeling_period_group': 1,\n",
       "    'reporting_lower': 242.446604842159,\n",
       "    'reporting_n': 1139,\n",
       "    'reporting_upper': 215.374360422304,\n",
       "    'reporting_value': 25208.1013739325,\n",
       "    'trace_interpretation': 'ELECTRICITY_CONSUMPTION_SUPPLIED'},\n",
       "   {'baseline_lower': 156.418677953027,\n",
       "    'baseline_n': 365,\n",
       "    'baseline_upper': 142.473017350216,\n",
       "    'baseline_value': 11051.6386089923,\n",
       "    'id': 3,\n",
       "    'interpretation': 'annualized_weather_normal',\n",
       "    'modeling_period_group': 1,\n",
       "    'reporting_lower': 137.246310027507,\n",
       "    'reporting_n': 365,\n",
       "    'reporting_upper': 121.92101539941,\n",
       "    'reporting_value': 8758.27781819607,\n",
       "    'trace_interpretation': 'ELECTRICITY_CONSUMPTION_SUPPLIED'},\n",
       "   {'baseline_lower': 276.314732221288,\n",
       "    'baseline_n': 1139,\n",
       "    'baseline_upper': 251.679621341039,\n",
       "    'baseline_value': 31806.3708558697,\n",
       "    'id': 2,\n",
       "    'interpretation': 'gross_predicted',\n",
       "    'modeling_period_group': 1,\n",
       "    'reporting_lower': 242.446604842159,\n",
       "    'reporting_n': 1139,\n",
       "    'reporting_upper': 215.374360422304,\n",
       "    'reporting_value': 25208.1013739325,\n",
       "    'trace_interpretation': 'ALL_FUELS_CONSUMPTION_SUPPLIED'},\n",
       "   {'baseline_lower': 156.418677953027,\n",
       "    'baseline_n': 365,\n",
       "    'baseline_upper': 142.473017350216,\n",
       "    'baseline_value': 11051.6386089923,\n",
       "    'id': 1,\n",
       "    'interpretation': 'annualized_weather_normal',\n",
       "    'modeling_period_group': 1,\n",
       "    'reporting_lower': 137.246310027507,\n",
       "    'reporting_n': 365,\n",
       "    'reporting_upper': 121.92101539941,\n",
       "    'reporting_value': 8758.27781819607,\n",
       "    'trace_interpretation': 'ALL_FUELS_CONSUMPTION_SUPPLIED'}],\n",
       "  'eemeter_version': '0.4.6',\n",
       "  'energy_trace_model_results': [{'cvrmse': 0.264591493635319,\n",
       "    'derivatives': [{'id': 3,\n",
       "      'interpretation': 'annualized_weather_normal',\n",
       "      'lower': 156.418677953027,\n",
       "      'n': 365,\n",
       "      'upper': 142.473017350216,\n",
       "      'value': 11051.6386089923},\n",
       "     {'id': 4,\n",
       "      'interpretation': 'gross_predicted',\n",
       "      'lower': 276.314732221288,\n",
       "      'n': 1139,\n",
       "      'upper': 251.679621341039,\n",
       "      'value': 31806.3708558697}],\n",
       "    'energy_trace': 7,\n",
       "    'id': 2,\n",
       "    'lower': 7.45737856047136,\n",
       "    'model_serializiation': None,\n",
       "    'modeling_period': 1,\n",
       "    'n': 882.0,\n",
       "    'project_result': 1,\n",
       "    'r2': 0.880792249035995,\n",
       "    'rmse': 7.80520906995742,\n",
       "    'status': 'SUCCESS',\n",
       "    'upper': 8.18732779805489},\n",
       "   {'cvrmse': 0.283371252891545,\n",
       "    'derivatives': [{'id': 1,\n",
       "      'interpretation': 'annualized_weather_normal',\n",
       "      'lower': 137.246310027507,\n",
       "      'n': 365,\n",
       "      'upper': 121.92101539941,\n",
       "      'value': 8758.27781819607},\n",
       "     {'id': 2,\n",
       "      'interpretation': 'gross_predicted',\n",
       "      'lower': 242.446604842159,\n",
       "      'n': 1139,\n",
       "      'upper': 215.374360422304,\n",
       "      'value': 25208.1013739325}],\n",
       "    'energy_trace': 7,\n",
       "    'id': 1,\n",
       "    'lower': 6.38163761265412,\n",
       "    'model_serializiation': None,\n",
       "    'modeling_period': 2,\n",
       "    'n': 549.0,\n",
       "    'project_result': 1,\n",
       "    'r2': 0.896040924767889,\n",
       "    'rmse': 6.75884311655434,\n",
       "    'status': 'SUCCESS',\n",
       "    'upper': 7.18380019556305}],\n",
       "  'id': 1,\n",
       "  'meter_class': 'EnergyEfficiencyMeter',\n",
       "  'meter_settings': {},\n",
       "  'modeling_period_groups': [{'baseline_period': 1,\n",
       "    'id': 1,\n",
       "    'reporting_period': 2}],\n",
       "  'modeling_periods': [{'end_date': '2013-06-01T00:00:00Z',\n",
       "    'id': 1,\n",
       "    'interpretation': 'BASELINE',\n",
       "    'start_date': None},\n",
       "   {'end_date': None,\n",
       "    'id': 2,\n",
       "    'interpretation': 'REPORTING',\n",
       "    'start_date': '2013-07-01T00:00:00Z'}],\n",
       "  'project': 2,\n",
       "  'updated': '2016-08-12T22:08:22.767313Z'}]"
      ]
     },
     "execution_count": 29,
     "metadata": {},
     "output_type": "execute_result"
    }
   ],
   "source": [
    "url = base_url + \"/api/v1/project_results/\"\n",
    "project_results = requests.get(url, headers=headers).json()\n",
    "project_results"
   ]
  },
  {
   "cell_type": "markdown",
   "metadata": {},
   "source": [
    "These results can be interpreted as follows:\n",
    "\n",
    "- `'id'`: the primary key of the project result\n",
    "- `'eemeter_version'`: the version of the eemeter package installed in the datastore\n",
    "- `'meter_class'`: the name of the class of the meter used to obtain the results\n",
    "- `'meter_settings`: the settings of the eemeter\n",
    "- `'project'`: the primary key of the project\n",
    "- `'modeling_period_groups'`: pairs of baseline/reporting modeling periods\n",
    "- `'modeling_periods'`: all modeling periods\n",
    "- `'energy_trace_model_restuls'`: the trace/modeling period specific results\n",
    "- `'derivative_aggregations'`: the aggregated results for this project\n",
    "- `'added'`: When the project result was created\n",
    "- `'updated'`: when the project result was created or updated (should not have been updated)\n",
    "\n",
    "The most useful of these are the **`'derivative_aggregations'`**, which include baseline/reporting values\n",
    "for each of the possible trace interpretations."
   ]
  }
 ],
 "metadata": {
  "kernelspec": {
   "display_name": "Python 3",
   "language": "python",
   "name": "python3"
  },
  "language_info": {
   "codemirror_mode": {
    "name": "ipython",
    "version": 3
   },
   "file_extension": ".py",
   "mimetype": "text/x-python",
   "name": "python",
   "nbconvert_exporter": "python",
   "pygments_lexer": "ipython3",
   "version": "3.4.3"
  }
 },
 "nbformat": 4,
 "nbformat_minor": 1
}
