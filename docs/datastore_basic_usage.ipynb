{
 "cells": [
  {
   "cell_type": "markdown",
   "metadata": {},
   "source": [
    "The datastore is a tool for using the eemeter which automates\n",
    "and scales some of the most frequent tasks accomplished by the\n",
    "eemeter. These tasks include data loading and storage, meter\n",
    "running, and result storage and inspection. It puts a REST API\n",
    "in front of the eemeter.\n",
    "\n",
    "> Note:\n",
    "> \n",
    "> For small and large datasets, the ETL toolkit exists to ease and\n",
    "> speed up this process. That toolkit relies upon the API described\n",
    "> in this tutorial and in the datastore API documentation. For the\n",
    "> purpose of this tutorial, we will not be using the ETL toolkit.\n",
    "> For more information on the ETL toolkit, see its API documentation.\n",
    "\n",
    "Loading data\n",
    "------------\n",
    "\n",
    "For this tutorial, we will use the python requests package to make\n",
    "requests to the datastore. We will use the same dataset used in the\n",
    "eemeter tutorial, available for download here:\n",
    "\n",
    "- project data CSV\n",
    "- energy data CSV\n",
    "\n",
    "This tutorial is also available as a jupyter notebook."
   ]
  },
  {
   "cell_type": "code",
   "execution_count": 1,
   "metadata": {
    "collapsed": true
   },
   "outputs": [],
   "source": [
    "# library imports\n",
    "import pandas as pd\n",
    "import requests\n",
    "import pytz"
   ]
  },
  {
   "cell_type": "markdown",
   "metadata": {},
   "source": [
    "If you followed the datastore development setup instructions, you will\n",
    "already have run the command to create a superuser and access credentials.\n",
    "\n",
    "    python manage.py dev_seed\n",
    "    \n",
    "If you haven't already done so, do so now. The `dev_seed` command\n",
    "creates a demo admin user and a sample project.\n",
    "\n",
    "- username: `demo`,\n",
    "- password: `demo-password`,\n",
    "- API access token: `tokstr`.\n",
    "\n",
    "Ensure that your development server is running locally on port 8000 before continuing.\n",
    "\n",
    "    python manage.py runserver\n",
    "    \n",
    "Each request will include an Authorization header\n",
    "\n",
    "    Authorization: Bearer tokstr"
   ]
  },
  {
   "cell_type": "code",
   "execution_count": 2,
   "metadata": {
    "collapsed": true
   },
   "outputs": [],
   "source": [
    "base_url = \"http://0.0.0.0:8000\"\n",
    "headers = {\"Authorization\": \"Bearer tokstr\"}"
   ]
  },
  {
   "cell_type": "markdown",
   "metadata": {},
   "source": [
    "Let's test the API by requesting a list of projects in the datastore. Since the dev_seed command creates a sample project, this will return a response showing that project."
   ]
  },
  {
   "cell_type": "code",
   "execution_count": 3,
   "metadata": {
    "collapsed": false
   },
   "outputs": [],
   "source": [
    "url = base_url + \"/api/v1/projects/\"\n",
    "projects = requests.get(url, headers=headers).json()"
   ]
  },
  {
   "cell_type": "code",
   "execution_count": 4,
   "metadata": {
    "collapsed": false,
    "scrolled": true
   },
   "outputs": [
    {
     "data": {
      "text/plain": [
       "[{'baseline_period_end': '2012-01-01T00:00:00Z',\n",
       "  'baseline_period_start': None,\n",
       "  'id': 1,\n",
       "  'project_id': 'ABC',\n",
       "  'project_owner': 1,\n",
       "  'reporting_period_end': None,\n",
       "  'reporting_period_start': '2012-02-01T00:00:00Z',\n",
       "  'zipcode': '91104'}]"
      ]
     },
     "execution_count": 4,
     "metadata": {},
     "output_type": "execute_result"
    }
   ],
   "source": [
    "projects"
   ]
  },
  {
   "cell_type": "markdown",
   "metadata": {},
   "source": [
    "Although we'll delete this one in a moment, we can first explore a\n",
    "bit to get a feel for the API. Then we'll create a project of our own.\n",
    "\n",
    "Energy trace data will be associated with this project by foreign key.\n",
    "It is organized into time series by trace_id, and the following request\n",
    "will show all traces associated with a particular project. Note the\n",
    "difference between the `'id'` field and the `'project_id'` field.\n",
    "The `'project_id'` field is the unique label that was associated with\n",
    "it by an external source; the `'id'` field is the database table primary\n",
    "key.\n",
    "\n",
    "Let's inspect the traces associated with this project. We can do so\n",
    "using the project primary key `'id'` as a filter (we use the summary flag so that we\n",
    "don't pull every record):"
   ]
  },
  {
   "cell_type": "code",
   "execution_count": 5,
   "metadata": {
    "collapsed": false
   },
   "outputs": [],
   "source": [
    "url = base_url + \"/api/v1/consumption_metadatas/?summary=True&projects={}\".format(projects[0]['id'])\n",
    "consumption_metadatas = requests.get(url, headers=headers).json()"
   ]
  },
  {
   "cell_type": "code",
   "execution_count": 6,
   "metadata": {
    "collapsed": false,
    "scrolled": false
   },
   "outputs": [
    {
     "data": {
      "text/plain": [
       "{'id': 1,\n",
       " 'interpretation': 'NG_C_S',\n",
       " 'label': None,\n",
       " 'project': {'baseline_period_end': '2012-01-01T00:00:00Z',\n",
       "  'baseline_period_start': None,\n",
       "  'id': 1,\n",
       "  'project_id': 'ABC',\n",
       "  'project_owner': 1,\n",
       "  'reporting_period_end': None,\n",
       "  'reporting_period_start': '2012-02-01T00:00:00Z',\n",
       "  'zipcode': '91104'},\n",
       " 'unit': 'THM'}"
      ]
     },
     "execution_count": 6,
     "metadata": {},
     "output_type": "execute_result"
    }
   ],
   "source": [
    "consumption_metadatas[0]"
   ]
  },
  {
   "cell_type": "markdown",
   "metadata": {},
   "source": [
    "We can also query for consumption records by metadata primary key."
   ]
  },
  {
   "cell_type": "code",
   "execution_count": 7,
   "metadata": {
    "collapsed": false
   },
   "outputs": [],
   "source": [
    "url = base_url + \"/api/v1/consumption_records/?metadata={}\".format(consumption_metadatas[0]['id'])\n",
    "consumption_records = requests.get(url, headers=headers).json()"
   ]
  },
  {
   "cell_type": "code",
   "execution_count": 8,
   "metadata": {
    "collapsed": false
   },
   "outputs": [
    {
     "data": {
      "text/plain": [
       "[{'estimated': False,\n",
       "  'id': 1,\n",
       "  'metadata': 1,\n",
       "  'start': '2010-01-01T00:00:00Z',\n",
       "  'value': None},\n",
       " {'estimated': False,\n",
       "  'id': 2,\n",
       "  'metadata': 1,\n",
       "  'start': '2010-02-01T00:00:00Z',\n",
       "  'value': 1.0},\n",
       " {'estimated': False,\n",
       "  'id': 3,\n",
       "  'metadata': 1,\n",
       "  'start': '2010-03-01T00:00:00Z',\n",
       "  'value': 1.0}]"
      ]
     },
     "execution_count": 8,
     "metadata": {},
     "output_type": "execute_result"
    }
   ],
   "source": [
    "consumption_records[:3]"
   ]
  },
  {
   "cell_type": "markdown",
   "metadata": {},
   "source": [
    "Now we'll delete the project that was created by the dev_seed command and make one of our own."
   ]
  },
  {
   "cell_type": "code",
   "execution_count": 9,
   "metadata": {
    "collapsed": false,
    "scrolled": true
   },
   "outputs": [
    {
     "data": {
      "text/plain": [
       "<Response [204]>"
      ]
     },
     "execution_count": 9,
     "metadata": {},
     "output_type": "execute_result"
    }
   ],
   "source": [
    "url = base_url + \"/api/v1/projects/{}/\".format(projects[0]['id'])\n",
    "requests.delete(url, headers=headers)"
   ]
  },
  {
   "cell_type": "code",
   "execution_count": 10,
   "metadata": {
    "collapsed": true
   },
   "outputs": [],
   "source": [
    "project_data = pd.read_csv('sample-project-data.csv',\n",
    "                           parse_dates=['retrofit_start_date', 'retrofit_end_date']).iloc[0]"
   ]
  },
  {
   "cell_type": "code",
   "execution_count": 11,
   "metadata": {
    "collapsed": false
   },
   "outputs": [
    {
     "data": {
      "text/plain": [
       "project_id                             ABC\n",
       "zipcode                              50321\n",
       "retrofit_start_date    2013-06-01 00:00:00\n",
       "retrofit_end_date      2013-07-01 00:00:00\n",
       "Name: 0, dtype: object"
      ]
     },
     "execution_count": 11,
     "metadata": {},
     "output_type": "execute_result"
    }
   ],
   "source": [
    "project_data"
   ]
  },
  {
   "cell_type": "code",
   "execution_count": 12,
   "metadata": {
    "collapsed": false
   },
   "outputs": [
    {
     "name": "stdout",
     "output_type": "stream",
     "text": [
      "{'reporting_period_start': '2013-07-01T00:00:00+00:00', 'project_id': 'ABC', 'zipcode': '50321', 'project_owner': 1, 'baseline_period_end': '2013-06-01T00:00:00+00:00'}\n"
     ]
    }
   ],
   "source": [
    "data = {\n",
    "    \"project_id\": project_data.project_id,\n",
    "    \"zipcode\": str(project_data.zipcode),\n",
    "    \"baseline_period_end\": pytz.UTC.localize(project_data.retrofit_start_date).isoformat(),\n",
    "    \"reporting_period_start\": pytz.UTC.localize(project_data.retrofit_end_date).isoformat(),\n",
    "    \"project_owner\": 1,  # ID of user created by dev_seed command\n",
    "}\n",
    "print(data)"
   ]
  },
  {
   "cell_type": "code",
   "execution_count": 13,
   "metadata": {
    "collapsed": false
   },
   "outputs": [
    {
     "data": {
      "text/plain": [
       "{'baseline_period_end': '2013-06-01T00:00:00Z',\n",
       " 'baseline_period_start': None,\n",
       " 'id': 2,\n",
       " 'project_id': 'ABC',\n",
       " 'project_owner': 1,\n",
       " 'reporting_period_end': None,\n",
       " 'reporting_period_start': '2013-07-01T00:00:00Z',\n",
       " 'zipcode': '50321'}"
      ]
     },
     "execution_count": 13,
     "metadata": {},
     "output_type": "execute_result"
    }
   ],
   "source": [
    "url = base_url + \"/api/v1/projects/\"\n",
    "new_project = requests.post(url, json=data, headers=headers).json()\n",
    "new_project"
   ]
  },
  {
   "cell_type": "markdown",
   "metadata": {},
   "source": [
    "If you try to post another project with the same `project_id`, you'll get an error message."
   ]
  },
  {
   "cell_type": "code",
   "execution_count": 14,
   "metadata": {
    "collapsed": false
   },
   "outputs": [
    {
     "data": {
      "text/plain": [
       "{'project_id': ['project with this project id already exists.']}"
      ]
     },
     "execution_count": 14,
     "metadata": {},
     "output_type": "execute_result"
    }
   ],
   "source": [
    "url = base_url + \"/api/v1/projects/\"\n",
    "requests.post(url, json=data, headers=headers).json()"
   ]
  },
  {
   "cell_type": "markdown",
   "metadata": {},
   "source": [
    "Now we can give this project some consumption data."
   ]
  },
  {
   "cell_type": "code",
   "execution_count": 15,
   "metadata": {
    "collapsed": false
   },
   "outputs": [],
   "source": [
    "energy_data = pd.read_csv('sample-energy-data_project-ABC_zipcode-50321.csv',\n",
    "                          parse_dates=['date'], dtype={'zipcode': str})"
   ]
  },
  {
   "cell_type": "code",
   "execution_count": 29,
   "metadata": {
    "collapsed": false
   },
   "outputs": [
    {
     "data": {
      "text/html": [
       "<div>\n",
       "<table border=\"1\" class=\"dataframe\">\n",
       "  <thead>\n",
       "    <tr style=\"text-align: right;\">\n",
       "      <th></th>\n",
       "      <th>project_id</th>\n",
       "      <th>trace_id</th>\n",
       "      <th>date</th>\n",
       "      <th>value</th>\n",
       "      <th>unit</th>\n",
       "      <th>fuel</th>\n",
       "      <th>estimated</th>\n",
       "    </tr>\n",
       "  </thead>\n",
       "  <tbody>\n",
       "    <tr>\n",
       "      <th>0</th>\n",
       "      <td>ABC</td>\n",
       "      <td>DEF</td>\n",
       "      <td>2011-01-01</td>\n",
       "      <td>57.8</td>\n",
       "      <td>kWh</td>\n",
       "      <td>electricity</td>\n",
       "      <td>False</td>\n",
       "    </tr>\n",
       "    <tr>\n",
       "      <th>1</th>\n",
       "      <td>ABC</td>\n",
       "      <td>DEF</td>\n",
       "      <td>2011-01-02</td>\n",
       "      <td>64.8</td>\n",
       "      <td>kWh</td>\n",
       "      <td>electricity</td>\n",
       "      <td>False</td>\n",
       "    </tr>\n",
       "    <tr>\n",
       "      <th>2</th>\n",
       "      <td>ABC</td>\n",
       "      <td>DEF</td>\n",
       "      <td>2011-01-03</td>\n",
       "      <td>49.5</td>\n",
       "      <td>kWh</td>\n",
       "      <td>electricity</td>\n",
       "      <td>False</td>\n",
       "    </tr>\n",
       "    <tr>\n",
       "      <th>3</th>\n",
       "      <td>ABC</td>\n",
       "      <td>DEF</td>\n",
       "      <td>2011-01-04</td>\n",
       "      <td>80.0</td>\n",
       "      <td>kWh</td>\n",
       "      <td>electricity</td>\n",
       "      <td>False</td>\n",
       "    </tr>\n",
       "    <tr>\n",
       "      <th>4</th>\n",
       "      <td>ABC</td>\n",
       "      <td>DEF</td>\n",
       "      <td>2011-01-05</td>\n",
       "      <td>51.7</td>\n",
       "      <td>kWh</td>\n",
       "      <td>electricity</td>\n",
       "      <td>False</td>\n",
       "    </tr>\n",
       "  </tbody>\n",
       "</table>\n",
       "</div>"
      ],
      "text/plain": [
       "  project_id trace_id       date  value unit         fuel estimated\n",
       "0        ABC      DEF 2011-01-01   57.8  kWh  electricity     False\n",
       "1        ABC      DEF 2011-01-02   64.8  kWh  electricity     False\n",
       "2        ABC      DEF 2011-01-03   49.5  kWh  electricity     False\n",
       "3        ABC      DEF 2011-01-04   80.0  kWh  electricity     False\n",
       "4        ABC      DEF 2011-01-05   51.7  kWh  electricity     False"
      ]
     },
     "execution_count": 29,
     "metadata": {},
     "output_type": "execute_result"
    }
   ],
   "source": [
    "energy_data.head()"
   ]
  },
  {
   "cell_type": "code",
   "execution_count": 16,
   "metadata": {
    "collapsed": true
   },
   "outputs": [],
   "source": [
    "records = [{\n",
    "    \"start\": pytz.UTC.localize(row.date.to_datetime()).isoformat(),\n",
    "    \"value\": row.value,\n",
    "    \"estimated\": row.estimated,\n",
    "} for _, row in energy_data.iterrows()]"
   ]
  },
  {
   "cell_type": "markdown",
   "metadata": {},
   "source": [
    "We'll hit the `sync` endpoint for consumption metadata, which will create a new record or update an existing record. We have one project here:"
   ]
  },
  {
   "cell_type": "code",
   "execution_count": 36,
   "metadata": {
    "collapsed": false
   },
   "outputs": [
    {
     "data": {
      "text/plain": [
       "[{'interpretation': ['electricity'],\n",
       "  'label': 'DEF',\n",
       "  'project_project_id': 'ABC',\n",
       "  'unit': 'KWH'}]"
      ]
     },
     "execution_count": 36,
     "metadata": {},
     "output_type": "execute_result"
    }
   ],
   "source": [
    "interpretation_mapping = {\"electricity\": \"E_C_S\"}\n",
    "data = [\n",
    "    {\n",
    "        \"project_project_id\": energy_data.iloc[0][\"project_id\"],\n",
    "        \"interpretation\": [energy_data.iloc[0][\"fuel\"]],\n",
    "        \"unit\": energy_data.iloc[0][\"unit\"].upper(),\n",
    "        \"label\": energy_data.iloc[0][\"trace_id\"].upper()\n",
    "    }\n",
    "]\n",
    "data"
   ]
  },
  {
   "cell_type": "code",
   "execution_count": 27,
   "metadata": {
    "collapsed": false
   },
   "outputs": [],
   "source": [
    "url = base_url + \"/api/v1/consumption_metadatas/sync/\"\n",
    "consumption_metadatas = requests.post(url, json=data, headers=headers).json()"
   ]
  },
  {
   "cell_type": "code",
   "execution_count": 28,
   "metadata": {
    "collapsed": false
   },
   "outputs": [
    {
     "data": {
      "text/plain": [
       "[{'id': 7,\n",
       "  'interpretation': 'E_C_S',\n",
       "  'label': 'DEF',\n",
       "  'project': {'baseline_period_end': '2013-06-01T00:00:00Z',\n",
       "   'baseline_period_start': None,\n",
       "   'id': 2,\n",
       "   'project_id': 'ABC',\n",
       "   'project_owner': 1,\n",
       "   'reporting_period_end': None,\n",
       "   'reporting_period_start': '2013-07-01T00:00:00Z',\n",
       "   'zipcode': '50321'},\n",
       "  'status': 'unchanged - same record',\n",
       "  'unit': 'KWH'}]"
      ]
     },
     "execution_count": 28,
     "metadata": {},
     "output_type": "execute_result"
    }
   ],
   "source": [
    "consumption_metadatas"
   ]
  },
  {
   "cell_type": "code",
   "execution_count": null,
   "metadata": {
    "collapsed": true
   },
   "outputs": [],
   "source": []
  }
 ],
 "metadata": {
  "kernelspec": {
   "display_name": "Python 3",
   "language": "python",
   "name": "python3"
  },
  "language_info": {
   "codemirror_mode": {
    "name": "ipython",
    "version": 3
   },
   "file_extension": ".py",
   "mimetype": "text/x-python",
   "name": "python",
   "nbconvert_exporter": "python",
   "pygments_lexer": "ipython3",
   "version": "3.4.3"
  }
 },
 "nbformat": 4,
 "nbformat_minor": 1
}
