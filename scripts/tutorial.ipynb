{
 "cells": [
  {
   "cell_type": "markdown",
   "metadata": {},
   "source": [
    "# Getting started with the eemeter library\n",
    "\n",
    "This jupyter notebook is an interactive tutorial. It walks through loading data, running the CalTRACK methods, and plotting results. You'll run all the code yourself. Run through from the top and use `<shift><enter>` to run cells. If you feel so inspired, make edits and go deeper if you'd like."
   ]
  },
  {
   "cell_type": "code",
   "execution_count": 1,
   "metadata": {},
   "outputs": [],
   "source": [
    "# turn on inline plotting\n",
    "%matplotlib inline\n",
    "\n",
    "# allow live package editing\n",
    "%load_ext autoreload\n",
    "%autoreload 2"
   ]
  },
  {
   "cell_type": "code",
   "execution_count": 2,
   "metadata": {},
   "outputs": [
    {
     "name": "stderr",
     "output_type": "stream",
     "text": [
      "/usr/local/lib/python3.6/importlib/_bootstrap.py:219: RuntimeWarning: numpy.dtype size changed, may indicate binary incompatibility. Expected 96, got 88\n",
      "  return f(*args, **kwds)\n"
     ]
    }
   ],
   "source": [
    "import eemeter"
   ]
  },
  {
   "cell_type": "markdown",
   "metadata": {},
   "source": [
    "## Loading data\n",
    "\n",
    "Let's load up some meter and temperature data from samples that come packaged with the eemeter. The samples we are loading up are three versions of the same underlying data - one as hourly data, one as daily data, and one as billing data. Each of these shares a core data format. We will walk through how use the eemeter package to obtain metered savings for each of these versions of the data.\n",
    "\n",
    "*Note: the sample data is simulated, not real!*"
   ]
  },
  {
   "cell_type": "code",
   "execution_count": 3,
   "metadata": {},
   "outputs": [],
   "source": [
    "meter_data_hourly, temperature_data_hourly, metadata_hourly = \\\n",
    "    eemeter.load_sample('il-electricity-cdd-hdd-hourly')\n",
    "\n",
    "meter_data_daily, temperature_data_daily, metadata_daily = \\\n",
    "    eemeter.load_sample('il-electricity-cdd-hdd-daily')\n",
    "\n",
    "meter_data_billing, temperature_data_billing, metadata_billing = \\\n",
    "    eemeter.load_sample('il-electricity-cdd-hdd-billing_monthly')"
   ]
  },
  {
   "cell_type": "markdown",
   "metadata": {},
   "source": [
    "The metadata has project start and end that we can use to determine a baseline period."
   ]
  },
  {
   "cell_type": "code",
   "execution_count": 4,
   "metadata": {},
   "outputs": [
    {
     "data": {
      "text/plain": [
       "datetime.datetime(2016, 12, 26, 0, 0, tzinfo=<UTC>)"
      ]
     },
     "execution_count": 4,
     "metadata": {},
     "output_type": "execute_result"
    }
   ],
   "source": [
    "baseline_end_date = metadata_billing['blackout_start_date']\n",
    "baseline_end_date"
   ]
  },
  {
   "cell_type": "markdown",
   "metadata": {},
   "source": [
    "The convention for formatting meter data is to create a [pandas DataFrame](https://pandas.pydata.org/pandas-docs/stable/generated/pandas.DataFrame.html) with a [DatetimeIndex](https://pandas.pydata.org/pandas-docs/stable/generated/pandas.DatetimeIndex.html) and a column of meter readings called `value`. The index datetime values represent the start dates of each metering period. The end of each period is the start of the next period, even for data with variable period lengths like billing data. The end date of the last period can be supplied by appending an extra period with the final end date and a NaN value. Missing data is represented by one or more periods of value NaN. Data should be sorted by time and deduplicated prior to use with eemeter."
   ]
  },
  {
   "cell_type": "code",
   "execution_count": 5,
   "metadata": {},
   "outputs": [
    {
     "data": {
      "text/html": [
       "<div>\n",
       "<style scoped>\n",
       "    .dataframe tbody tr th:only-of-type {\n",
       "        vertical-align: middle;\n",
       "    }\n",
       "\n",
       "    .dataframe tbody tr th {\n",
       "        vertical-align: top;\n",
       "    }\n",
       "\n",
       "    .dataframe thead th {\n",
       "        text-align: right;\n",
       "    }\n",
       "</style>\n",
       "<table border=\"1\" class=\"dataframe\">\n",
       "  <thead>\n",
       "    <tr style=\"text-align: right;\">\n",
       "      <th></th>\n",
       "      <th>value</th>\n",
       "    </tr>\n",
       "    <tr>\n",
       "      <th>start</th>\n",
       "      <th></th>\n",
       "    </tr>\n",
       "  </thead>\n",
       "  <tbody>\n",
       "    <tr>\n",
       "      <th>2015-11-22 06:00:00+00:00</th>\n",
       "      <td>0.29</td>\n",
       "    </tr>\n",
       "    <tr>\n",
       "      <th>2015-11-22 07:00:00+00:00</th>\n",
       "      <td>1.47</td>\n",
       "    </tr>\n",
       "    <tr>\n",
       "      <th>2015-11-22 08:00:00+00:00</th>\n",
       "      <td>0.58</td>\n",
       "    </tr>\n",
       "    <tr>\n",
       "      <th>2015-11-22 09:00:00+00:00</th>\n",
       "      <td>0.28</td>\n",
       "    </tr>\n",
       "    <tr>\n",
       "      <th>2015-11-22 10:00:00+00:00</th>\n",
       "      <td>1.25</td>\n",
       "    </tr>\n",
       "  </tbody>\n",
       "</table>\n",
       "</div>"
      ],
      "text/plain": [
       "                           value\n",
       "start                           \n",
       "2015-11-22 06:00:00+00:00   0.29\n",
       "2015-11-22 07:00:00+00:00   1.47\n",
       "2015-11-22 08:00:00+00:00   0.58\n",
       "2015-11-22 09:00:00+00:00   0.28\n",
       "2015-11-22 10:00:00+00:00   1.25"
      ]
     },
     "execution_count": 5,
     "metadata": {},
     "output_type": "execute_result"
    }
   ],
   "source": [
    "meter_data_hourly.head()"
   ]
  },
  {
   "cell_type": "code",
   "execution_count": 6,
   "metadata": {},
   "outputs": [
    {
     "data": {
      "text/html": [
       "<div>\n",
       "<style scoped>\n",
       "    .dataframe tbody tr th:only-of-type {\n",
       "        vertical-align: middle;\n",
       "    }\n",
       "\n",
       "    .dataframe tbody tr th {\n",
       "        vertical-align: top;\n",
       "    }\n",
       "\n",
       "    .dataframe thead th {\n",
       "        text-align: right;\n",
       "    }\n",
       "</style>\n",
       "<table border=\"1\" class=\"dataframe\">\n",
       "  <thead>\n",
       "    <tr style=\"text-align: right;\">\n",
       "      <th></th>\n",
       "      <th>value</th>\n",
       "    </tr>\n",
       "    <tr>\n",
       "      <th>start</th>\n",
       "      <th></th>\n",
       "    </tr>\n",
       "  </thead>\n",
       "  <tbody>\n",
       "    <tr>\n",
       "      <th>2015-11-22 00:00:00+00:00</th>\n",
       "      <td>32.34</td>\n",
       "    </tr>\n",
       "    <tr>\n",
       "      <th>2015-11-23 00:00:00+00:00</th>\n",
       "      <td>23.80</td>\n",
       "    </tr>\n",
       "    <tr>\n",
       "      <th>2015-11-24 00:00:00+00:00</th>\n",
       "      <td>26.26</td>\n",
       "    </tr>\n",
       "    <tr>\n",
       "      <th>2015-11-25 00:00:00+00:00</th>\n",
       "      <td>21.32</td>\n",
       "    </tr>\n",
       "    <tr>\n",
       "      <th>2015-11-26 00:00:00+00:00</th>\n",
       "      <td>6.70</td>\n",
       "    </tr>\n",
       "  </tbody>\n",
       "</table>\n",
       "</div>"
      ],
      "text/plain": [
       "                           value\n",
       "start                           \n",
       "2015-11-22 00:00:00+00:00  32.34\n",
       "2015-11-23 00:00:00+00:00  23.80\n",
       "2015-11-24 00:00:00+00:00  26.26\n",
       "2015-11-25 00:00:00+00:00  21.32\n",
       "2015-11-26 00:00:00+00:00   6.70"
      ]
     },
     "execution_count": 6,
     "metadata": {},
     "output_type": "execute_result"
    }
   ],
   "source": [
    "meter_data_daily.head()"
   ]
  },
  {
   "cell_type": "code",
   "execution_count": 7,
   "metadata": {},
   "outputs": [
    {
     "data": {
      "text/html": [
       "<div>\n",
       "<style scoped>\n",
       "    .dataframe tbody tr th:only-of-type {\n",
       "        vertical-align: middle;\n",
       "    }\n",
       "\n",
       "    .dataframe tbody tr th {\n",
       "        vertical-align: top;\n",
       "    }\n",
       "\n",
       "    .dataframe thead th {\n",
       "        text-align: right;\n",
       "    }\n",
       "</style>\n",
       "<table border=\"1\" class=\"dataframe\">\n",
       "  <thead>\n",
       "    <tr style=\"text-align: right;\">\n",
       "      <th></th>\n",
       "      <th>value</th>\n",
       "    </tr>\n",
       "    <tr>\n",
       "      <th>start</th>\n",
       "      <th></th>\n",
       "    </tr>\n",
       "  </thead>\n",
       "  <tbody>\n",
       "    <tr>\n",
       "      <th>2017-09-26 06:00:00+00:00</th>\n",
       "      <td>526.25</td>\n",
       "    </tr>\n",
       "    <tr>\n",
       "      <th>2017-10-27 06:00:00+00:00</th>\n",
       "      <td>649.80</td>\n",
       "    </tr>\n",
       "    <tr>\n",
       "      <th>2017-11-25 06:00:00+00:00</th>\n",
       "      <td>650.52</td>\n",
       "    </tr>\n",
       "    <tr>\n",
       "      <th>2017-12-22 06:00:00+00:00</th>\n",
       "      <td>1393.40</td>\n",
       "    </tr>\n",
       "    <tr>\n",
       "      <th>2018-01-20 06:00:00+00:00</th>\n",
       "      <td>NaN</td>\n",
       "    </tr>\n",
       "  </tbody>\n",
       "</table>\n",
       "</div>"
      ],
      "text/plain": [
       "                             value\n",
       "start                             \n",
       "2017-09-26 06:00:00+00:00   526.25\n",
       "2017-10-27 06:00:00+00:00   649.80\n",
       "2017-11-25 06:00:00+00:00   650.52\n",
       "2017-12-22 06:00:00+00:00  1393.40\n",
       "2018-01-20 06:00:00+00:00      NaN"
      ]
     },
     "execution_count": 7,
     "metadata": {},
     "output_type": "execute_result"
    }
   ],
   "source": [
    "meter_data_billing.tail()"
   ]
  },
  {
   "cell_type": "markdown",
   "metadata": {},
   "source": [
    "The convention for formatting temperature is as a [pandas Series](https://pandas.pydata.org/pandas-docs/stable/generated/pandas.Series.html), also with a [DatetimeIndex](https://pandas.pydata.org/pandas-docs/stable/generated/pandas.DatetimeIndex.html)."
   ]
  },
  {
   "cell_type": "code",
   "execution_count": 8,
   "metadata": {},
   "outputs": [
    {
     "data": {
      "text/plain": [
       "dt\n",
       "2015-11-22 06:00:00+00:00    21.01\n",
       "2015-11-22 07:00:00+00:00    20.35\n",
       "2015-11-22 08:00:00+00:00    19.38\n",
       "2015-11-22 09:00:00+00:00    19.02\n",
       "2015-11-22 10:00:00+00:00    17.82\n",
       "Freq: H, Name: tempF, dtype: float64"
      ]
     },
     "execution_count": 8,
     "metadata": {},
     "output_type": "execute_result"
    }
   ],
   "source": [
    "temperature_data_hourly.head()"
   ]
  },
  {
   "cell_type": "code",
   "execution_count": 9,
   "metadata": {},
   "outputs": [
    {
     "data": {
      "text/plain": [
       "dt\n",
       "2015-11-22 06:00:00+00:00    21.01\n",
       "2015-11-22 07:00:00+00:00    20.35\n",
       "2015-11-22 08:00:00+00:00    19.38\n",
       "2015-11-22 09:00:00+00:00    19.02\n",
       "2015-11-22 10:00:00+00:00    17.82\n",
       "Freq: H, Name: tempF, dtype: float64"
      ]
     },
     "execution_count": 9,
     "metadata": {},
     "output_type": "execute_result"
    }
   ],
   "source": [
    "temperature_data_daily.head()"
   ]
  },
  {
   "cell_type": "code",
   "execution_count": 10,
   "metadata": {},
   "outputs": [
    {
     "data": {
      "text/plain": [
       "dt\n",
       "2015-11-22 06:00:00+00:00    21.01\n",
       "2015-11-22 07:00:00+00:00    20.35\n",
       "2015-11-22 08:00:00+00:00    19.38\n",
       "2015-11-22 09:00:00+00:00    19.02\n",
       "2015-11-22 10:00:00+00:00    17.82\n",
       "Freq: H, Name: tempF, dtype: float64"
      ]
     },
     "execution_count": 10,
     "metadata": {},
     "output_type": "execute_result"
    }
   ],
   "source": [
    "temperature_data_billing.head()"
   ]
  },
  {
   "cell_type": "markdown",
   "metadata": {},
   "source": [
    "## Plotting (part 1)\n",
    "\n",
    "Let's use some eemeter plotting functions to see what our data looks like.\n",
    "\n",
    "### Time series plots"
   ]
  },
  {
   "cell_type": "code",
   "execution_count": 11,
   "metadata": {},
   "outputs": [
    {
     "data": {
      "text/plain": [
       "(<matplotlib.axes._subplots.AxesSubplot at 0x7eff3f7db0b8>,\n",
       " <matplotlib.axes._subplots.AxesSubplot at 0x7eff3d7a17f0>)"
      ]
     },
     "execution_count": 11,
     "metadata": {},
     "output_type": "execute_result"
    },
    {
     "data": {
      "image/png": "[encoded data removed]",
      "text/plain": [
       "<Figure size 1152x288 with 2 Axes>"
      ]
     },
     "metadata": {},
     "output_type": "display_data"
    }
   ],
   "source": [
    "eemeter.plot_time_series(meter_data_hourly, temperature_data_hourly, figsize=(16, 4))"
   ]
  },
  {
   "cell_type": "code",
   "execution_count": 12,
   "metadata": {},
   "outputs": [
    {
     "data": {
      "text/plain": [
       "(<matplotlib.axes._subplots.AxesSubplot at 0x7eff3d6fc4e0>,\n",
       " <matplotlib.axes._subplots.AxesSubplot at 0x7eff3d6ba128>)"
      ]
     },
     "execution_count": 12,
     "metadata": {},
     "output_type": "execute_result"
    },
    {
     "data": {
      "image/png": "[encoded data removed]",
      "text/plain": [
       "<Figure size 1152x288 with 2 Axes>"
      ]
     },
     "metadata": {},
     "output_type": "display_data"
    }
   ],
   "source": [
    "eemeter.plot_time_series(meter_data_daily, temperature_data_daily, figsize=(16, 4))"
   ]
  },
  {
   "cell_type": "code",
   "execution_count": 13,
   "metadata": {},
   "outputs": [
    {
     "data": {
      "text/plain": [
       "(<matplotlib.axes._subplots.AxesSubplot at 0x7eff3c62f240>,\n",
       " <matplotlib.axes._subplots.AxesSubplot at 0x7eff3c5d4b00>)"
      ]
     },
     "execution_count": 13,
     "metadata": {},
     "output_type": "execute_result"
    },
    {
     "data": {
      "image/png": "[encoded data removed]",
      "text/plain": [
       "<Figure size 1152x288 with 2 Axes>"
      ]
     },
     "metadata": {},
     "output_type": "display_data"
    }
   ],
   "source": [
    "eemeter.plot_time_series(meter_data_billing, temperature_data_billing, figsize=(16, 4))"
   ]
  },
  {
   "cell_type": "markdown",
   "metadata": {},
   "source": [
    "### Energy signature plots\n",
    "\n",
    "The following plots the three version of the data - hourly, billing and daily - one on top of the other in energy signature form. This shows the temperature dependece of usage on external temperatures. These plots convert the meter data into \"usage per day\" format, which normalizes things and makes usage patterns appear roughly comparable at different sampling intervals. (Remember - this data is simulated!)"
   ]
  },
  {
   "cell_type": "code",
   "execution_count": 14,
   "metadata": {},
   "outputs": [
    {
     "data": {
      "text/plain": [
       "<matplotlib.legend.Legend at 0x7eff3c62f400>"
      ]
     },
     "execution_count": 14,
     "metadata": {},
     "output_type": "execute_result"
    },
    {
     "data": {
      "image/png": "[encoded data removed]",
      "text/plain": [
       "<Figure size 1008x576 with 1 Axes>"
      ]
     },
     "metadata": {},
     "output_type": "display_data"
    }
   ],
   "source": [
    "ax = eemeter.plot_energy_signature(meter_data_hourly, temperature_data_hourly, figsize=(14, 8))\n",
    "eemeter.plot_energy_signature(meter_data_daily, temperature_data_daily, ax=ax)\n",
    "eemeter.plot_energy_signature(meter_data_billing, temperature_data_billing, ax=ax)\n",
    "ax.legend(labels=['hourly', 'daily', 'billing'])"
   ]
  },
  {
   "cell_type": "markdown",
   "metadata": {},
   "source": [
    "## Filtering to a baseline data"
   ]
  },
  {
   "cell_type": "markdown",
   "metadata": {},
   "source": [
    "We can also filter this meter data to contain just the baseline data."
   ]
  },
  {
   "cell_type": "code",
   "execution_count": 15,
   "metadata": {},
   "outputs": [],
   "source": [
    "baseline_meter_data_hourly, baseline_warnings_hourly = eemeter.get_baseline_data(\n",
    "    meter_data_hourly, end=baseline_end_date, max_days=365)\n",
    "\n",
    "baseline_meter_data_daily, baseline_warnings_daily = eemeter.get_baseline_data(\n",
    "    meter_data_daily, end=baseline_end_date, max_days=365)\n",
    "\n",
    "baseline_meter_data_billing, baseline_warnings_billing = eemeter.get_baseline_data(\n",
    "    meter_data_billing, end=baseline_end_date, max_days=365)"
   ]
  },
  {
   "cell_type": "code",
   "execution_count": 16,
   "metadata": {},
   "outputs": [
    {
     "data": {
      "text/html": [
       "<div>\n",
       "<style scoped>\n",
       "    .dataframe tbody tr th:only-of-type {\n",
       "        vertical-align: middle;\n",
       "    }\n",
       "\n",
       "    .dataframe tbody tr th {\n",
       "        vertical-align: top;\n",
       "    }\n",
       "\n",
       "    .dataframe thead th {\n",
       "        text-align: right;\n",
       "    }\n",
       "</style>\n",
       "<table border=\"1\" class=\"dataframe\">\n",
       "  <thead>\n",
       "    <tr style=\"text-align: right;\">\n",
       "      <th></th>\n",
       "      <th>value</th>\n",
       "    </tr>\n",
       "    <tr>\n",
       "      <th>start</th>\n",
       "      <th></th>\n",
       "    </tr>\n",
       "  </thead>\n",
       "  <tbody>\n",
       "    <tr>\n",
       "      <th>2016-12-25 20:00:00+00:00</th>\n",
       "      <td>0.14</td>\n",
       "    </tr>\n",
       "    <tr>\n",
       "      <th>2016-12-25 21:00:00+00:00</th>\n",
       "      <td>0.10</td>\n",
       "    </tr>\n",
       "    <tr>\n",
       "      <th>2016-12-25 22:00:00+00:00</th>\n",
       "      <td>0.19</td>\n",
       "    </tr>\n",
       "    <tr>\n",
       "      <th>2016-12-25 23:00:00+00:00</th>\n",
       "      <td>0.06</td>\n",
       "    </tr>\n",
       "    <tr>\n",
       "      <th>2016-12-26 00:00:00+00:00</th>\n",
       "      <td>NaN</td>\n",
       "    </tr>\n",
       "  </tbody>\n",
       "</table>\n",
       "</div>"
      ],
      "text/plain": [
       "                           value\n",
       "start                           \n",
       "2016-12-25 20:00:00+00:00   0.14\n",
       "2016-12-25 21:00:00+00:00   0.10\n",
       "2016-12-25 22:00:00+00:00   0.19\n",
       "2016-12-25 23:00:00+00:00   0.06\n",
       "2016-12-26 00:00:00+00:00    NaN"
      ]
     },
     "execution_count": 16,
     "metadata": {},
     "output_type": "execute_result"
    }
   ],
   "source": [
    "baseline_meter_data_hourly.tail()"
   ]
  },
  {
   "cell_type": "code",
   "execution_count": 17,
   "metadata": {},
   "outputs": [
    {
     "data": {
      "text/html": [
       "<div>\n",
       "<style scoped>\n",
       "    .dataframe tbody tr th:only-of-type {\n",
       "        vertical-align: middle;\n",
       "    }\n",
       "\n",
       "    .dataframe tbody tr th {\n",
       "        vertical-align: top;\n",
       "    }\n",
       "\n",
       "    .dataframe thead th {\n",
       "        text-align: right;\n",
       "    }\n",
       "</style>\n",
       "<table border=\"1\" class=\"dataframe\">\n",
       "  <thead>\n",
       "    <tr style=\"text-align: right;\">\n",
       "      <th></th>\n",
       "      <th>value</th>\n",
       "    </tr>\n",
       "    <tr>\n",
       "      <th>start</th>\n",
       "      <th></th>\n",
       "    </tr>\n",
       "  </thead>\n",
       "  <tbody>\n",
       "    <tr>\n",
       "      <th>2016-12-22 00:00:00+00:00</th>\n",
       "      <td>30.79</td>\n",
       "    </tr>\n",
       "    <tr>\n",
       "      <th>2016-12-23 00:00:00+00:00</th>\n",
       "      <td>28.74</td>\n",
       "    </tr>\n",
       "    <tr>\n",
       "      <th>2016-12-24 00:00:00+00:00</th>\n",
       "      <td>31.63</td>\n",
       "    </tr>\n",
       "    <tr>\n",
       "      <th>2016-12-25 00:00:00+00:00</th>\n",
       "      <td>26.45</td>\n",
       "    </tr>\n",
       "    <tr>\n",
       "      <th>2016-12-26 00:00:00+00:00</th>\n",
       "      <td>NaN</td>\n",
       "    </tr>\n",
       "  </tbody>\n",
       "</table>\n",
       "</div>"
      ],
      "text/plain": [
       "                           value\n",
       "start                           \n",
       "2016-12-22 00:00:00+00:00  30.79\n",
       "2016-12-23 00:00:00+00:00  28.74\n",
       "2016-12-24 00:00:00+00:00  31.63\n",
       "2016-12-25 00:00:00+00:00  26.45\n",
       "2016-12-26 00:00:00+00:00    NaN"
      ]
     },
     "execution_count": 17,
     "metadata": {},
     "output_type": "execute_result"
    }
   ],
   "source": [
    "baseline_meter_data_daily.tail()"
   ]
  },
  {
   "cell_type": "code",
   "execution_count": 18,
   "metadata": {},
   "outputs": [
    {
     "data": {
      "text/html": [
       "<div>\n",
       "<style scoped>\n",
       "    .dataframe tbody tr th:only-of-type {\n",
       "        vertical-align: middle;\n",
       "    }\n",
       "\n",
       "    .dataframe tbody tr th {\n",
       "        vertical-align: top;\n",
       "    }\n",
       "\n",
       "    .dataframe thead th {\n",
       "        text-align: right;\n",
       "    }\n",
       "</style>\n",
       "<table border=\"1\" class=\"dataframe\">\n",
       "  <thead>\n",
       "    <tr style=\"text-align: right;\">\n",
       "      <th></th>\n",
       "      <th>value</th>\n",
       "    </tr>\n",
       "    <tr>\n",
       "      <th>start</th>\n",
       "      <th></th>\n",
       "    </tr>\n",
       "  </thead>\n",
       "  <tbody>\n",
       "    <tr>\n",
       "      <th>2016-08-22 06:00:00+00:00</th>\n",
       "      <td>942.15</td>\n",
       "    </tr>\n",
       "    <tr>\n",
       "      <th>2016-09-22 06:00:00+00:00</th>\n",
       "      <td>632.31</td>\n",
       "    </tr>\n",
       "    <tr>\n",
       "      <th>2016-10-24 06:00:00+00:00</th>\n",
       "      <td>538.24</td>\n",
       "    </tr>\n",
       "    <tr>\n",
       "      <th>2016-11-23 06:00:00+00:00</th>\n",
       "      <td>921.55</td>\n",
       "    </tr>\n",
       "    <tr>\n",
       "      <th>2016-12-19 06:00:00+00:00</th>\n",
       "      <td>NaN</td>\n",
       "    </tr>\n",
       "  </tbody>\n",
       "</table>\n",
       "</div>"
      ],
      "text/plain": [
       "                            value\n",
       "start                            \n",
       "2016-08-22 06:00:00+00:00  942.15\n",
       "2016-09-22 06:00:00+00:00  632.31\n",
       "2016-10-24 06:00:00+00:00  538.24\n",
       "2016-11-23 06:00:00+00:00  921.55\n",
       "2016-12-19 06:00:00+00:00     NaN"
      ]
     },
     "execution_count": 18,
     "metadata": {},
     "output_type": "execute_result"
    }
   ],
   "source": [
    "baseline_meter_data_billing.tail()"
   ]
  },
  {
   "cell_type": "markdown",
   "metadata": {},
   "source": [
    "If there had been any issues (e.g., unexpected gaps in the data) in filtering the data to the baseline period, some warnings would have been reported. This time we got off easy, but that will not always be the case in real-life datasets."
   ]
  },
  {
   "cell_type": "code",
   "execution_count": 19,
   "metadata": {},
   "outputs": [
    {
     "data": {
      "text/plain": [
       "([], [], [])"
      ]
     },
     "execution_count": 19,
     "metadata": {},
     "output_type": "execute_result"
    }
   ],
   "source": [
    "baseline_warnings_hourly, baseline_warnings_daily, baseline_warnings_billing"
   ]
  },
  {
   "cell_type": "markdown",
   "metadata": {},
   "source": [
    "## Creating CalTRACK Daily/Billing Method datasets\n",
    "\n",
    "We start with this case because it's a bit simpler. Hourly datasets created below.\n",
    "\n",
    "To make this into a dataset that can support analysis, we need to merge the meter data and temperature data into a single DataFrame. The `compute_usage_per_day_feature` function transforms the meter data into usage per day. The `compute_temperature_features` function lets us create a bunch of heating and cooling degree day values if we specify balance points to use. In this case, we'll use the wide balance point ranges recommended in the CalTRACK spec."
   ]
  },
  {
   "cell_type": "code",
   "execution_count": 20,
   "metadata": {},
   "outputs": [],
   "source": [
    "usage_per_day_daily = eemeter.compute_usage_per_day_feature(\n",
    "    baseline_meter_data_daily, series_name='meter_value'\n",
    ")\n",
    "temperature_features_daily = eemeter.compute_temperature_features(\n",
    "    baseline_meter_data_daily.index,\n",
    "    temperature_data_daily,\n",
    "    heating_balance_points=range(40, 81),  # a list like this [40, 41, 42, ... 79, 80]\n",
    "    cooling_balance_points=range(50, 91),\n",
    "    data_quality=True,  # add some measures of data quality so we can check data sufficiency later\n",
    ")\n",
    "design_matrix_daily = eemeter.merge_features([\n",
    "    usage_per_day_daily,\n",
    "    temperature_features_daily,\n",
    "])"
   ]
  },
  {
   "cell_type": "code",
   "execution_count": 21,
   "metadata": {},
   "outputs": [
    {
     "data": {
      "text/html": [
       "<div>\n",
       "<style scoped>\n",
       "    .dataframe tbody tr th:only-of-type {\n",
       "        vertical-align: middle;\n",
       "    }\n",
       "\n",
       "    .dataframe tbody tr th {\n",
       "        vertical-align: top;\n",
       "    }\n",
       "\n",
       "    .dataframe thead th {\n",
       "        text-align: right;\n",
       "    }\n",
       "</style>\n",
       "<table border=\"1\" class=\"dataframe\">\n",
       "  <thead>\n",
       "    <tr style=\"text-align: right;\">\n",
       "      <th></th>\n",
       "      <th>meter_value</th>\n",
       "      <th>temperature_not_null</th>\n",
       "      <th>temperature_null</th>\n",
       "      <th>temperature_mean</th>\n",
       "      <th>n_days_kept</th>\n",
       "      <th>n_days_dropped</th>\n",
       "      <th>cdd_50</th>\n",
       "      <th>cdd_51</th>\n",
       "      <th>cdd_52</th>\n",
       "      <th>cdd_53</th>\n",
       "      <th>...</th>\n",
       "      <th>hdd_71</th>\n",
       "      <th>hdd_72</th>\n",
       "      <th>hdd_73</th>\n",
       "      <th>hdd_74</th>\n",
       "      <th>hdd_75</th>\n",
       "      <th>hdd_76</th>\n",
       "      <th>hdd_77</th>\n",
       "      <th>hdd_78</th>\n",
       "      <th>hdd_79</th>\n",
       "      <th>hdd_80</th>\n",
       "    </tr>\n",
       "    <tr>\n",
       "      <th>start</th>\n",
       "      <th></th>\n",
       "      <th></th>\n",
       "      <th></th>\n",
       "      <th></th>\n",
       "      <th></th>\n",
       "      <th></th>\n",
       "      <th></th>\n",
       "      <th></th>\n",
       "      <th></th>\n",
       "      <th></th>\n",
       "      <th></th>\n",
       "      <th></th>\n",
       "      <th></th>\n",
       "      <th></th>\n",
       "      <th></th>\n",
       "      <th></th>\n",
       "      <th></th>\n",
       "      <th></th>\n",
       "      <th></th>\n",
       "      <th></th>\n",
       "      <th></th>\n",
       "    </tr>\n",
       "  </thead>\n",
       "  <tbody>\n",
       "    <tr>\n",
       "      <th>2016-12-22 00:00:00+00:00</th>\n",
       "      <td>30.79</td>\n",
       "      <td>24.0</td>\n",
       "      <td>0.0</td>\n",
       "      <td>37.755833</td>\n",
       "      <td>1.0</td>\n",
       "      <td>0.0</td>\n",
       "      <td>0.0</td>\n",
       "      <td>0.0</td>\n",
       "      <td>0.0</td>\n",
       "      <td>0.0</td>\n",
       "      <td>...</td>\n",
       "      <td>33.244167</td>\n",
       "      <td>34.244167</td>\n",
       "      <td>35.244167</td>\n",
       "      <td>36.244167</td>\n",
       "      <td>37.244167</td>\n",
       "      <td>38.244167</td>\n",
       "      <td>39.244167</td>\n",
       "      <td>40.244167</td>\n",
       "      <td>41.244167</td>\n",
       "      <td>42.244167</td>\n",
       "    </tr>\n",
       "    <tr>\n",
       "      <th>2016-12-23 00:00:00+00:00</th>\n",
       "      <td>28.74</td>\n",
       "      <td>24.0</td>\n",
       "      <td>0.0</td>\n",
       "      <td>34.483333</td>\n",
       "      <td>1.0</td>\n",
       "      <td>0.0</td>\n",
       "      <td>0.0</td>\n",
       "      <td>0.0</td>\n",
       "      <td>0.0</td>\n",
       "      <td>0.0</td>\n",
       "      <td>...</td>\n",
       "      <td>36.516667</td>\n",
       "      <td>37.516667</td>\n",
       "      <td>38.516667</td>\n",
       "      <td>39.516667</td>\n",
       "      <td>40.516667</td>\n",
       "      <td>41.516667</td>\n",
       "      <td>42.516667</td>\n",
       "      <td>43.516667</td>\n",
       "      <td>44.516667</td>\n",
       "      <td>45.516667</td>\n",
       "    </tr>\n",
       "    <tr>\n",
       "      <th>2016-12-24 00:00:00+00:00</th>\n",
       "      <td>31.63</td>\n",
       "      <td>24.0</td>\n",
       "      <td>0.0</td>\n",
       "      <td>40.632500</td>\n",
       "      <td>1.0</td>\n",
       "      <td>0.0</td>\n",
       "      <td>0.0</td>\n",
       "      <td>0.0</td>\n",
       "      <td>0.0</td>\n",
       "      <td>0.0</td>\n",
       "      <td>...</td>\n",
       "      <td>30.367500</td>\n",
       "      <td>31.367500</td>\n",
       "      <td>32.367500</td>\n",
       "      <td>33.367500</td>\n",
       "      <td>34.367500</td>\n",
       "      <td>35.367500</td>\n",
       "      <td>36.367500</td>\n",
       "      <td>37.367500</td>\n",
       "      <td>38.367500</td>\n",
       "      <td>39.367500</td>\n",
       "    </tr>\n",
       "    <tr>\n",
       "      <th>2016-12-25 00:00:00+00:00</th>\n",
       "      <td>26.45</td>\n",
       "      <td>24.0</td>\n",
       "      <td>0.0</td>\n",
       "      <td>39.362500</td>\n",
       "      <td>1.0</td>\n",
       "      <td>0.0</td>\n",
       "      <td>0.0</td>\n",
       "      <td>0.0</td>\n",
       "      <td>0.0</td>\n",
       "      <td>0.0</td>\n",
       "      <td>...</td>\n",
       "      <td>31.637500</td>\n",
       "      <td>32.637500</td>\n",
       "      <td>33.637500</td>\n",
       "      <td>34.637500</td>\n",
       "      <td>35.637500</td>\n",
       "      <td>36.637500</td>\n",
       "      <td>37.637500</td>\n",
       "      <td>38.637500</td>\n",
       "      <td>39.637500</td>\n",
       "      <td>40.637500</td>\n",
       "    </tr>\n",
       "    <tr>\n",
       "      <th>2016-12-26 00:00:00+00:00</th>\n",
       "      <td>NaN</td>\n",
       "      <td>NaN</td>\n",
       "      <td>NaN</td>\n",
       "      <td>NaN</td>\n",
       "      <td>NaN</td>\n",
       "      <td>NaN</td>\n",
       "      <td>NaN</td>\n",
       "      <td>NaN</td>\n",
       "      <td>NaN</td>\n",
       "      <td>NaN</td>\n",
       "      <td>...</td>\n",
       "      <td>NaN</td>\n",
       "      <td>NaN</td>\n",
       "      <td>NaN</td>\n",
       "      <td>NaN</td>\n",
       "      <td>NaN</td>\n",
       "      <td>NaN</td>\n",
       "      <td>NaN</td>\n",
       "      <td>NaN</td>\n",
       "      <td>NaN</td>\n",
       "      <td>NaN</td>\n",
       "    </tr>\n",
       "  </tbody>\n",
       "</table>\n",
       "<p>5 rows × 88 columns</p>\n",
       "</div>"
      ],
      "text/plain": [
       "                           meter_value  temperature_not_null  \\\n",
       "start                                                          \n",
       "2016-12-22 00:00:00+00:00        30.79                  24.0   \n",
       "2016-12-23 00:00:00+00:00        28.74                  24.0   \n",
       "2016-12-24 00:00:00+00:00        31.63                  24.0   \n",
       "2016-12-25 00:00:00+00:00        26.45                  24.0   \n",
       "2016-12-26 00:00:00+00:00          NaN                   NaN   \n",
       "\n",
       "                           temperature_null  temperature_mean  n_days_kept  \\\n",
       "start                                                                        \n",
       "2016-12-22 00:00:00+00:00               0.0         37.755833          1.0   \n",
       "2016-12-23 00:00:00+00:00               0.0         34.483333          1.0   \n",
       "2016-12-24 00:00:00+00:00               0.0         40.632500          1.0   \n",
       "2016-12-25 00:00:00+00:00               0.0         39.362500          1.0   \n",
       "2016-12-26 00:00:00+00:00               NaN               NaN          NaN   \n",
       "\n",
       "                           n_days_dropped  cdd_50  cdd_51  cdd_52  cdd_53  \\\n",
       "start                                                                       \n",
       "2016-12-22 00:00:00+00:00             0.0     0.0     0.0     0.0     0.0   \n",
       "2016-12-23 00:00:00+00:00             0.0     0.0     0.0     0.0     0.0   \n",
       "2016-12-24 00:00:00+00:00             0.0     0.0     0.0     0.0     0.0   \n",
       "2016-12-25 00:00:00+00:00             0.0     0.0     0.0     0.0     0.0   \n",
       "2016-12-26 00:00:00+00:00             NaN     NaN     NaN     NaN     NaN   \n",
       "\n",
       "                             ...         hdd_71     hdd_72     hdd_73  \\\n",
       "start                        ...                                        \n",
       "2016-12-22 00:00:00+00:00    ...      33.244167  34.244167  35.244167   \n",
       "2016-12-23 00:00:00+00:00    ...      36.516667  37.516667  38.516667   \n",
       "2016-12-24 00:00:00+00:00    ...      30.367500  31.367500  32.367500   \n",
       "2016-12-25 00:00:00+00:00    ...      31.637500  32.637500  33.637500   \n",
       "2016-12-26 00:00:00+00:00    ...            NaN        NaN        NaN   \n",
       "\n",
       "                              hdd_74     hdd_75     hdd_76     hdd_77  \\\n",
       "start                                                                   \n",
       "2016-12-22 00:00:00+00:00  36.244167  37.244167  38.244167  39.244167   \n",
       "2016-12-23 00:00:00+00:00  39.516667  40.516667  41.516667  42.516667   \n",
       "2016-12-24 00:00:00+00:00  33.367500  34.367500  35.367500  36.367500   \n",
       "2016-12-25 00:00:00+00:00  34.637500  35.637500  36.637500  37.637500   \n",
       "2016-12-26 00:00:00+00:00        NaN        NaN        NaN        NaN   \n",
       "\n",
       "                              hdd_78     hdd_79     hdd_80  \n",
       "start                                                       \n",
       "2016-12-22 00:00:00+00:00  40.244167  41.244167  42.244167  \n",
       "2016-12-23 00:00:00+00:00  43.516667  44.516667  45.516667  \n",
       "2016-12-24 00:00:00+00:00  37.367500  38.367500  39.367500  \n",
       "2016-12-25 00:00:00+00:00  38.637500  39.637500  40.637500  \n",
       "2016-12-26 00:00:00+00:00        NaN        NaN        NaN  \n",
       "\n",
       "[5 rows x 88 columns]"
      ]
     },
     "execution_count": 21,
     "metadata": {},
     "output_type": "execute_result"
    }
   ],
   "source": [
    "design_matrix_daily.tail()"
   ]
  },
  {
   "cell_type": "code",
   "execution_count": 22,
   "metadata": {},
   "outputs": [
    {
     "data": {
      "text/plain": [
       "(Timestamp('2015-12-27 00:00:00+0000', tz='UTC', freq='D'),\n",
       " Timestamp('2016-12-26 00:00:00+0000', tz='UTC', freq='D'))"
      ]
     },
     "execution_count": 22,
     "metadata": {},
     "output_type": "execute_result"
    }
   ],
   "source": [
    "design_matrix_daily.index.min(), design_matrix_daily.index.max()"
   ]
  },
  {
   "cell_type": "code",
   "execution_count": 23,
   "metadata": {},
   "outputs": [],
   "source": [
    "import pandas as pd  # for timedelta\n",
    "\n",
    "usage_per_day_billing = eemeter.compute_usage_per_day_feature(\n",
    "    baseline_meter_data_billing, series_name='meter_value'\n",
    ")\n",
    "temperature_features_billing = eemeter.compute_temperature_features(\n",
    "    baseline_meter_data_billing.index,\n",
    "    temperature_data_billing,\n",
    "    heating_balance_points=range(40, 81),  # a list like this [40, 41, 42, ... 79, 80]\n",
    "    cooling_balance_points=range(50, 91),\n",
    "    data_quality=True,  # add some measures of data quality so we can check data sufficiency later\n",
    "    tolerance=pd.Timedelta('35D'),  # limit temperature data matching to periods of up to 35 days.\n",
    ")\n",
    "design_matrix_billing = eemeter.merge_features([\n",
    "    usage_per_day_billing,\n",
    "    temperature_features_billing,\n",
    "])"
   ]
  },
  {
   "cell_type": "code",
   "execution_count": 24,
   "metadata": {},
   "outputs": [
    {
     "data": {
      "text/html": [
       "<div>\n",
       "<style scoped>\n",
       "    .dataframe tbody tr th:only-of-type {\n",
       "        vertical-align: middle;\n",
       "    }\n",
       "\n",
       "    .dataframe tbody tr th {\n",
       "        vertical-align: top;\n",
       "    }\n",
       "\n",
       "    .dataframe thead th {\n",
       "        text-align: right;\n",
       "    }\n",
       "</style>\n",
       "<table border=\"1\" class=\"dataframe\">\n",
       "  <thead>\n",
       "    <tr style=\"text-align: right;\">\n",
       "      <th></th>\n",
       "      <th>meter_value</th>\n",
       "      <th>temperature_not_null</th>\n",
       "      <th>temperature_null</th>\n",
       "      <th>temperature_mean</th>\n",
       "      <th>n_days_kept</th>\n",
       "      <th>n_days_dropped</th>\n",
       "      <th>cdd_50</th>\n",
       "      <th>cdd_51</th>\n",
       "      <th>cdd_52</th>\n",
       "      <th>cdd_53</th>\n",
       "      <th>...</th>\n",
       "      <th>hdd_71</th>\n",
       "      <th>hdd_72</th>\n",
       "      <th>hdd_73</th>\n",
       "      <th>hdd_74</th>\n",
       "      <th>hdd_75</th>\n",
       "      <th>hdd_76</th>\n",
       "      <th>hdd_77</th>\n",
       "      <th>hdd_78</th>\n",
       "      <th>hdd_79</th>\n",
       "      <th>hdd_80</th>\n",
       "    </tr>\n",
       "    <tr>\n",
       "      <th>start</th>\n",
       "      <th></th>\n",
       "      <th></th>\n",
       "      <th></th>\n",
       "      <th></th>\n",
       "      <th></th>\n",
       "      <th></th>\n",
       "      <th></th>\n",
       "      <th></th>\n",
       "      <th></th>\n",
       "      <th></th>\n",
       "      <th></th>\n",
       "      <th></th>\n",
       "      <th></th>\n",
       "      <th></th>\n",
       "      <th></th>\n",
       "      <th></th>\n",
       "      <th></th>\n",
       "      <th></th>\n",
       "      <th></th>\n",
       "      <th></th>\n",
       "      <th></th>\n",
       "    </tr>\n",
       "  </thead>\n",
       "  <tbody>\n",
       "    <tr>\n",
       "      <th>2016-08-22 06:00:00+00:00</th>\n",
       "      <td>30.391935</td>\n",
       "      <td>744.0</td>\n",
       "      <td>0.0</td>\n",
       "      <td>74.667392</td>\n",
       "      <td>31.0</td>\n",
       "      <td>0.0</td>\n",
       "      <td>24.667392</td>\n",
       "      <td>23.667392</td>\n",
       "      <td>22.667392</td>\n",
       "      <td>21.667392</td>\n",
       "      <td>...</td>\n",
       "      <td>0.608118</td>\n",
       "      <td>0.848831</td>\n",
       "      <td>1.170874</td>\n",
       "      <td>1.622379</td>\n",
       "      <td>2.120833</td>\n",
       "      <td>2.749825</td>\n",
       "      <td>3.422339</td>\n",
       "      <td>4.103347</td>\n",
       "      <td>4.833065</td>\n",
       "      <td>5.609059</td>\n",
       "    </tr>\n",
       "    <tr>\n",
       "      <th>2016-09-22 06:00:00+00:00</th>\n",
       "      <td>19.759687</td>\n",
       "      <td>768.0</td>\n",
       "      <td>0.0</td>\n",
       "      <td>64.546667</td>\n",
       "      <td>32.0</td>\n",
       "      <td>0.0</td>\n",
       "      <td>14.637852</td>\n",
       "      <td>13.681497</td>\n",
       "      <td>12.759857</td>\n",
       "      <td>11.853607</td>\n",
       "      <td>...</td>\n",
       "      <td>7.743125</td>\n",
       "      <td>8.461875</td>\n",
       "      <td>9.188073</td>\n",
       "      <td>9.962005</td>\n",
       "      <td>10.789727</td>\n",
       "      <td>11.633477</td>\n",
       "      <td>12.511029</td>\n",
       "      <td>13.455221</td>\n",
       "      <td>14.453333</td>\n",
       "      <td>15.453333</td>\n",
       "    </tr>\n",
       "    <tr>\n",
       "      <th>2016-10-24 06:00:00+00:00</th>\n",
       "      <td>17.941333</td>\n",
       "      <td>720.0</td>\n",
       "      <td>0.0</td>\n",
       "      <td>53.130458</td>\n",
       "      <td>30.0</td>\n",
       "      <td>0.0</td>\n",
       "      <td>5.562833</td>\n",
       "      <td>4.901917</td>\n",
       "      <td>4.268583</td>\n",
       "      <td>3.668833</td>\n",
       "      <td>...</td>\n",
       "      <td>17.931722</td>\n",
       "      <td>18.874931</td>\n",
       "      <td>19.869542</td>\n",
       "      <td>20.869542</td>\n",
       "      <td>21.869542</td>\n",
       "      <td>22.869542</td>\n",
       "      <td>23.869542</td>\n",
       "      <td>24.869542</td>\n",
       "      <td>25.869542</td>\n",
       "      <td>26.869542</td>\n",
       "    </tr>\n",
       "    <tr>\n",
       "      <th>2016-11-23 06:00:00+00:00</th>\n",
       "      <td>35.444231</td>\n",
       "      <td>624.0</td>\n",
       "      <td>0.0</td>\n",
       "      <td>32.976378</td>\n",
       "      <td>26.0</td>\n",
       "      <td>0.0</td>\n",
       "      <td>0.001250</td>\n",
       "      <td>0.000000</td>\n",
       "      <td>0.000000</td>\n",
       "      <td>0.000000</td>\n",
       "      <td>...</td>\n",
       "      <td>38.023622</td>\n",
       "      <td>39.023622</td>\n",
       "      <td>40.023622</td>\n",
       "      <td>41.023622</td>\n",
       "      <td>42.023622</td>\n",
       "      <td>43.023622</td>\n",
       "      <td>44.023622</td>\n",
       "      <td>45.023622</td>\n",
       "      <td>46.023622</td>\n",
       "      <td>47.023622</td>\n",
       "    </tr>\n",
       "    <tr>\n",
       "      <th>2016-12-19 06:00:00+00:00</th>\n",
       "      <td>NaN</td>\n",
       "      <td>NaN</td>\n",
       "      <td>NaN</td>\n",
       "      <td>NaN</td>\n",
       "      <td>NaN</td>\n",
       "      <td>NaN</td>\n",
       "      <td>NaN</td>\n",
       "      <td>NaN</td>\n",
       "      <td>NaN</td>\n",
       "      <td>NaN</td>\n",
       "      <td>...</td>\n",
       "      <td>NaN</td>\n",
       "      <td>NaN</td>\n",
       "      <td>NaN</td>\n",
       "      <td>NaN</td>\n",
       "      <td>NaN</td>\n",
       "      <td>NaN</td>\n",
       "      <td>NaN</td>\n",
       "      <td>NaN</td>\n",
       "      <td>NaN</td>\n",
       "      <td>NaN</td>\n",
       "    </tr>\n",
       "  </tbody>\n",
       "</table>\n",
       "<p>5 rows × 88 columns</p>\n",
       "</div>"
      ],
      "text/plain": [
       "                           meter_value  temperature_not_null  \\\n",
       "start                                                          \n",
       "2016-08-22 06:00:00+00:00    30.391935                 744.0   \n",
       "2016-09-22 06:00:00+00:00    19.759687                 768.0   \n",
       "2016-10-24 06:00:00+00:00    17.941333                 720.0   \n",
       "2016-11-23 06:00:00+00:00    35.444231                 624.0   \n",
       "2016-12-19 06:00:00+00:00          NaN                   NaN   \n",
       "\n",
       "                           temperature_null  temperature_mean  n_days_kept  \\\n",
       "start                                                                        \n",
       "2016-08-22 06:00:00+00:00               0.0         74.667392         31.0   \n",
       "2016-09-22 06:00:00+00:00               0.0         64.546667         32.0   \n",
       "2016-10-24 06:00:00+00:00               0.0         53.130458         30.0   \n",
       "2016-11-23 06:00:00+00:00               0.0         32.976378         26.0   \n",
       "2016-12-19 06:00:00+00:00               NaN               NaN          NaN   \n",
       "\n",
       "                           n_days_dropped     cdd_50     cdd_51     cdd_52  \\\n",
       "start                                                                        \n",
       "2016-08-22 06:00:00+00:00             0.0  24.667392  23.667392  22.667392   \n",
       "2016-09-22 06:00:00+00:00             0.0  14.637852  13.681497  12.759857   \n",
       "2016-10-24 06:00:00+00:00             0.0   5.562833   4.901917   4.268583   \n",
       "2016-11-23 06:00:00+00:00             0.0   0.001250   0.000000   0.000000   \n",
       "2016-12-19 06:00:00+00:00             NaN        NaN        NaN        NaN   \n",
       "\n",
       "                              cdd_53    ...         hdd_71     hdd_72  \\\n",
       "start                                   ...                             \n",
       "2016-08-22 06:00:00+00:00  21.667392    ...       0.608118   0.848831   \n",
       "2016-09-22 06:00:00+00:00  11.853607    ...       7.743125   8.461875   \n",
       "2016-10-24 06:00:00+00:00   3.668833    ...      17.931722  18.874931   \n",
       "2016-11-23 06:00:00+00:00   0.000000    ...      38.023622  39.023622   \n",
       "2016-12-19 06:00:00+00:00        NaN    ...            NaN        NaN   \n",
       "\n",
       "                              hdd_73     hdd_74     hdd_75     hdd_76  \\\n",
       "start                                                                   \n",
       "2016-08-22 06:00:00+00:00   1.170874   1.622379   2.120833   2.749825   \n",
       "2016-09-22 06:00:00+00:00   9.188073   9.962005  10.789727  11.633477   \n",
       "2016-10-24 06:00:00+00:00  19.869542  20.869542  21.869542  22.869542   \n",
       "2016-11-23 06:00:00+00:00  40.023622  41.023622  42.023622  43.023622   \n",
       "2016-12-19 06:00:00+00:00        NaN        NaN        NaN        NaN   \n",
       "\n",
       "                              hdd_77     hdd_78     hdd_79     hdd_80  \n",
       "start                                                                  \n",
       "2016-08-22 06:00:00+00:00   3.422339   4.103347   4.833065   5.609059  \n",
       "2016-09-22 06:00:00+00:00  12.511029  13.455221  14.453333  15.453333  \n",
       "2016-10-24 06:00:00+00:00  23.869542  24.869542  25.869542  26.869542  \n",
       "2016-11-23 06:00:00+00:00  44.023622  45.023622  46.023622  47.023622  \n",
       "2016-12-19 06:00:00+00:00        NaN        NaN        NaN        NaN  \n",
       "\n",
       "[5 rows x 88 columns]"
      ]
     },
     "execution_count": 24,
     "metadata": {},
     "output_type": "execute_result"
    }
   ],
   "source": [
    "design_matrix_billing.tail()"
   ]
  },
  {
   "cell_type": "code",
   "execution_count": 25,
   "metadata": {},
   "outputs": [
    {
     "data": {
      "text/plain": [
       "(Timestamp('2016-01-22 06:00:00+0000', tz='UTC'),\n",
       " Timestamp('2016-12-19 06:00:00+0000', tz='UTC'))"
      ]
     },
     "execution_count": 25,
     "metadata": {},
     "output_type": "execute_result"
    }
   ],
   "source": [
    "design_matrix_billing.index.min(), design_matrix_billing.index.max()"
   ]
  },
  {
   "cell_type": "markdown",
   "metadata": {},
   "source": [
    "## Creating CalTRACK Hourly Method datasets\n",
    "\n",
    "The hourly methods require a two-stage dataset creation process because it segments the dataset into weighted groups by month and uses some preliminary features in fitting subsequent features.\n",
    "\n",
    "### Creating a preliminary dataset\n",
    "\n",
    "The preliminary dataset has some simple time and temperature features. These features do not vary by segment and are precursors to other features (See below for a better explanation of segmentation). This step looks a lot like the daily/billing dataset creation."
   ]
  },
  {
   "cell_type": "code",
   "execution_count": 26,
   "metadata": {},
   "outputs": [],
   "source": [
    "time_features_hourly = eemeter.compute_time_features(\n",
    "    baseline_meter_data_hourly.index\n",
    ")\n",
    "temperature_features_hourly = eemeter.compute_temperature_features(\n",
    "    baseline_meter_data_hourly.index, temperature_data_hourly,\n",
    "    heating_balance_points=[50], cooling_balance_points=[65],\n",
    "    degree_day_method='hourly'\n",
    ")\n",
    "preliminary_design_matrix_hourly = eemeter.merge_features([  # not sure how to represent this in platform\n",
    "    baseline_meter_data_hourly.value.to_frame('meter_value'),\n",
    "    temperature_features_hourly,\n",
    "    time_features_hourly,\n",
    "])"
   ]
  },
  {
   "cell_type": "code",
   "execution_count": 27,
   "metadata": {},
   "outputs": [
    {
     "data": {
      "text/html": [
       "<div>\n",
       "<style scoped>\n",
       "    .dataframe tbody tr th:only-of-type {\n",
       "        vertical-align: middle;\n",
       "    }\n",
       "\n",
       "    .dataframe tbody tr th {\n",
       "        vertical-align: top;\n",
       "    }\n",
       "\n",
       "    .dataframe thead th {\n",
       "        text-align: right;\n",
       "    }\n",
       "</style>\n",
       "<table border=\"1\" class=\"dataframe\">\n",
       "  <thead>\n",
       "    <tr style=\"text-align: right;\">\n",
       "      <th></th>\n",
       "      <th>meter_value</th>\n",
       "      <th>temperature_mean</th>\n",
       "      <th>cdd_65</th>\n",
       "      <th>hdd_50</th>\n",
       "      <th>hour_of_week</th>\n",
       "    </tr>\n",
       "    <tr>\n",
       "      <th>start</th>\n",
       "      <th></th>\n",
       "      <th></th>\n",
       "      <th></th>\n",
       "      <th></th>\n",
       "      <th></th>\n",
       "    </tr>\n",
       "  </thead>\n",
       "  <tbody>\n",
       "    <tr>\n",
       "      <th>2016-12-25 20:00:00+00:00</th>\n",
       "      <td>0.14</td>\n",
       "      <td>42.30</td>\n",
       "      <td>0.0</td>\n",
       "      <td>7.70</td>\n",
       "      <td>165.0</td>\n",
       "    </tr>\n",
       "    <tr>\n",
       "      <th>2016-12-25 21:00:00+00:00</th>\n",
       "      <td>0.10</td>\n",
       "      <td>42.99</td>\n",
       "      <td>0.0</td>\n",
       "      <td>7.01</td>\n",
       "      <td>166.0</td>\n",
       "    </tr>\n",
       "    <tr>\n",
       "      <th>2016-12-25 22:00:00+00:00</th>\n",
       "      <td>0.19</td>\n",
       "      <td>43.65</td>\n",
       "      <td>0.0</td>\n",
       "      <td>6.35</td>\n",
       "      <td>167.0</td>\n",
       "    </tr>\n",
       "    <tr>\n",
       "      <th>2016-12-25 23:00:00+00:00</th>\n",
       "      <td>0.06</td>\n",
       "      <td>44.64</td>\n",
       "      <td>0.0</td>\n",
       "      <td>5.36</td>\n",
       "      <td>168.0</td>\n",
       "    </tr>\n",
       "    <tr>\n",
       "      <th>2016-12-26 00:00:00+00:00</th>\n",
       "      <td>NaN</td>\n",
       "      <td>NaN</td>\n",
       "      <td>NaN</td>\n",
       "      <td>NaN</td>\n",
       "      <td>NaN</td>\n",
       "    </tr>\n",
       "  </tbody>\n",
       "</table>\n",
       "</div>"
      ],
      "text/plain": [
       "                           meter_value  temperature_mean  cdd_65  hdd_50  \\\n",
       "start                                                                      \n",
       "2016-12-25 20:00:00+00:00         0.14             42.30     0.0    7.70   \n",
       "2016-12-25 21:00:00+00:00         0.10             42.99     0.0    7.01   \n",
       "2016-12-25 22:00:00+00:00         0.19             43.65     0.0    6.35   \n",
       "2016-12-25 23:00:00+00:00         0.06             44.64     0.0    5.36   \n",
       "2016-12-26 00:00:00+00:00          NaN               NaN     NaN     NaN   \n",
       "\n",
       "                          hour_of_week  \n",
       "start                                   \n",
       "2016-12-25 20:00:00+00:00        165.0  \n",
       "2016-12-25 21:00:00+00:00        166.0  \n",
       "2016-12-25 22:00:00+00:00        167.0  \n",
       "2016-12-25 23:00:00+00:00        168.0  \n",
       "2016-12-26 00:00:00+00:00          NaN  "
      ]
     },
     "execution_count": 27,
     "metadata": {},
     "output_type": "execute_result"
    }
   ],
   "source": [
    "preliminary_design_matrix_hourly.tail()"
   ]
  },
  {
   "cell_type": "markdown",
   "metadata": {},
   "source": [
    "### Segmentation\n",
    "\n",
    "Starting with the preliminary dataset, we now create a dataset of segmentation weights. We will use this to create 12 independent hourly models - one for each month of the calendar year.\n",
    "\n",
    "This segmentation matrix contains 1 column for each segment (12 in all), each of which contains the segmentation weights for that column. The segmentation scheme we use here is to have one segmentation for each month which contains a fully weighted calendar month and half-weighted neighboring months."
   ]
  },
  {
   "cell_type": "code",
   "execution_count": 28,
   "metadata": {},
   "outputs": [
    {
     "data": {
      "text/html": [
       "<div>\n",
       "<style scoped>\n",
       "    .dataframe tbody tr th:only-of-type {\n",
       "        vertical-align: middle;\n",
       "    }\n",
       "\n",
       "    .dataframe tbody tr th {\n",
       "        vertical-align: top;\n",
       "    }\n",
       "\n",
       "    .dataframe thead th {\n",
       "        text-align: right;\n",
       "    }\n",
       "</style>\n",
       "<table border=\"1\" class=\"dataframe\">\n",
       "  <thead>\n",
       "    <tr style=\"text-align: right;\">\n",
       "      <th></th>\n",
       "      <th>dec-jan-feb-weighted</th>\n",
       "      <th>jan-feb-mar-weighted</th>\n",
       "      <th>feb-mar-apr-weighted</th>\n",
       "      <th>mar-apr-may-weighted</th>\n",
       "      <th>apr-may-jun-weighted</th>\n",
       "      <th>may-jun-jul-weighted</th>\n",
       "      <th>jun-jul-aug-weighted</th>\n",
       "      <th>jul-aug-sep-weighted</th>\n",
       "      <th>aug-sep-oct-weighted</th>\n",
       "      <th>sep-oct-nov-weighted</th>\n",
       "      <th>oct-nov-dec-weighted</th>\n",
       "      <th>nov-dec-jan-weighted</th>\n",
       "    </tr>\n",
       "    <tr>\n",
       "      <th>start</th>\n",
       "      <th></th>\n",
       "      <th></th>\n",
       "      <th></th>\n",
       "      <th></th>\n",
       "      <th></th>\n",
       "      <th></th>\n",
       "      <th></th>\n",
       "      <th></th>\n",
       "      <th></th>\n",
       "      <th></th>\n",
       "      <th></th>\n",
       "      <th></th>\n",
       "    </tr>\n",
       "  </thead>\n",
       "  <tbody>\n",
       "    <tr>\n",
       "      <th>2015-12-27 00:00:00+00:00</th>\n",
       "      <td>0.5</td>\n",
       "      <td>0.0</td>\n",
       "      <td>0.0</td>\n",
       "      <td>0.0</td>\n",
       "      <td>0.0</td>\n",
       "      <td>0.0</td>\n",
       "      <td>0.0</td>\n",
       "      <td>0.0</td>\n",
       "      <td>0.0</td>\n",
       "      <td>0.0</td>\n",
       "      <td>0.5</td>\n",
       "      <td>1.0</td>\n",
       "    </tr>\n",
       "    <tr>\n",
       "      <th>2015-12-27 01:00:00+00:00</th>\n",
       "      <td>0.5</td>\n",
       "      <td>0.0</td>\n",
       "      <td>0.0</td>\n",
       "      <td>0.0</td>\n",
       "      <td>0.0</td>\n",
       "      <td>0.0</td>\n",
       "      <td>0.0</td>\n",
       "      <td>0.0</td>\n",
       "      <td>0.0</td>\n",
       "      <td>0.0</td>\n",
       "      <td>0.5</td>\n",
       "      <td>1.0</td>\n",
       "    </tr>\n",
       "    <tr>\n",
       "      <th>2015-12-27 02:00:00+00:00</th>\n",
       "      <td>0.5</td>\n",
       "      <td>0.0</td>\n",
       "      <td>0.0</td>\n",
       "      <td>0.0</td>\n",
       "      <td>0.0</td>\n",
       "      <td>0.0</td>\n",
       "      <td>0.0</td>\n",
       "      <td>0.0</td>\n",
       "      <td>0.0</td>\n",
       "      <td>0.0</td>\n",
       "      <td>0.5</td>\n",
       "      <td>1.0</td>\n",
       "    </tr>\n",
       "    <tr>\n",
       "      <th>2015-12-27 03:00:00+00:00</th>\n",
       "      <td>0.5</td>\n",
       "      <td>0.0</td>\n",
       "      <td>0.0</td>\n",
       "      <td>0.0</td>\n",
       "      <td>0.0</td>\n",
       "      <td>0.0</td>\n",
       "      <td>0.0</td>\n",
       "      <td>0.0</td>\n",
       "      <td>0.0</td>\n",
       "      <td>0.0</td>\n",
       "      <td>0.5</td>\n",
       "      <td>1.0</td>\n",
       "    </tr>\n",
       "    <tr>\n",
       "      <th>2015-12-27 04:00:00+00:00</th>\n",
       "      <td>0.5</td>\n",
       "      <td>0.0</td>\n",
       "      <td>0.0</td>\n",
       "      <td>0.0</td>\n",
       "      <td>0.0</td>\n",
       "      <td>0.0</td>\n",
       "      <td>0.0</td>\n",
       "      <td>0.0</td>\n",
       "      <td>0.0</td>\n",
       "      <td>0.0</td>\n",
       "      <td>0.5</td>\n",
       "      <td>1.0</td>\n",
       "    </tr>\n",
       "  </tbody>\n",
       "</table>\n",
       "</div>"
      ],
      "text/plain": [
       "                           dec-jan-feb-weighted  jan-feb-mar-weighted  \\\n",
       "start                                                                   \n",
       "2015-12-27 00:00:00+00:00                   0.5                   0.0   \n",
       "2015-12-27 01:00:00+00:00                   0.5                   0.0   \n",
       "2015-12-27 02:00:00+00:00                   0.5                   0.0   \n",
       "2015-12-27 03:00:00+00:00                   0.5                   0.0   \n",
       "2015-12-27 04:00:00+00:00                   0.5                   0.0   \n",
       "\n",
       "                           feb-mar-apr-weighted  mar-apr-may-weighted  \\\n",
       "start                                                                   \n",
       "2015-12-27 00:00:00+00:00                   0.0                   0.0   \n",
       "2015-12-27 01:00:00+00:00                   0.0                   0.0   \n",
       "2015-12-27 02:00:00+00:00                   0.0                   0.0   \n",
       "2015-12-27 03:00:00+00:00                   0.0                   0.0   \n",
       "2015-12-27 04:00:00+00:00                   0.0                   0.0   \n",
       "\n",
       "                           apr-may-jun-weighted  may-jun-jul-weighted  \\\n",
       "start                                                                   \n",
       "2015-12-27 00:00:00+00:00                   0.0                   0.0   \n",
       "2015-12-27 01:00:00+00:00                   0.0                   0.0   \n",
       "2015-12-27 02:00:00+00:00                   0.0                   0.0   \n",
       "2015-12-27 03:00:00+00:00                   0.0                   0.0   \n",
       "2015-12-27 04:00:00+00:00                   0.0                   0.0   \n",
       "\n",
       "                           jun-jul-aug-weighted  jul-aug-sep-weighted  \\\n",
       "start                                                                   \n",
       "2015-12-27 00:00:00+00:00                   0.0                   0.0   \n",
       "2015-12-27 01:00:00+00:00                   0.0                   0.0   \n",
       "2015-12-27 02:00:00+00:00                   0.0                   0.0   \n",
       "2015-12-27 03:00:00+00:00                   0.0                   0.0   \n",
       "2015-12-27 04:00:00+00:00                   0.0                   0.0   \n",
       "\n",
       "                           aug-sep-oct-weighted  sep-oct-nov-weighted  \\\n",
       "start                                                                   \n",
       "2015-12-27 00:00:00+00:00                   0.0                   0.0   \n",
       "2015-12-27 01:00:00+00:00                   0.0                   0.0   \n",
       "2015-12-27 02:00:00+00:00                   0.0                   0.0   \n",
       "2015-12-27 03:00:00+00:00                   0.0                   0.0   \n",
       "2015-12-27 04:00:00+00:00                   0.0                   0.0   \n",
       "\n",
       "                           oct-nov-dec-weighted  nov-dec-jan-weighted  \n",
       "start                                                                  \n",
       "2015-12-27 00:00:00+00:00                   0.5                   1.0  \n",
       "2015-12-27 01:00:00+00:00                   0.5                   1.0  \n",
       "2015-12-27 02:00:00+00:00                   0.5                   1.0  \n",
       "2015-12-27 03:00:00+00:00                   0.5                   1.0  \n",
       "2015-12-27 04:00:00+00:00                   0.5                   1.0  "
      ]
     },
     "execution_count": 28,
     "metadata": {},
     "output_type": "execute_result"
    }
   ],
   "source": [
    "segmentation_hourly = eemeter.segment_time_series(\n",
    "    preliminary_design_matrix_hourly.index, 'three_month_weighted')\n",
    "segmentation_hourly.head()"
   ]
  },
  {
   "cell_type": "code",
   "execution_count": 29,
   "metadata": {},
   "outputs": [
    {
     "data": {
      "text/plain": [
       "<matplotlib.axes._subplots.AxesSubplot at 0x7eff3c48b8d0>"
      ]
     },
     "execution_count": 29,
     "metadata": {},
     "output_type": "execute_result"
    },
    {
     "data": {
      "image/png": "[encoded data removed]",
      "text/plain": [
       "<Figure size 1008x288 with 1 Axes>"
      ]
     },
     "metadata": {},
     "output_type": "display_data"
    }
   ],
   "source": [
    "# example segmentation weights\n",
    "segmentation_hourly[[\n",
    "    'dec-jan-feb-weighted',\n",
    "    'apr-may-jun-weighted',\n",
    "    'jun-jul-aug-weighted'\n",
    "]].plot.area(stacked=False, alpha=0.3, figsize=(14, 4))"
   ]
  },
  {
   "cell_type": "markdown",
   "metadata": {},
   "source": [
    "### Fitting segmented occupancy lookups\n",
    "\n",
    "Occupancy is estimated by building a simple model from the preliminary design matrix. This is done for each segment independently, so results are returned as a dataframe with one segment of results per column."
   ]
  },
  {
   "cell_type": "code",
   "execution_count": 30,
   "metadata": {},
   "outputs": [
    {
     "data": {
      "text/html": [
       "<div>\n",
       "<style scoped>\n",
       "    .dataframe tbody tr th:only-of-type {\n",
       "        vertical-align: middle;\n",
       "    }\n",
       "\n",
       "    .dataframe tbody tr th {\n",
       "        vertical-align: top;\n",
       "    }\n",
       "\n",
       "    .dataframe thead th {\n",
       "        text-align: right;\n",
       "    }\n",
       "</style>\n",
       "<table border=\"1\" class=\"dataframe\">\n",
       "  <thead>\n",
       "    <tr style=\"text-align: right;\">\n",
       "      <th></th>\n",
       "      <th>dec-jan-feb-weighted</th>\n",
       "      <th>jan-feb-mar-weighted</th>\n",
       "      <th>feb-mar-apr-weighted</th>\n",
       "      <th>mar-apr-may-weighted</th>\n",
       "      <th>apr-may-jun-weighted</th>\n",
       "      <th>may-jun-jul-weighted</th>\n",
       "      <th>jun-jul-aug-weighted</th>\n",
       "      <th>jul-aug-sep-weighted</th>\n",
       "      <th>aug-sep-oct-weighted</th>\n",
       "      <th>sep-oct-nov-weighted</th>\n",
       "      <th>oct-nov-dec-weighted</th>\n",
       "      <th>nov-dec-jan-weighted</th>\n",
       "    </tr>\n",
       "    <tr>\n",
       "      <th>hour_of_week</th>\n",
       "      <th></th>\n",
       "      <th></th>\n",
       "      <th></th>\n",
       "      <th></th>\n",
       "      <th></th>\n",
       "      <th></th>\n",
       "      <th></th>\n",
       "      <th></th>\n",
       "      <th></th>\n",
       "      <th></th>\n",
       "      <th></th>\n",
       "      <th></th>\n",
       "    </tr>\n",
       "  </thead>\n",
       "  <tbody>\n",
       "    <tr>\n",
       "      <th>1</th>\n",
       "      <td>0</td>\n",
       "      <td>0</td>\n",
       "      <td>0</td>\n",
       "      <td>0</td>\n",
       "      <td>0</td>\n",
       "      <td>0</td>\n",
       "      <td>0</td>\n",
       "      <td>1</td>\n",
       "      <td>1</td>\n",
       "      <td>1</td>\n",
       "      <td>0</td>\n",
       "      <td>0</td>\n",
       "    </tr>\n",
       "    <tr>\n",
       "      <th>2</th>\n",
       "      <td>0</td>\n",
       "      <td>0</td>\n",
       "      <td>0</td>\n",
       "      <td>0</td>\n",
       "      <td>0</td>\n",
       "      <td>0</td>\n",
       "      <td>0</td>\n",
       "      <td>0</td>\n",
       "      <td>0</td>\n",
       "      <td>0</td>\n",
       "      <td>0</td>\n",
       "      <td>0</td>\n",
       "    </tr>\n",
       "    <tr>\n",
       "      <th>3</th>\n",
       "      <td>0</td>\n",
       "      <td>0</td>\n",
       "      <td>0</td>\n",
       "      <td>0</td>\n",
       "      <td>0</td>\n",
       "      <td>0</td>\n",
       "      <td>0</td>\n",
       "      <td>1</td>\n",
       "      <td>0</td>\n",
       "      <td>0</td>\n",
       "      <td>0</td>\n",
       "      <td>0</td>\n",
       "    </tr>\n",
       "    <tr>\n",
       "      <th>4</th>\n",
       "      <td>0</td>\n",
       "      <td>0</td>\n",
       "      <td>1</td>\n",
       "      <td>1</td>\n",
       "      <td>0</td>\n",
       "      <td>0</td>\n",
       "      <td>0</td>\n",
       "      <td>0</td>\n",
       "      <td>0</td>\n",
       "      <td>0</td>\n",
       "      <td>0</td>\n",
       "      <td>0</td>\n",
       "    </tr>\n",
       "    <tr>\n",
       "      <th>5</th>\n",
       "      <td>0</td>\n",
       "      <td>0</td>\n",
       "      <td>0</td>\n",
       "      <td>1</td>\n",
       "      <td>1</td>\n",
       "      <td>1</td>\n",
       "      <td>0</td>\n",
       "      <td>0</td>\n",
       "      <td>0</td>\n",
       "      <td>0</td>\n",
       "      <td>0</td>\n",
       "      <td>0</td>\n",
       "    </tr>\n",
       "  </tbody>\n",
       "</table>\n",
       "</div>"
      ],
      "text/plain": [
       "              dec-jan-feb-weighted  jan-feb-mar-weighted  \\\n",
       "hour_of_week                                               \n",
       "1                                0                     0   \n",
       "2                                0                     0   \n",
       "3                                0                     0   \n",
       "4                                0                     0   \n",
       "5                                0                     0   \n",
       "\n",
       "              feb-mar-apr-weighted  mar-apr-may-weighted  \\\n",
       "hour_of_week                                               \n",
       "1                                0                     0   \n",
       "2                                0                     0   \n",
       "3                                0                     0   \n",
       "4                                1                     1   \n",
       "5                                0                     1   \n",
       "\n",
       "              apr-may-jun-weighted  may-jun-jul-weighted  \\\n",
       "hour_of_week                                               \n",
       "1                                0                     0   \n",
       "2                                0                     0   \n",
       "3                                0                     0   \n",
       "4                                0                     0   \n",
       "5                                1                     1   \n",
       "\n",
       "              jun-jul-aug-weighted  jul-aug-sep-weighted  \\\n",
       "hour_of_week                                               \n",
       "1                                0                     1   \n",
       "2                                0                     0   \n",
       "3                                0                     1   \n",
       "4                                0                     0   \n",
       "5                                0                     0   \n",
       "\n",
       "              aug-sep-oct-weighted  sep-oct-nov-weighted  \\\n",
       "hour_of_week                                               \n",
       "1                                1                     1   \n",
       "2                                0                     0   \n",
       "3                                0                     0   \n",
       "4                                0                     0   \n",
       "5                                0                     0   \n",
       "\n",
       "              oct-nov-dec-weighted  nov-dec-jan-weighted  \n",
       "hour_of_week                                              \n",
       "1                                0                     0  \n",
       "2                                0                     0  \n",
       "3                                0                     0  \n",
       "4                                0                     0  \n",
       "5                                0                     0  "
      ]
     },
     "execution_count": 30,
     "metadata": {},
     "output_type": "execute_result"
    }
   ],
   "source": [
    "occupancy_lookup_hourly = eemeter.estimate_hour_of_week_occupancy(\n",
    "    preliminary_design_matrix_hourly,\n",
    "    segmentation=segmentation_hourly\n",
    ")\n",
    "occupancy_lookup_hourly.head()"
   ]
  },
  {
   "cell_type": "markdown",
   "metadata": {},
   "source": [
    "### Fitting segmented temperature bins\n",
    "\n",
    "Temperature bins are also fit such that each bin has sufficient temperature reading counts. This is also done for each segment, so, like above, results are also returned as a dataframe with one segment of results per column."
   ]
  },
  {
   "cell_type": "code",
   "execution_count": 31,
   "metadata": {},
   "outputs": [
    {
     "data": {
      "text/html": [
       "<div>\n",
       "<style scoped>\n",
       "    .dataframe tbody tr th:only-of-type {\n",
       "        vertical-align: middle;\n",
       "    }\n",
       "\n",
       "    .dataframe tbody tr th {\n",
       "        vertical-align: top;\n",
       "    }\n",
       "\n",
       "    .dataframe thead th {\n",
       "        text-align: right;\n",
       "    }\n",
       "</style>\n",
       "<table border=\"1\" class=\"dataframe\">\n",
       "  <thead>\n",
       "    <tr style=\"text-align: right;\">\n",
       "      <th></th>\n",
       "      <th>dec-jan-feb-weighted</th>\n",
       "      <th>jan-feb-mar-weighted</th>\n",
       "      <th>feb-mar-apr-weighted</th>\n",
       "      <th>mar-apr-may-weighted</th>\n",
       "      <th>apr-may-jun-weighted</th>\n",
       "      <th>may-jun-jul-weighted</th>\n",
       "      <th>jun-jul-aug-weighted</th>\n",
       "      <th>jul-aug-sep-weighted</th>\n",
       "      <th>aug-sep-oct-weighted</th>\n",
       "      <th>sep-oct-nov-weighted</th>\n",
       "      <th>oct-nov-dec-weighted</th>\n",
       "      <th>nov-dec-jan-weighted</th>\n",
       "    </tr>\n",
       "    <tr>\n",
       "      <th>bin_endpoints</th>\n",
       "      <th></th>\n",
       "      <th></th>\n",
       "      <th></th>\n",
       "      <th></th>\n",
       "      <th></th>\n",
       "      <th></th>\n",
       "      <th></th>\n",
       "      <th></th>\n",
       "      <th></th>\n",
       "      <th></th>\n",
       "      <th></th>\n",
       "      <th></th>\n",
       "    </tr>\n",
       "  </thead>\n",
       "  <tbody>\n",
       "    <tr>\n",
       "      <th>30</th>\n",
       "      <td>True</td>\n",
       "      <td>True</td>\n",
       "      <td>True</td>\n",
       "      <td>True</td>\n",
       "      <td>False</td>\n",
       "      <td>False</td>\n",
       "      <td>False</td>\n",
       "      <td>False</td>\n",
       "      <td>False</td>\n",
       "      <td>True</td>\n",
       "      <td>True</td>\n",
       "      <td>True</td>\n",
       "    </tr>\n",
       "    <tr>\n",
       "      <th>45</th>\n",
       "      <td>True</td>\n",
       "      <td>True</td>\n",
       "      <td>True</td>\n",
       "      <td>True</td>\n",
       "      <td>True</td>\n",
       "      <td>False</td>\n",
       "      <td>False</td>\n",
       "      <td>False</td>\n",
       "      <td>True</td>\n",
       "      <td>True</td>\n",
       "      <td>True</td>\n",
       "      <td>True</td>\n",
       "    </tr>\n",
       "    <tr>\n",
       "      <th>55</th>\n",
       "      <td>True</td>\n",
       "      <td>True</td>\n",
       "      <td>True</td>\n",
       "      <td>True</td>\n",
       "      <td>True</td>\n",
       "      <td>True</td>\n",
       "      <td>False</td>\n",
       "      <td>False</td>\n",
       "      <td>True</td>\n",
       "      <td>True</td>\n",
       "      <td>True</td>\n",
       "      <td>True</td>\n",
       "    </tr>\n",
       "    <tr>\n",
       "      <th>65</th>\n",
       "      <td>False</td>\n",
       "      <td>True</td>\n",
       "      <td>True</td>\n",
       "      <td>True</td>\n",
       "      <td>True</td>\n",
       "      <td>True</td>\n",
       "      <td>True</td>\n",
       "      <td>True</td>\n",
       "      <td>True</td>\n",
       "      <td>True</td>\n",
       "      <td>True</td>\n",
       "      <td>True</td>\n",
       "    </tr>\n",
       "    <tr>\n",
       "      <th>75</th>\n",
       "      <td>False</td>\n",
       "      <td>False</td>\n",
       "      <td>True</td>\n",
       "      <td>True</td>\n",
       "      <td>True</td>\n",
       "      <td>True</td>\n",
       "      <td>True</td>\n",
       "      <td>True</td>\n",
       "      <td>True</td>\n",
       "      <td>True</td>\n",
       "      <td>True</td>\n",
       "      <td>False</td>\n",
       "    </tr>\n",
       "    <tr>\n",
       "      <th>90</th>\n",
       "      <td>False</td>\n",
       "      <td>False</td>\n",
       "      <td>False</td>\n",
       "      <td>False</td>\n",
       "      <td>True</td>\n",
       "      <td>True</td>\n",
       "      <td>True</td>\n",
       "      <td>True</td>\n",
       "      <td>True</td>\n",
       "      <td>False</td>\n",
       "      <td>False</td>\n",
       "      <td>False</td>\n",
       "    </tr>\n",
       "  </tbody>\n",
       "</table>\n",
       "</div>"
      ],
      "text/plain": [
       "               dec-jan-feb-weighted  jan-feb-mar-weighted  \\\n",
       "bin_endpoints                                               \n",
       "30                             True                  True   \n",
       "45                             True                  True   \n",
       "55                             True                  True   \n",
       "65                            False                  True   \n",
       "75                            False                 False   \n",
       "90                            False                 False   \n",
       "\n",
       "               feb-mar-apr-weighted  mar-apr-may-weighted  \\\n",
       "bin_endpoints                                               \n",
       "30                             True                  True   \n",
       "45                             True                  True   \n",
       "55                             True                  True   \n",
       "65                             True                  True   \n",
       "75                             True                  True   \n",
       "90                            False                 False   \n",
       "\n",
       "               apr-may-jun-weighted  may-jun-jul-weighted  \\\n",
       "bin_endpoints                                               \n",
       "30                            False                 False   \n",
       "45                             True                 False   \n",
       "55                             True                  True   \n",
       "65                             True                  True   \n",
       "75                             True                  True   \n",
       "90                             True                  True   \n",
       "\n",
       "               jun-jul-aug-weighted  jul-aug-sep-weighted  \\\n",
       "bin_endpoints                                               \n",
       "30                            False                 False   \n",
       "45                            False                 False   \n",
       "55                            False                 False   \n",
       "65                             True                  True   \n",
       "75                             True                  True   \n",
       "90                             True                  True   \n",
       "\n",
       "               aug-sep-oct-weighted  sep-oct-nov-weighted  \\\n",
       "bin_endpoints                                               \n",
       "30                            False                  True   \n",
       "45                             True                  True   \n",
       "55                             True                  True   \n",
       "65                             True                  True   \n",
       "75                             True                  True   \n",
       "90                             True                 False   \n",
       "\n",
       "               oct-nov-dec-weighted  nov-dec-jan-weighted  \n",
       "bin_endpoints                                              \n",
       "30                             True                  True  \n",
       "45                             True                  True  \n",
       "55                             True                  True  \n",
       "65                             True                  True  \n",
       "75                             True                 False  \n",
       "90                            False                 False  "
      ]
     },
     "execution_count": 31,
     "metadata": {},
     "output_type": "execute_result"
    }
   ],
   "source": [
    "temperature_bins_hourly = eemeter.fit_temperature_bins(\n",
    "    preliminary_design_matrix_hourly,\n",
    "    segmentation=segmentation_hourly,\n",
    "    default_bins=[30, 45, 55, 65, 75, 90],\n",
    "    min_temperature_count=20\n",
    ")\n",
    "temperature_bins_hourly"
   ]
  },
  {
   "cell_type": "markdown",
   "metadata": {},
   "source": [
    "With these in hand, now we can combine them into a segmented dataset using the helper function `iterate_segmented_dataset` and a prefabricated feature processor `caltrack_hourly_fit_feature_processor` which is provided to assist creating the segmented dataset given a preliminary design matrix of the form created above. The feature processor transforms the each segment of the dataset using the occupancy lookup and temperature bins created above."
   ]
  },
  {
   "cell_type": "code",
   "execution_count": 32,
   "metadata": {},
   "outputs": [],
   "source": [
    "segmented_design_matrices_hourly = {\n",
    "    segment_name: segmented_data\n",
    "    for segment_name, segmented_data in eemeter.iterate_segmented_dataset(\n",
    "        preliminary_design_matrix_hourly, segmentation=segmentation_hourly,\n",
    "        feature_processor=eemeter.caltrack_hourly_fit_feature_processor,\n",
    "        feature_processor_kwargs={\n",
    "            'occupancy_lookup': occupancy_lookup_hourly,\n",
    "            'temperature_bins': temperature_bins_hourly,\n",
    "        },\n",
    "    )\n",
    "}"
   ]
  },
  {
   "cell_type": "markdown",
   "metadata": {},
   "source": [
    "## Running the CalTRACK Billing/Daily Methods\n",
    "\n",
    "The following use the design matrices that we created in the previous steps and uses them with the CalTRACK method. This gives us a baseline model, which we will dig into a bit."
   ]
  },
  {
   "cell_type": "code",
   "execution_count": 33,
   "metadata": {},
   "outputs": [],
   "source": [
    "baseline_model_fit_daily = eemeter.caltrack_method(\n",
    "    design_matrix_daily,\n",
    ")"
   ]
  },
  {
   "cell_type": "code",
   "execution_count": 34,
   "metadata": {},
   "outputs": [
    {
     "name": "stderr",
     "output_type": "stream",
     "text": [
      "/usr/local/lib/python3.6/site-packages/statsmodels/base/model.py:1100: RuntimeWarning: invalid value encountered in true_divide\n",
      "  return self.params / self.bse\n",
      "/usr/local/lib/python3.6/site-packages/scipy/stats/_distn_infrastructure.py:879: RuntimeWarning: invalid value encountered in greater\n",
      "  return (self.a < x) & (x < self.b)\n",
      "/usr/local/lib/python3.6/site-packages/scipy/stats/_distn_infrastructure.py:879: RuntimeWarning: invalid value encountered in less\n",
      "  return (self.a < x) & (x < self.b)\n",
      "/usr/local/lib/python3.6/site-packages/scipy/stats/_distn_infrastructure.py:1821: RuntimeWarning: invalid value encountered in less_equal\n",
      "  cond2 = cond0 & (x <= self.a)\n"
     ]
    }
   ],
   "source": [
    "baseline_model_fit_billing = eemeter.caltrack_method(\n",
    "    design_matrix_billing,\n",
    "    use_billing_presets=True,\n",
    "    weights_col='n_days_kept',\n",
    ")"
   ]
  },
  {
   "cell_type": "markdown",
   "metadata": {},
   "source": [
    "## Running the CalTRACK Hourly Methods"
   ]
  },
  {
   "cell_type": "code",
   "execution_count": 39,
   "metadata": {},
   "outputs": [],
   "source": [
    "# TODO make a helper method for this which provides the static defaults.\n",
    "\n",
    "baseline_model_fit_hourly = eemeter.fit_segmented_model(\n",
    "    segmented_design_matrices_hourly,\n",
    "    eemeter.fit_hourly_model_segment,\n",
    "    prediction_segment_type='one_month',\n",
    "    prediction_segment_name_mapping={\n",
    "        'jan': 'dec-jan-feb-weighted',\n",
    "        'feb': 'jan-feb-mar-weighted',\n",
    "        'mar': 'feb-mar-apr-weighted',\n",
    "        'apr': 'mar-apr-may-weighted',\n",
    "        'may': 'apr-may-jun-weighted',\n",
    "        'jun': 'may-jun-jul-weighted',\n",
    "        'jul': 'jun-jul-aug-weighted',\n",
    "        'aug': 'jul-aug-sep-weighted',\n",
    "        'sep': 'aug-sep-oct-weighted',\n",
    "        'oct': 'sep-oct-nov-weighted',\n",
    "        'nov': 'oct-nov-dec-weighted',\n",
    "        'dec': 'nov-dec-jan-weighted',\n",
    "    },\n",
    "    prediction_feature_processor=eemeter.caltrack_hourly_prediction_feature_processor,\n",
    "    prediction_feature_processor_kwargs={\n",
    "        'occupancy_lookup': occupancy_lookup_hourly,\n",
    "        'temperature_bins': temperature_bins_hourly,\n",
    "    },\n",
    ")"
   ]
  },
  {
   "cell_type": "markdown",
   "metadata": {},
   "source": [
    "TODO: add prediction sections"
   ]
  },
  {
   "cell_type": "markdown",
   "metadata": {},
   "source": [
    "## Plotting (part 2)\n",
    "\n",
    "### Daily and billing method plots\n",
    "\n",
    "To see what this model fit looks like, we can plot the result against the energy signature."
   ]
  },
  {
   "cell_type": "code",
   "execution_count": 36,
   "metadata": {},
   "outputs": [
    {
     "ename": "ValueError",
     "evalue": "x and y must have same first dimension, but have shapes (62,) and (3,)",
     "output_type": "error",
     "traceback": [
      "\u001b[0;31m---------------------------------------------------------------------------\u001b[0m",
      "\u001b[0;31mValueError\u001b[0m                                Traceback (most recent call last)",
      "\u001b[0;32m<ipython-input-36-bb61b297f188>\u001b[0m in \u001b[0;36m<module>\u001b[0;34m()\u001b[0m\n\u001b[1;32m      1\u001b[0m \u001b[0max\u001b[0m \u001b[0;34m=\u001b[0m \u001b[0meemeter\u001b[0m\u001b[0;34m.\u001b[0m\u001b[0mplot_energy_signature\u001b[0m\u001b[0;34m(\u001b[0m\u001b[0mmeter_data_billing\u001b[0m\u001b[0;34m,\u001b[0m \u001b[0mtemperature_data_billing\u001b[0m\u001b[0;34m)\u001b[0m\u001b[0;34m\u001b[0m\u001b[0m\n\u001b[0;32m----> 2\u001b[0;31m \u001b[0mbaseline_model_fit_billing\u001b[0m\u001b[0;34m.\u001b[0m\u001b[0mplot\u001b[0m\u001b[0;34m(\u001b[0m\u001b[0max\u001b[0m\u001b[0;34m=\u001b[0m\u001b[0max\u001b[0m\u001b[0;34m,\u001b[0m \u001b[0mtemp_range\u001b[0m\u001b[0;34m=\u001b[0m\u001b[0;34m(\u001b[0m\u001b[0;36m18\u001b[0m\u001b[0;34m,\u001b[0m \u001b[0;36m80\u001b[0m\u001b[0;34m)\u001b[0m\u001b[0;34m)\u001b[0m\u001b[0;34m\u001b[0m\u001b[0m\n\u001b[0m",
      "\u001b[0;32m/app/eemeter/api.py\u001b[0m in \u001b[0;36mplot\u001b[0;34m(self, ax, title, figsize, with_candidates, candidate_alpha, temp_range)\u001b[0m\n\u001b[1;32m    348\u001b[0m             \u001b[0;32mfor\u001b[0m \u001b[0mcandidate\u001b[0m \u001b[0;32min\u001b[0m \u001b[0mself\u001b[0m\u001b[0;34m.\u001b[0m\u001b[0mcandidates\u001b[0m\u001b[0;34m:\u001b[0m\u001b[0;34m\u001b[0m\u001b[0m\n\u001b[1;32m    349\u001b[0m                 \u001b[0mcandidate\u001b[0m\u001b[0;34m.\u001b[0m\u001b[0mplot\u001b[0m\u001b[0;34m(\u001b[0m\u001b[0max\u001b[0m\u001b[0;34m=\u001b[0m\u001b[0max\u001b[0m\u001b[0;34m,\u001b[0m \u001b[0mtemp_range\u001b[0m\u001b[0;34m=\u001b[0m\u001b[0mtemp_range\u001b[0m\u001b[0;34m,\u001b[0m \u001b[0malpha\u001b[0m\u001b[0;34m=\u001b[0m\u001b[0mcandidate_alpha\u001b[0m\u001b[0;34m)\u001b[0m\u001b[0;34m\u001b[0m\u001b[0m\n\u001b[0;32m--> 350\u001b[0;31m         \u001b[0mself\u001b[0m\u001b[0;34m.\u001b[0m\u001b[0mmodel\u001b[0m\u001b[0;34m.\u001b[0m\u001b[0mplot\u001b[0m\u001b[0;34m(\u001b[0m\u001b[0max\u001b[0m\u001b[0;34m=\u001b[0m\u001b[0max\u001b[0m\u001b[0;34m,\u001b[0m \u001b[0mbest\u001b[0m\u001b[0;34m=\u001b[0m\u001b[0;32mTrue\u001b[0m\u001b[0;34m,\u001b[0m \u001b[0mtemp_range\u001b[0m\u001b[0;34m=\u001b[0m\u001b[0mtemp_range\u001b[0m\u001b[0;34m)\u001b[0m\u001b[0;34m\u001b[0m\u001b[0m\n\u001b[0m\u001b[1;32m    351\u001b[0m \u001b[0;34m\u001b[0m\u001b[0m\n\u001b[1;32m    352\u001b[0m         \u001b[0;32mif\u001b[0m \u001b[0mtitle\u001b[0m \u001b[0;32mis\u001b[0m \u001b[0;32mnot\u001b[0m \u001b[0;32mNone\u001b[0m\u001b[0;34m:\u001b[0m\u001b[0;34m\u001b[0m\u001b[0m\n",
      "\u001b[0;32m/app/eemeter/api.py\u001b[0m in \u001b[0;36mplot\u001b[0;34m(self, *args, **kwargs)\u001b[0m\n\u001b[1;32m    122\u001b[0m             )\n\u001b[1;32m    123\u001b[0m         \u001b[0;32melse\u001b[0m\u001b[0;34m:\u001b[0m\u001b[0;34m\u001b[0m\u001b[0m\n\u001b[0;32m--> 124\u001b[0;31m             \u001b[0;32mreturn\u001b[0m \u001b[0mself\u001b[0m\u001b[0;34m.\u001b[0m\u001b[0mplot_func\u001b[0m\u001b[0;34m(\u001b[0m\u001b[0mself\u001b[0m\u001b[0;34m,\u001b[0m \u001b[0;34m*\u001b[0m\u001b[0margs\u001b[0m\u001b[0;34m,\u001b[0m \u001b[0;34m**\u001b[0m\u001b[0mkwargs\u001b[0m\u001b[0;34m)\u001b[0m\u001b[0;34m\u001b[0m\u001b[0m\n\u001b[0m\u001b[1;32m    125\u001b[0m \u001b[0;34m\u001b[0m\u001b[0m\n\u001b[1;32m    126\u001b[0m \u001b[0;34m\u001b[0m\u001b[0m\n",
      "\u001b[0;32m/app/eemeter/caltrack.py\u001b[0m in \u001b[0;36mplot_caltrack_candidate\u001b[0;34m(candidate, best, ax, title, figsize, temp_range, alpha, **kwargs)\u001b[0m\n\u001b[1;32m   1510\u001b[0m     \u001b[0mplot_kwargs\u001b[0m\u001b[0;34m.\u001b[0m\u001b[0mupdate\u001b[0m\u001b[0;34m(\u001b[0m\u001b[0mkwargs\u001b[0m\u001b[0;34m)\u001b[0m\u001b[0;34m\u001b[0m\u001b[0m\n\u001b[1;32m   1511\u001b[0m \u001b[0;34m\u001b[0m\u001b[0m\n\u001b[0;32m-> 1512\u001b[0;31m     \u001b[0max\u001b[0m\u001b[0;34m.\u001b[0m\u001b[0mplot\u001b[0m\u001b[0;34m(\u001b[0m\u001b[0mtemps\u001b[0m\u001b[0;34m,\u001b[0m \u001b[0mprediction\u001b[0m\u001b[0;34m,\u001b[0m \u001b[0;34m**\u001b[0m\u001b[0mplot_kwargs\u001b[0m\u001b[0;34m)\u001b[0m\u001b[0;34m\u001b[0m\u001b[0m\n\u001b[0m\u001b[1;32m   1513\u001b[0m \u001b[0;34m\u001b[0m\u001b[0m\n\u001b[1;32m   1514\u001b[0m     \u001b[0;32mif\u001b[0m \u001b[0mtitle\u001b[0m \u001b[0;32mis\u001b[0m \u001b[0;32mnot\u001b[0m \u001b[0;32mNone\u001b[0m\u001b[0;34m:\u001b[0m\u001b[0;34m\u001b[0m\u001b[0m\n",
      "\u001b[0;32m/usr/local/lib/python3.6/site-packages/matplotlib/__init__.py\u001b[0m in \u001b[0;36minner\u001b[0;34m(ax, *args, **kwargs)\u001b[0m\n\u001b[1;32m   1865\u001b[0m                         \u001b[0;34m\"the Matplotlib list!)\"\u001b[0m \u001b[0;34m%\u001b[0m \u001b[0;34m(\u001b[0m\u001b[0mlabel_namer\u001b[0m\u001b[0;34m,\u001b[0m \u001b[0mfunc\u001b[0m\u001b[0;34m.\u001b[0m\u001b[0m__name__\u001b[0m\u001b[0;34m)\u001b[0m\u001b[0;34m,\u001b[0m\u001b[0;34m\u001b[0m\u001b[0m\n\u001b[1;32m   1866\u001b[0m                         RuntimeWarning, stacklevel=2)\n\u001b[0;32m-> 1867\u001b[0;31m             \u001b[0;32mreturn\u001b[0m \u001b[0mfunc\u001b[0m\u001b[0;34m(\u001b[0m\u001b[0max\u001b[0m\u001b[0;34m,\u001b[0m \u001b[0;34m*\u001b[0m\u001b[0margs\u001b[0m\u001b[0;34m,\u001b[0m \u001b[0;34m**\u001b[0m\u001b[0mkwargs\u001b[0m\u001b[0;34m)\u001b[0m\u001b[0;34m\u001b[0m\u001b[0m\n\u001b[0m\u001b[1;32m   1868\u001b[0m \u001b[0;34m\u001b[0m\u001b[0m\n\u001b[1;32m   1869\u001b[0m         inner.__doc__ = _add_data_doc(inner.__doc__,\n",
      "\u001b[0;32m/usr/local/lib/python3.6/site-packages/matplotlib/axes/_axes.py\u001b[0m in \u001b[0;36mplot\u001b[0;34m(self, *args, **kwargs)\u001b[0m\n\u001b[1;32m   1526\u001b[0m         \u001b[0mkwargs\u001b[0m \u001b[0;34m=\u001b[0m \u001b[0mcbook\u001b[0m\u001b[0;34m.\u001b[0m\u001b[0mnormalize_kwargs\u001b[0m\u001b[0;34m(\u001b[0m\u001b[0mkwargs\u001b[0m\u001b[0;34m,\u001b[0m \u001b[0m_alias_map\u001b[0m\u001b[0;34m)\u001b[0m\u001b[0;34m\u001b[0m\u001b[0m\n\u001b[1;32m   1527\u001b[0m \u001b[0;34m\u001b[0m\u001b[0m\n\u001b[0;32m-> 1528\u001b[0;31m         \u001b[0;32mfor\u001b[0m \u001b[0mline\u001b[0m \u001b[0;32min\u001b[0m \u001b[0mself\u001b[0m\u001b[0;34m.\u001b[0m\u001b[0m_get_lines\u001b[0m\u001b[0;34m(\u001b[0m\u001b[0;34m*\u001b[0m\u001b[0margs\u001b[0m\u001b[0;34m,\u001b[0m \u001b[0;34m**\u001b[0m\u001b[0mkwargs\u001b[0m\u001b[0;34m)\u001b[0m\u001b[0;34m:\u001b[0m\u001b[0;34m\u001b[0m\u001b[0m\n\u001b[0m\u001b[1;32m   1529\u001b[0m             \u001b[0mself\u001b[0m\u001b[0;34m.\u001b[0m\u001b[0madd_line\u001b[0m\u001b[0;34m(\u001b[0m\u001b[0mline\u001b[0m\u001b[0;34m)\u001b[0m\u001b[0;34m\u001b[0m\u001b[0m\n\u001b[1;32m   1530\u001b[0m             \u001b[0mlines\u001b[0m\u001b[0;34m.\u001b[0m\u001b[0mappend\u001b[0m\u001b[0;34m(\u001b[0m\u001b[0mline\u001b[0m\u001b[0;34m)\u001b[0m\u001b[0;34m\u001b[0m\u001b[0m\n",
      "\u001b[0;32m/usr/local/lib/python3.6/site-packages/matplotlib/axes/_base.py\u001b[0m in \u001b[0;36m_grab_next_args\u001b[0;34m(self, *args, **kwargs)\u001b[0m\n\u001b[1;32m    404\u001b[0m                 \u001b[0mthis\u001b[0m \u001b[0;34m+=\u001b[0m \u001b[0margs\u001b[0m\u001b[0;34m[\u001b[0m\u001b[0;36m0\u001b[0m\u001b[0;34m]\u001b[0m\u001b[0;34m,\u001b[0m\u001b[0;34m\u001b[0m\u001b[0m\n\u001b[1;32m    405\u001b[0m                 \u001b[0margs\u001b[0m \u001b[0;34m=\u001b[0m \u001b[0margs\u001b[0m\u001b[0;34m[\u001b[0m\u001b[0;36m1\u001b[0m\u001b[0;34m:\u001b[0m\u001b[0;34m]\u001b[0m\u001b[0;34m\u001b[0m\u001b[0m\n\u001b[0;32m--> 406\u001b[0;31m             \u001b[0;32mfor\u001b[0m \u001b[0mseg\u001b[0m \u001b[0;32min\u001b[0m \u001b[0mself\u001b[0m\u001b[0;34m.\u001b[0m\u001b[0m_plot_args\u001b[0m\u001b[0;34m(\u001b[0m\u001b[0mthis\u001b[0m\u001b[0;34m,\u001b[0m \u001b[0mkwargs\u001b[0m\u001b[0;34m)\u001b[0m\u001b[0;34m:\u001b[0m\u001b[0;34m\u001b[0m\u001b[0m\n\u001b[0m\u001b[1;32m    407\u001b[0m                 \u001b[0;32myield\u001b[0m \u001b[0mseg\u001b[0m\u001b[0;34m\u001b[0m\u001b[0m\n\u001b[1;32m    408\u001b[0m \u001b[0;34m\u001b[0m\u001b[0m\n",
      "\u001b[0;32m/usr/local/lib/python3.6/site-packages/matplotlib/axes/_base.py\u001b[0m in \u001b[0;36m_plot_args\u001b[0;34m(self, tup, kwargs)\u001b[0m\n\u001b[1;32m    381\u001b[0m             \u001b[0mx\u001b[0m\u001b[0;34m,\u001b[0m \u001b[0my\u001b[0m \u001b[0;34m=\u001b[0m \u001b[0mindex_of\u001b[0m\u001b[0;34m(\u001b[0m\u001b[0mtup\u001b[0m\u001b[0;34m[\u001b[0m\u001b[0;34m-\u001b[0m\u001b[0;36m1\u001b[0m\u001b[0;34m]\u001b[0m\u001b[0;34m)\u001b[0m\u001b[0;34m\u001b[0m\u001b[0m\n\u001b[1;32m    382\u001b[0m \u001b[0;34m\u001b[0m\u001b[0m\n\u001b[0;32m--> 383\u001b[0;31m         \u001b[0mx\u001b[0m\u001b[0;34m,\u001b[0m \u001b[0my\u001b[0m \u001b[0;34m=\u001b[0m \u001b[0mself\u001b[0m\u001b[0;34m.\u001b[0m\u001b[0m_xy_from_xy\u001b[0m\u001b[0;34m(\u001b[0m\u001b[0mx\u001b[0m\u001b[0;34m,\u001b[0m \u001b[0my\u001b[0m\u001b[0;34m)\u001b[0m\u001b[0;34m\u001b[0m\u001b[0m\n\u001b[0m\u001b[1;32m    384\u001b[0m \u001b[0;34m\u001b[0m\u001b[0m\n\u001b[1;32m    385\u001b[0m         \u001b[0;32mif\u001b[0m \u001b[0mself\u001b[0m\u001b[0;34m.\u001b[0m\u001b[0mcommand\u001b[0m \u001b[0;34m==\u001b[0m \u001b[0;34m'plot'\u001b[0m\u001b[0;34m:\u001b[0m\u001b[0;34m\u001b[0m\u001b[0m\n",
      "\u001b[0;32m/usr/local/lib/python3.6/site-packages/matplotlib/axes/_base.py\u001b[0m in \u001b[0;36m_xy_from_xy\u001b[0;34m(self, x, y)\u001b[0m\n\u001b[1;32m    240\u001b[0m         \u001b[0;32mif\u001b[0m \u001b[0mx\u001b[0m\u001b[0;34m.\u001b[0m\u001b[0mshape\u001b[0m\u001b[0;34m[\u001b[0m\u001b[0;36m0\u001b[0m\u001b[0;34m]\u001b[0m \u001b[0;34m!=\u001b[0m \u001b[0my\u001b[0m\u001b[0;34m.\u001b[0m\u001b[0mshape\u001b[0m\u001b[0;34m[\u001b[0m\u001b[0;36m0\u001b[0m\u001b[0;34m]\u001b[0m\u001b[0;34m:\u001b[0m\u001b[0;34m\u001b[0m\u001b[0m\n\u001b[1;32m    241\u001b[0m             raise ValueError(\"x and y must have same first dimension, but \"\n\u001b[0;32m--> 242\u001b[0;31m                              \"have shapes {} and {}\".format(x.shape, y.shape))\n\u001b[0m\u001b[1;32m    243\u001b[0m         \u001b[0;32mif\u001b[0m \u001b[0mx\u001b[0m\u001b[0;34m.\u001b[0m\u001b[0mndim\u001b[0m \u001b[0;34m>\u001b[0m \u001b[0;36m2\u001b[0m \u001b[0;32mor\u001b[0m \u001b[0my\u001b[0m\u001b[0;34m.\u001b[0m\u001b[0mndim\u001b[0m \u001b[0;34m>\u001b[0m \u001b[0;36m2\u001b[0m\u001b[0;34m:\u001b[0m\u001b[0;34m\u001b[0m\u001b[0m\n\u001b[1;32m    244\u001b[0m             raise ValueError(\"x and y can be no greater than 2-D, but have \"\n",
      "\u001b[0;31mValueError\u001b[0m: x and y must have same first dimension, but have shapes (62,) and (3,)"
     ]
    },
    {
     "data": {
      "image/png": "[encoded data removed]",
      "text/plain": [
       "<Figure size 720x288 with 1 Axes>"
      ]
     },
     "metadata": {},
     "output_type": "display_data"
    }
   ],
   "source": [
    "ax = eemeter.plot_energy_signature(meter_data_billing, temperature_data_billing)\n",
    "baseline_model_fit_billing.plot(ax=ax, temp_range=(18, 80))"
   ]
  },
  {
   "cell_type": "code",
   "execution_count": null,
   "metadata": {},
   "outputs": [],
   "source": [
    "ax = eemeter.plot_energy_signature(meter_data_daily, temperature_data_daily)\n",
    "baseline_model_fit_daily.plot(ax=ax, temp_range=(-5, 88))"
   ]
  },
  {
   "cell_type": "markdown",
   "metadata": {},
   "source": [
    "We can also compare the two models and see that there is a slight, but not drastic, difference between them."
   ]
  },
  {
   "cell_type": "code",
   "execution_count": null,
   "metadata": {},
   "outputs": [],
   "source": [
    "ax = baseline_model_fit_daily.model.plot(color='C0', best=True, label='daily')\n",
    "ax = baseline_model_fit_billing.model.plot(ax=ax, color='C1', best=True, label='billing')\n",
    "ax.legend()"
   ]
  },
  {
   "cell_type": "markdown",
   "metadata": {},
   "source": [
    "If we're interested in seeing more about models the CalTRACK method tried, we can even plot all the model candidates as well. There are a ton of these, so the reduced alpha makes it a bit easier to see what's going on. Each faint line represents a model that was tried and bested by the (orange) selected model, which had the highest r-squared. Candidates appear green if `QUALIFIED` and red if `DISQUALIFIED`.  A model might be disqualified if it had unphysical (i.e., negative) coefficients."
   ]
  },
  {
   "cell_type": "code",
   "execution_count": null,
   "metadata": {},
   "outputs": [],
   "source": [
    "ax = eemeter.plot_energy_signature(meter_data_billing, temperature_data_billing)\n",
    "baseline_model_fit_billing.plot(\n",
    "    ax=ax, candidate_alpha=0.02,\n",
    "    with_candidates=True, temp_range=(18, 80))"
   ]
  },
  {
   "cell_type": "code",
   "execution_count": null,
   "metadata": {},
   "outputs": [],
   "source": [
    "ax = eemeter.plot_energy_signature(meter_data_daily, temperature_data_daily)\n",
    "baseline_model_fit_daily.plot(\n",
    "    ax=ax, candidate_alpha=0.02,\n",
    "    with_candidates=True, temp_range=(-5, 88))"
   ]
  },
  {
   "cell_type": "markdown",
   "metadata": {},
   "source": [
    "## CalTRACK Hourly plots (TODO)"
   ]
  },
  {
   "cell_type": "markdown",
   "metadata": {},
   "source": [
    "## ModelFit object: status, candidates, warnings, json\n",
    "\n",
    "\n",
    "In addition to being plottable, the model_fit object is an instance of the class [eemeter.ModelFit](http://eemeter.openee.io/api.html#eemeter.ModelFit) and contains a bunch of interesting information about this modeling process. \n",
    "\n",
    "For instance, there's a status. This status is one of the following:\n",
    "\n",
    "- `'SUCCESS'`: qualified model selected.\n",
    "- `'NO MODEL'`: no candidate models qualified.\n",
    "- `'NO DATA'`: no data was given."
   ]
  },
  {
   "cell_type": "code",
   "execution_count": null,
   "metadata": {},
   "outputs": [],
   "source": [
    "baseline_model_fit_billing.status, baseline_model_fit_daily.status"
   ]
  },
  {
   "cell_type": "markdown",
   "metadata": {},
   "source": [
    "There is also a \"best\" candidate model:"
   ]
  },
  {
   "cell_type": "code",
   "execution_count": null,
   "metadata": {},
   "outputs": [],
   "source": [
    "baseline_model_fit_billing.model, baseline_model_fit_daily.model"
   ]
  },
  {
   "cell_type": "markdown",
   "metadata": {},
   "source": [
    "And a list of all candidate models that were tried, many of which have (much) lower r-squared than the best model."
   ]
  },
  {
   "cell_type": "code",
   "execution_count": null,
   "metadata": {},
   "outputs": [],
   "source": [
    "baseline_model_fit_billing.candidates[:5]  # (there are a lot, so only showing the first 5)"
   ]
  },
  {
   "cell_type": "code",
   "execution_count": null,
   "metadata": {},
   "outputs": [],
   "source": [
    "baseline_model_fit_daily.candidates[:5] "
   ]
  },
  {
   "cell_type": "markdown",
   "metadata": {},
   "source": [
    "Any associated warnings on both the model_fit object and the best candidate model object:"
   ]
  },
  {
   "cell_type": "code",
   "execution_count": null,
   "metadata": {},
   "outputs": [],
   "source": [
    "baseline_model_fit_billing.warnings, baseline_model_fit_billing.model.warnings"
   ]
  },
  {
   "cell_type": "code",
   "execution_count": null,
   "metadata": {},
   "outputs": [],
   "source": [
    "baseline_model_fit_daily.warnings, baseline_model_fit_daily.model.warnings"
   ]
  },
  {
   "cell_type": "markdown",
   "metadata": {},
   "source": [
    "The best models don't appear to have any issues but the billing model did (see the faint red lines in the chart above)."
   ]
  },
  {
   "cell_type": "code",
   "execution_count": null,
   "metadata": {},
   "outputs": [],
   "source": [
    "disqualified_candidates = [\n",
    "    candidate\n",
    "    for candidate in baseline_model_fit_billing.candidates\n",
    "    if candidate.status == 'DISQUALIFIED'\n",
    "]  # this is a python list comprehension\n",
    "disqualified_candidates[:10]"
   ]
  },
  {
   "cell_type": "markdown",
   "metadata": {},
   "source": [
    "The warnings associated with the disqualified candidates will be a bit more interesting. For instance, this one was disqualified because the 'beta_hdd' parameter was negative, which is unphysicial behavior that the CalTRACK working group should be considered to be evidence of overfitting:"
   ]
  },
  {
   "cell_type": "code",
   "execution_count": null,
   "metadata": {},
   "outputs": [],
   "source": [
    "import json  # for nice indentation\n",
    "warning = disqualified_candidates[0].warnings[0]\n",
    "print(json.dumps(warning.json(), indent=2))"
   ]
  },
  {
   "cell_type": "markdown",
   "metadata": {},
   "source": [
    "The whole model can be serialized. The `.json(with_candidates=True)` flag will also serialize all candidate models results:"
   ]
  },
  {
   "cell_type": "code",
   "execution_count": null,
   "metadata": {},
   "outputs": [],
   "source": [
    "print(json.dumps(baseline_model_fit_billing.json(), indent=2))"
   ]
  },
  {
   "cell_type": "code",
   "execution_count": null,
   "metadata": {},
   "outputs": [],
   "source": [
    "print(json.dumps(baseline_model_fit_daily.json(), indent=2))"
   ]
  },
  {
   "cell_type": "markdown",
   "metadata": {},
   "source": [
    "## CalTRACK Data Sufficiency\n",
    "\n",
    "Another important part of the CalTRACK methods are the data sufficiency requirements. We can check the data sufficiency requirements of our baseline data. Note that we include the requested end dates to indicate the _intended_ extent of the period should stop at the baseline end date."
   ]
  },
  {
   "cell_type": "code",
   "execution_count": null,
   "metadata": {},
   "outputs": [],
   "source": [
    "baseline_data_sufficiency_billing = eemeter.caltrack_sufficiency_criteria(\n",
    "    baseline_data_billing, requested_start=None, requested_end=baseline_end_date)\n",
    "\n",
    "baseline_data_sufficiency_daily = eemeter.caltrack_sufficiency_criteria(\n",
    "    baseline_data_daily, requested_start=None, requested_end=baseline_end_date)"
   ]
  },
  {
   "cell_type": "code",
   "execution_count": null,
   "metadata": {},
   "outputs": [],
   "source": [
    "baseline_data_sufficiency_billing.warnings"
   ]
  },
  {
   "cell_type": "code",
   "execution_count": null,
   "metadata": {},
   "outputs": [],
   "source": [
    "baseline_data_sufficiency_daily.warnings"
   ]
  },
  {
   "cell_type": "markdown",
   "metadata": {},
   "source": [
    "These warnings carry useful information about the extent of the data sufficiency issues:"
   ]
  },
  {
   "cell_type": "code",
   "execution_count": null,
   "metadata": {},
   "outputs": [],
   "source": [
    "print(json.dumps(baseline_data_sufficiency_billing.json(), indent=2))"
   ]
  },
  {
   "cell_type": "code",
   "execution_count": null,
   "metadata": {},
   "outputs": [],
   "source": [
    "print(json.dumps(baseline_data_sufficiency_daily.json(), indent=2))"
   ]
  },
  {
   "cell_type": "markdown",
   "metadata": {},
   "source": [
    "## Reporting period metered savings\n",
    "\n",
    "Now that we have a handle on our data sufficiency, we can now take this baseline model and project forward into the reporting period. This will allow us to calculate metered savings for the reporting period.\n",
    "\n",
    "First, we need a reporting period. The following gets the reporting period date."
   ]
  },
  {
   "cell_type": "code",
   "execution_count": null,
   "metadata": {},
   "outputs": [],
   "source": [
    "reporting_start_date = metadata_billing['blackout_start_date']"
   ]
  },
  {
   "cell_type": "markdown",
   "metadata": {},
   "source": [
    "Now we filter data for that period:"
   ]
  },
  {
   "cell_type": "code",
   "execution_count": null,
   "metadata": {},
   "outputs": [],
   "source": [
    "reporting_meter_data_billing, warnings = eemeter.get_reporting_data(\n",
    "    meter_data_billing, start=reporting_start_date, max_days=365)\n",
    "\n",
    "reporting_meter_data_daily, warnings = eemeter.get_reporting_data(\n",
    "    meter_data_daily, start=reporting_start_date, max_days=365)"
   ]
  },
  {
   "cell_type": "markdown",
   "metadata": {},
   "source": [
    "The `eemeter.caltrack_metered_savings` method performs the logic of estimating counterfactual baseline reporting period usage. For this, it requires the fitted baseline model, the reporting period meter data (for its index - so that it can be properly joined later), and corresponding temperature data. Note that this method can return results disaggregated into base load, cooling load, or heating load or as the aggregated usage. We do both here for demonstration purposes."
   ]
  },
  {
   "cell_type": "code",
   "execution_count": null,
   "metadata": {},
   "outputs": [],
   "source": [
    "metered_savings_billing = eemeter.caltrack_metered_savings(\n",
    "    baseline_model_fit_billing.model, reporting_meter_data_billing,\n",
    "    temperature_data_billing, with_disaggregated=True\n",
    ")\n",
    "\n",
    "metered_savings_daily = eemeter.caltrack_metered_savings(\n",
    "    baseline_model_fit_daily.model, reporting_meter_data_daily,\n",
    "    temperature_data_daily, with_disaggregated=True\n",
    ")"
   ]
  },
  {
   "cell_type": "markdown",
   "metadata": {},
   "source": [
    "We can join these all into a convenient dataframe."
   ]
  },
  {
   "cell_type": "code",
   "execution_count": null,
   "metadata": {},
   "outputs": [],
   "source": [
    "metered_savings_billing"
   ]
  },
  {
   "cell_type": "code",
   "execution_count": null,
   "metadata": {},
   "outputs": [],
   "source": [
    "metered_savings_billing.plot(figsize=(10, 6))"
   ]
  },
  {
   "cell_type": "code",
   "execution_count": null,
   "metadata": {},
   "outputs": [],
   "source": [
    "metered_savings_daily.head()"
   ]
  },
  {
   "cell_type": "code",
   "execution_count": null,
   "metadata": {},
   "outputs": [],
   "source": [
    "metered_savings_daily.plot(figsize=(10, 6))"
   ]
  },
  {
   "cell_type": "markdown",
   "metadata": {},
   "source": [
    "And compute metered savings!"
   ]
  },
  {
   "cell_type": "code",
   "execution_count": null,
   "metadata": {},
   "outputs": [],
   "source": [
    "total_savings_billing = metered_savings_billing.metered_savings.sum()\n",
    "percent_savings_billing = total_savings_billing / metered_savings_billing.counterfactual_usage.sum() * 100\n",
    "print('Billing: Saved {:.1f} kWh in first year ({:.1f}%)'.format(total_savings_billing, percent_savings_billing))\n",
    "\n",
    "total_savings_daily = metered_savings_daily.metered_savings.sum()\n",
    "percent_savings_daily = total_savings_daily / metered_savings_daily.counterfactual_usage.sum() * 100\n",
    "print('Daily: Saved {:.1f} kWh in first year ({:.1f}%)'.format(total_savings_daily, percent_savings_daily))"
   ]
  },
  {
   "cell_type": "markdown",
   "metadata": {},
   "source": [
    "**NOTE**: These results differ somewhat due to the different lengths of the reporting periods - the billing version of the reporting period was a bit shorter because the billing periods over which we computed savings didn't exactly align with 365 day period we requested, as they did for the daily reporting period data."
   ]
  },
  {
   "cell_type": "markdown",
   "metadata": {},
   "source": [
    "## Annual weather-normalized modeled savings\n",
    "\n",
    "If we want to compute annual weather normalized modeled savings, we'll need a reporting period model. The following code repeats what we did for the baseline period with the reporting period."
   ]
  },
  {
   "cell_type": "code",
   "execution_count": null,
   "metadata": {},
   "outputs": [],
   "source": [
    "reporting_data_billing = eemeter.merge_temperature_data(\n",
    "    reporting_meter_data_billing, temperature_data_billing,\n",
    "    heating_balance_points=range(40, 81),  # a list like this [40, 41, 42, ... 79, 80]\n",
    "    cooling_balance_points=range(50, 91),\n",
    "    data_quality=True,  # add some measures of data quality so we can check data sufficiency later\n",
    "    tolerance=pd.Timedelta('35D'),\n",
    ")\n",
    "\n",
    "reporting_data_daily = eemeter.merge_temperature_data(\n",
    "    reporting_meter_data_daily, temperature_data_daily,\n",
    "    heating_balance_points=range(40, 81),  # a list like this [40, 41, 42, ... 79, 80]\n",
    "    cooling_balance_points=range(50, 91),\n",
    "    data_quality=True,  # add some measures of data quality so we can check data sufficiency later\n",
    ")"
   ]
  },
  {
   "cell_type": "code",
   "execution_count": null,
   "metadata": {},
   "outputs": [],
   "source": [
    "reporting_model_fit_billing = eemeter.caltrack_method(\n",
    "    reporting_data_billing,\n",
    "    use_billing_presets=True,\n",
    "    weights_col='n_days_kept',\n",
    ")\n",
    "reporting_model_fit_daily = eemeter.caltrack_method(\n",
    "    reporting_data_daily,\n",
    ")"
   ]
  },
  {
   "cell_type": "code",
   "execution_count": null,
   "metadata": {},
   "outputs": [],
   "source": [
    "ax = eemeter.plot_energy_signature(meter_data_billing, temperature_data_billing)\n",
    "ax = baseline_model_fit_billing.model.plot(ax=ax, color='C1', best=True, label='baseline', temp_range=(18, 80))\n",
    "ax = reporting_model_fit_billing.model.plot(ax=ax, color='C2', best=True, label='reporting', temp_range=(18, 80))\n",
    "ax.legend()"
   ]
  },
  {
   "cell_type": "code",
   "execution_count": null,
   "metadata": {},
   "outputs": [],
   "source": [
    "ax = eemeter.plot_energy_signature(meter_data_daily, temperature_data_daily)\n",
    "ax = baseline_model_fit_daily.model.plot(ax=ax, color='C1', best=True, label='baseline', temp_range=(-5, 88))\n",
    "ax = reporting_model_fit_daily.model.plot(ax=ax, color='C2', best=True, label='reporting', temp_range=(-5, 88))\n",
    "ax.legend()"
   ]
  },
  {
   "cell_type": "markdown",
   "metadata": {},
   "source": [
    "The last thing we need to do before obtaining annualized and weather-normalized results is to obtain normal year temperature data. For simplicity, let's just call 2017 our \"normal year\". To be completely clear, this is not something you would do in practice, but this demonstrates the functionality. To use real temperature normals, check out the [EEWeather](http://eeweather.openee.io/) package."
   ]
  },
  {
   "cell_type": "code",
   "execution_count": null,
   "metadata": {},
   "outputs": [],
   "source": [
    "normal_year_temperatures = temperature_data_daily[temperature_data_daily.index.year == 2017]\n",
    "result_index = pd.date_range('2017-01-01', periods=365, tz='UTC')"
   ]
  },
  {
   "cell_type": "markdown",
   "metadata": {},
   "source": [
    "Now we are ready to obtain our annualized savings."
   ]
  },
  {
   "cell_type": "code",
   "execution_count": null,
   "metadata": {},
   "outputs": [],
   "source": [
    "annualized_savings_billing = eemeter.caltrack_modeled_savings(\n",
    "    baseline_model_fit_billing.model, reporting_model_fit_billing.model,\n",
    "    result_index, normal_year_temperatures, with_disaggregated=True\n",
    ")\n",
    "\n",
    "annualized_savings_daily = eemeter.caltrack_modeled_savings(\n",
    "    baseline_model_fit_daily.model, reporting_model_fit_daily.model,\n",
    "    result_index, normal_year_temperatures, with_disaggregated=True\n",
    ")"
   ]
  },
  {
   "cell_type": "code",
   "execution_count": null,
   "metadata": {},
   "outputs": [],
   "source": [
    "annualized_savings_billing.head()"
   ]
  },
  {
   "cell_type": "markdown",
   "metadata": {},
   "source": [
    "The following plot demonstrates that in this case, the billing model represents most of the modeled savings as base load savings. This reflects the behavior seen in the model comparison above."
   ]
  },
  {
   "cell_type": "code",
   "execution_count": null,
   "metadata": {},
   "outputs": [],
   "source": [
    "import matplotlib.pyplot as plt\n",
    "fig, axes = plt.subplots(4, 1, figsize=(10, 16))\n",
    "\n",
    "annualized_savings_billing[[\n",
    "    'modeled_baseline_usage',\n",
    "    'modeled_reporting_usage',\n",
    "    'modeled_savings',\n",
    "]].plot(ax=axes[0])\n",
    "axes[0].set_title('Total normalized/annualized savings')\n",
    "\n",
    "annualized_savings_billing[[\n",
    "    'modeled_baseline_cooling_load',\n",
    "    'modeled_reporting_cooling_load',\n",
    "    'modeled_cooling_load_savings',\n",
    "]].plot(ax=axes[1])\n",
    "axes[1].set_title('Modeled cooling load savings')\n",
    "\n",
    "annualized_savings_billing[[\n",
    "    'modeled_baseline_heating_load',\n",
    "    'modeled_reporting_heating_load',\n",
    "    'modeled_heating_load_savings',\n",
    "]].plot(ax=axes[2])\n",
    "axes[2].set_title('Modeled heating load savings')\n",
    "\n",
    "ax = annualized_savings_billing[[\n",
    "    'modeled_baseline_base_load',\n",
    "    'modeled_reporting_base_load',\n",
    "    'modeled_base_load_savings',\n",
    "]].plot(ax=axes[3])\n",
    "axes[3].set_title('Modeled base load savings')\n",
    "lim = axes[3].set_ylim((0, None))\n",
    "\n",
    "plt.show()"
   ]
  },
  {
   "cell_type": "code",
   "execution_count": null,
   "metadata": {},
   "outputs": [],
   "source": [
    "annualized_savings_daily.head()"
   ]
  },
  {
   "cell_type": "code",
   "execution_count": null,
   "metadata": {},
   "outputs": [],
   "source": [
    "import matplotlib.pyplot as plt\n",
    "fig, axes = plt.subplots(4, 1, figsize=(10, 16))\n",
    "\n",
    "annualized_savings_daily[[\n",
    "    'modeled_baseline_usage',\n",
    "    'modeled_reporting_usage',\n",
    "    'modeled_savings',\n",
    "]].plot(ax=axes[0])\n",
    "axes[0].set_title('Total normalized/annualized savings')\n",
    "\n",
    "annualized_savings_daily[[\n",
    "    'modeled_baseline_cooling_load',\n",
    "    'modeled_reporting_cooling_load',\n",
    "    'modeled_cooling_load_savings',\n",
    "]].plot(ax=axes[1])\n",
    "axes[1].set_title('Modeled cooling load savings')\n",
    "\n",
    "annualized_savings_daily[[\n",
    "    'modeled_baseline_heating_load',\n",
    "    'modeled_reporting_heating_load',\n",
    "    'modeled_heating_load_savings',\n",
    "]].plot(ax=axes[2])\n",
    "axes[2].set_title('Modeled heating load savings')\n",
    "\n",
    "ax = annualized_savings_daily[[\n",
    "    'modeled_baseline_base_load',\n",
    "    'modeled_reporting_base_load',\n",
    "    'modeled_base_load_savings',\n",
    "]].plot(ax=axes[3])\n",
    "axes[3].set_title('Modeled base load savings')\n",
    "lim = axes[3].set_ylim((0, None))\n",
    "\n",
    "plt.show()"
   ]
  },
  {
   "cell_type": "markdown",
   "metadata": {},
   "source": [
    "In this case, as totals, the annualized savings look pretty similar to the metered savings."
   ]
  },
  {
   "cell_type": "code",
   "execution_count": null,
   "metadata": {},
   "outputs": [],
   "source": [
    "total_savings_billing = annualized_savings_billing.modeled_savings.sum()\n",
    "percent_savings_billing = total_savings_billing / annualized_savings_billing.modeled_baseline_usage.sum() * 100\n",
    "print('Billing: Saved {:.1f} kWh in first year ({:.1f}%)'.format(total_savings_billing, percent_savings_billing))\n",
    "\n",
    "total_savings_daily = annualized_savings_daily.modeled_savings.sum()\n",
    "percent_savings_daily = total_savings_daily / annualized_savings_daily.modeled_baseline_usage.sum() * 100\n",
    "print('Daily: Saved {:.1f} kWh in first year ({:.1f}%)'.format(total_savings_daily, percent_savings_daily))"
   ]
  },
  {
   "cell_type": "markdown",
   "metadata": {},
   "source": [
    "Next steps\n",
    "----------\n",
    "\n",
    "Congrats! You've finished the basic tutorial. The following are all highly recommended as ways to learn more about open energy efficiency metering:\n",
    "\n",
    " - Read the docs at http://eemeter.openee.io\n",
    " - Match sites or obtain weather data from public sources with [EEWeather](http://eeweather.openee.io)\n",
    " - Try out the eemeter on your own data. You might find these useful: [eemeter data loading methods](http://eemeter.openee.io/api.html#data-loading)\n",
    " - Try another sample.\n",
    "\n",
    "The following prints the names of the other samples to try out with this notebook, if interested:"
   ]
  },
  {
   "cell_type": "code",
   "execution_count": null,
   "metadata": {},
   "outputs": [],
   "source": [
    "eemeter.samples()"
   ]
  }
 ],
 "metadata": {
  "kernelspec": {
   "display_name": "Python 3",
   "language": "python",
   "name": "python3"
  },
  "language_info": {
   "codemirror_mode": {
    "name": "ipython",
    "version": 3
   },
   "file_extension": ".py",
   "mimetype": "text/x-python",
   "name": "python",
   "nbconvert_exporter": "python",
   "pygments_lexer": "ipython3",
   "version": "3.6.6"
  }
 },
 "nbformat": 4,
 "nbformat_minor": 2
}
